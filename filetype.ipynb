{
 "cells": [
  {
   "cell_type": "code",
   "execution_count": 12,
   "id": "debe19fb-ac0a-461d-ada8-ebb06b5849cb",
   "metadata": {},
   "outputs": [
    {
     "data": {
      "text/plain": [
       "'/Users/Rakshit.Lodha'"
      ]
     },
     "execution_count": 12,
     "metadata": {},
     "output_type": "execute_result"
    }
   ],
   "source": [
    "pwd"
   ]
  },
  {
   "cell_type": "code",
   "execution_count": null,
   "id": "ad97056f-d214-4b92-bc80-e16e90ea6a92",
   "metadata": {},
   "outputs": [],
   "source": []
  },
  {
   "cell_type": "code",
   "execution_count": 16,
   "id": "63b88833-02bd-4486-b38d-0390afea558b",
   "metadata": {},
   "outputs": [],
   "source": [
    "import os"
   ]
  },
  {
   "cell_type": "code",
   "execution_count": 17,
   "id": "c40142c2-3503-4a20-af2f-8cf94074953d",
   "metadata": {},
   "outputs": [
    {
     "name": "stdout",
     "output_type": "stream",
     "text": [
      "/Users/Rakshit.Lodha\n"
     ]
    }
   ],
   "source": [
    "print(os.getcwd())"
   ]
  },
  {
   "cell_type": "code",
   "execution_count": 33,
   "id": "b4e92e63-398b-4391-a760-ecd05c233ad1",
   "metadata": {},
   "outputs": [],
   "source": [
    "os.chdir(\"/Users/Rakshit.Lodha/Desktop\")"
   ]
  },
  {
   "cell_type": "code",
   "execution_count": 34,
   "id": "ca34dd56-40b6-4107-b5bd-cc1a6371099e",
   "metadata": {},
   "outputs": [
    {
     "name": "stdout",
     "output_type": "stream",
     "text": [
      "/Users/Rakshit.Lodha/Desktop\n"
     ]
    }
   ],
   "source": [
    "print(os.getcwd())"
   ]
  },
  {
   "cell_type": "code",
   "execution_count": 65,
   "id": "5a7e6ad9-309b-492a-845a-3e40a0787385",
   "metadata": {},
   "outputs": [],
   "source": [
    "f = open(\"f.txt\",\"r\")"
   ]
  },
  {
   "cell_type": "code",
   "execution_count": 66,
   "id": "393f4e31-4a85-4a5b-9eb4-0a7993556e63",
   "metadata": {},
   "outputs": [
    {
     "name": "stdout",
     "output_type": "stream",
     "text": [
      "Learning Python is fun.\n",
      "File handling helps automate work.\n",
      "This is Rakshit’s journey.\n"
     ]
    }
   ],
   "source": [
    "print(f.read())"
   ]
  },
  {
   "cell_type": "code",
   "execution_count": 59,
   "id": "7a4324b9-0133-4470-b1a9-05910a065f19",
   "metadata": {},
   "outputs": [
    {
     "name": "stdout",
     "output_type": "stream",
     "text": [
      "Learning Python is fun.\n",
      "File handling helps automate work.\n",
      "This is Rakshit’s journey.\n"
     ]
    }
   ],
   "source": [
    "with open(\"f.txt\",\"r\") as f:\n",
    "    data = f.read()\n",
    "    print(data)"
   ]
  },
  {
   "cell_type": "code",
   "execution_count": 63,
   "id": "8836a0b4-865a-4add-811a-2a3c7ae27050",
   "metadata": {},
   "outputs": [
    {
     "name": "stdout",
     "output_type": "stream",
     "text": [
      "Learning Python is fun.\n",
      "File handling helps automate work.\n",
      "This is Rakshit’s journey.\n"
     ]
    }
   ],
   "source": [
    "with open(\"f.txt\",\"r\") as f:\n",
    "    for line in f:\n",
    "        print(line.strip())"
   ]
  },
  {
   "cell_type": "code",
   "execution_count": 67,
   "id": "97f983b8-6e08-4e28-9863-e61cac2f9baa",
   "metadata": {},
   "outputs": [
    {
     "data": {
      "text/plain": [
       "20"
      ]
     },
     "execution_count": 67,
     "metadata": {},
     "output_type": "execute_result"
    }
   ],
   "source": [
    "f = open(\"f.txt\", \"w\")\n",
    "f.write(\"Adding one more line\")"
   ]
  },
  {
   "cell_type": "code",
   "execution_count": 81,
   "id": "fc9f3d62-c3ee-4650-8bad-61cf2ce894f1",
   "metadata": {},
   "outputs": [
    {
     "name": "stdout",
     "output_type": "stream",
     "text": [
      "Adding two more linesAdding two more lines\n",
      "Adding two more lines\n"
     ]
    }
   ],
   "source": [
    "with open(\"f.txt\",\"r\") as f:\n",
    "    data = f.read()\n",
    "    print(data)"
   ]
  },
  {
   "cell_type": "code",
   "execution_count": 80,
   "id": "cd61d167-e464-40db-8cb5-abdd4e33f488",
   "metadata": {},
   "outputs": [],
   "source": [
    "with open(\"f.txt\", \"a\") as f:\n",
    "    addition = f.write(\"\\nAdding two more lines\")\n",
    "    # data = addition.read()\n",
    "    # print(data)"
   ]
  },
  {
   "cell_type": "code",
   "execution_count": 82,
   "id": "a359d603-24a1-4e05-a8b8-2ba2c6639122",
   "metadata": {},
   "outputs": [],
   "source": [
    "import os"
   ]
  },
  {
   "cell_type": "code",
   "execution_count": 83,
   "id": "ccb848fc-b295-4225-ab37-0082e246256d",
   "metadata": {},
   "outputs": [
    {
     "name": "stdout",
     "output_type": "stream",
     "text": [
      "['Instructions_ Personalised assignment (BE).docx', 'Addendum to Genius Agreement_25.03.2025 (4) 2 2.docx', 'Addendum to Genius Agreement_25.03.2025 (4) 2.docx', 'esignCommunication.html', 'java_script_practice', 'Screenshot 2025-10-31 at 10.29.18\\u202fAM.png', 'mandate_cancelled.html', 'Health.pdf', 'math_utils.py', 'Assignment Prompt.docx', '.DS_Store', 'html-boilerplate', 'notes.txt', 'Addendum to Genius Agreement_25.03.2025 (4).docx', '.localized', 'Green Team JM Listening story input and APA credit for Hurier model.pptx', 'Investment-Earn-Page.png', 'Screenshot 2025-10-29 at 2.52.40\\u202fPM.png', '~$tes for FA Exam.docx', 'Screenshot 2025-10-28 at 5.43.36\\u202fPM.png', 'Batch 1', 'Decimal – Product Requirements Document (PRD).pdf', 'javascript-exercises', 'agreements', 'Icons.zip', 'Screenshot 2025-10-23 at 10.35.59\\u202fAM.png', 'desktop', '__pycache__', 'bankAccountVerificationSuccess.html', 'lamf.mov', 'Cleaning-Wizards.pptx', 'ET Money_stacked logo (1).png', 'Compliance - Flow', 'ic_blue_tick_white_circle.svg', 'Batch 3.zip', 'myprogram.py', 'existing-genius-member (1).html', 'Batch 2.zip', 'Flow SWP Complianc - Till Payment.pdf', 'lamfLineSetupSuccess (1).html', 'genius-essentials-plan-invoice-for-investment-personality-not-done-email.html', 'Batch 1.zip', 'desktop.pub', 'Screenshot 2025-10-30 at 12.59.47\\u202fPM.png', 'Batch 5.zip', 'mymainpackage', 'Icons', 'Batch 4.zip', 'f.txt', 'app.py', 'filetype.ipynb', 'mymodule.py', 'Screen Recording 2025-10-30 at 12.59.50\\u202fPM.mov', 'BI Model- SFRD_(V04)_V3.0 (1).xlsm', 'tictactoe.ipynb', 'bill-payment-successful.html', 'Batch 4', 'Earn-tax.html', 'GEMBA 31  FA  Group 5 Assignment v2.xls', 'Batch 3', 'docless modification.html', 'Case Study_Greenfild site_Subhasish _25.08.docx', 'Batch 2', 'Batch 5', 'edit_proposition.svg', 'Flow Clear Tax.mov', '.git', 'EG', 'Practice', 'Green team - Assignment_Minhla.docx', 'GI.html', 'ET Money_stacked logo (1) 1.png', 'earn-smart-terms-and -conditions-revised.html', 'genius-essentials-plan-invoice-for-investment-personality-done-email (2).html', 'combined_statement.csv', 'Excel Workshop - GEMBA B31.xlsx', 'Email', 'Y', 'gi_tnc.html', 'Edge cases.pdf', 'Health_1.pdf', 'Flow.pdf']\n"
     ]
    }
   ],
   "source": [
    "print(os.listdir())"
   ]
  },
  {
   "cell_type": "code",
   "execution_count": 84,
   "id": "35088742-6cd0-4fee-bf50-2e158d973544",
   "metadata": {},
   "outputs": [],
   "source": [
    "os.mkdir(\"test_folder\")"
   ]
  },
  {
   "cell_type": "code",
   "execution_count": 86,
   "id": "9383ffad-4138-470c-9085-a6decdd586fe",
   "metadata": {},
   "outputs": [],
   "source": [
    "import shutil"
   ]
  },
  {
   "cell_type": "code",
   "execution_count": 88,
   "id": "67e78db3-f8c1-4e1b-88f5-352541723c5b",
   "metadata": {},
   "outputs": [
    {
     "data": {
      "text/plain": [
       "'/Users/Rakshit.Lodha/Desktop/test_folder/tictactoe.ipynb'"
      ]
     },
     "execution_count": 88,
     "metadata": {},
     "output_type": "execute_result"
    }
   ],
   "source": [
    "shutil.move('/Users/Rakshit.Lodha/Desktop/tictactoe.ipynb', '/Users/Rakshit.Lodha/Desktop/test_folder')"
   ]
  },
  {
   "cell_type": "code",
   "execution_count": null,
   "id": "fb3f90e3-7011-4b46-bb4d-3df3c1326d9a",
   "metadata": {},
   "outputs": [],
   "source": []
  }
 ],
 "metadata": {
  "kernelspec": {
   "display_name": "Python [conda env:base] *",
   "language": "python",
   "name": "conda-base-py"
  },
  "language_info": {
   "codemirror_mode": {
    "name": "ipython",
    "version": 3
   },
   "file_extension": ".py",
   "mimetype": "text/x-python",
   "name": "python",
   "nbconvert_exporter": "python",
   "pygments_lexer": "ipython3",
   "version": "3.13.5"
  }
 },
 "nbformat": 4,
 "nbformat_minor": 5
}
