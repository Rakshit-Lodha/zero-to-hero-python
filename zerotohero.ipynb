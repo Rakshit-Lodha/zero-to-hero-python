{
 "cells": [
  {
   "cell_type": "code",
   "execution_count": 16,
   "id": "39901fec-1969-48b6-a5db-bb22b1293a73",
   "metadata": {},
   "outputs": [
    {
     "data": {
      "text/plain": [
       "'r*****t@domain.com'"
      ]
     },
     "execution_count": 16,
     "metadata": {},
     "output_type": "execute_result"
    }
   ],
   "source": [
    "email = \"rakshit@domain.com\"\n",
    "email[0]+len(email[-17:-12])*\"*\"+email[-12]+\"@domain.com\""
   ]
  },
  {
   "cell_type": "code",
   "execution_count": 22,
   "id": "e3eb8d4d-c495-4300-b8d8-094d1b25aa5b",
   "metadata": {},
   "outputs": [
    {
     "name": "stdout",
     "output_type": "stream",
     "text": [
      "r*****t@domain.com\n"
     ]
    }
   ],
   "source": [
    "email = \"rakshit@domain.com\"\n",
    "\n",
    "split_email = email.split(\"@\")\n",
    "\n",
    "split_email_1 = (len(split_email[0])-2)*\"*\"\n",
    "\n",
    "split_email_2 = split_email[1]\n",
    "\n",
    "masked_email = split_email[0][0] + split_email_1 + split_email[0][-1] +\"@\" + split_email_2\n",
    "\n",
    "print(masked_email)"
   ]
  },
  {
   "cell_type": "code",
   "execution_count": 24,
   "id": "330a5421-9d2d-4229-a82f-93e975f31314",
   "metadata": {},
   "outputs": [
    {
     "data": {
      "text/plain": [
       "'rakshit'"
      ]
     },
     "execution_count": 24,
     "metadata": {},
     "output_type": "execute_result"
    }
   ],
   "source": [
    "name = \"RAKSHIT\"\n",
    "\n",
    "name.lower()"
   ]
  },
  {
   "cell_type": "code",
   "execution_count": 35,
   "id": "04030684-6682-464b-ba59-c011f9d13ce5",
   "metadata": {},
   "outputs": [
    {
     "name": "stdout",
     "output_type": "stream",
     "text": [
      "hello, rakshit\n"
     ]
    }
   ],
   "source": [
    "state = \" Hello, Rakshit \"\n",
    "\n",
    "new_state = state.strip()\n",
    "\n",
    "print(new_state.lower())"
   ]
  },
  {
   "cell_type": "code",
   "execution_count": 39,
   "id": "1eaa2580-dce2-47aa-9022-c4cf2e36b27f",
   "metadata": {},
   "outputs": [
    {
     "name": "stdout",
     "output_type": "stream",
     "text": [
      "product | manager\n"
     ]
    }
   ],
   "source": [
    "title = \"product-manager\"\n",
    "\n",
    "title_split = title.split(\"-\")[0] + \" | \" + title.split(\"-\")[1]\n",
    "\n",
    "print(title_split)"
   ]
  },
  {
   "cell_type": "code",
   "execution_count": 54,
   "id": "425f9ba9-8d93-4b22-8d2e-ed4c17ce6da2",
   "metadata": {},
   "outputs": [
    {
     "name": "stdout",
     "output_type": "stream",
     "text": [
      "h\n"
     ]
    }
   ],
   "source": [
    "word = \"Pythone\"\n",
    "\n",
    "remainder = len(word) % 2\n",
    "remainder_odd = len(word)-1\n",
    "\n",
    "if remainder == 0:\n",
    "    print(word[len(word)//2] + word[len(word)//2-1])\n",
    "else:\n",
    "    print(word[remainder_odd//2])"
   ]
  },
  {
   "cell_type": "code",
   "execution_count": 59,
   "id": "39a4c801-aa50-4df5-b6a0-c688a13510b9",
   "metadata": {},
   "outputs": [
    {
     "name": "stdout",
     "output_type": "stream",
     "text": [
      "R.L.\n"
     ]
    }
   ],
   "source": [
    "input = \"rakshit lodha\"\n",
    "\n",
    "split_view = input.split(\" \")\n",
    "\n",
    "joined_view = split_view[0][0].upper() +\".\" + split_view[1][0].upper() + \".\"\n",
    "\n",
    "print(joined_view)"
   ]
  },
  {
   "cell_type": "code",
   "execution_count": 72,
   "id": "b4e36b2e-53ad-4747-8c54-45c3967ac10e",
   "metadata": {},
   "outputs": [
    {
     "data": {
      "text/plain": [
       "'This has extra spaces'"
      ]
     },
     "execution_count": 72,
     "metadata": {},
     "output_type": "execute_result"
    }
   ],
   "source": [
    "str = \"This   has   extra   spaces\"\n",
    "\n",
    "\" \".join(str.split())"
   ]
  },
  {
   "cell_type": "code",
   "execution_count": 8,
   "id": "d3a6ce7c-1208-4f9b-88df-e9210ce72f3b",
   "metadata": {},
   "outputs": [
    {
     "name": "stdout",
     "output_type": "stream",
     "text": [
      "This***habitis***butbadminton\n"
     ]
    }
   ],
   "source": [
    "str = \"This bad habit is bad but badminton is good\"\n",
    "\n",
    "str_split_1 = (str.split(\" \")[1]).replace(str.split(\" \")[1],\"***\")\n",
    "str_split_2 = (str.split(\" \")[4]).replace(str.split(\" \")[4],\"***\")\n",
    "\n",
    "final = str.split(\" \")[0] + str_split_1 + str.split(\" \")[2] + str.split(\" \")[3] + str_split_2 + str.split(\" \")[5] + str.split(\" \")[6]\n",
    "\n",
    "print(final)"
   ]
  },
  {
   "cell_type": "code",
   "execution_count": 2,
   "id": "8f091c80-5238-41c4-929f-7124dc92f4ae",
   "metadata": {},
   "outputs": [
    {
     "name": "stdout",
     "output_type": "stream",
     "text": [
      "first.last@example.com\n"
     ]
    }
   ],
   "source": [
    "email = \"  First.Last+promo@Example.COM  \"\n",
    "\n",
    "split_1 = email.split(\"@\")[-1].lower()\n",
    "split_2 = (email.split(\"@\")[0]).split(\"+\")[0].lower()\n",
    "split_3 = split_2 +\"@\" +split_1\n",
    "\n",
    "joined_view = ''.join(split_3.split())\n",
    "\n",
    "print(joined_view)"
   ]
  },
  {
   "cell_type": "code",
   "execution_count": 22,
   "id": "4f5b90ec-2400-4efd-a626-10504db7276c",
   "metadata": {},
   "outputs": [
    {
     "name": "stdout",
     "output_type": "stream",
     "text": [
      "{'name': 'Rakshit', 'role': 'PM'}\n"
     ]
    }
   ],
   "source": [
    "user = {\"name\": \"Rakshit\", \"role\": \"PM\"}\n",
    "\n",
    "user[\"company\"] = \"ET Money\"\n",
    "\n",
    "user.popitem()\n",
    "\n",
    "\n",
    "print(user)"
   ]
  },
  {
   "cell_type": "code",
   "execution_count": 30,
   "id": "0877794c-89dc-420a-a49e-a5b3a44f4575",
   "metadata": {},
   "outputs": [
    {
     "name": "stdout",
     "output_type": "stream",
     "text": [
      "{'name': 'Notebook', 'price': 299, 'stock': 12, 'discount': 0}\n",
      "{'name': 'Notebook', 'price': 299, 'stock': 12, 'discount': 0, 'category': 'Stationery'}\n"
     ]
    }
   ],
   "source": [
    "product = {\"name\": \"Notebook\", \"price\": 299, \"stock\": 12}\n",
    "# a) get the price using direct indexing\n",
    "product.get(\"price\")\n",
    "\n",
    "# b) safely get a \"discount\" key with default 0 using .get\n",
    "product[\"discount\"] = 0\n",
    "print(product)\n",
    "\n",
    "product.get(\"discount\")\n",
    "\n",
    "# c) add a \"category\" = \"Stationery\", then print the dict\n",
    "product[\"category\"] = \"Stationery\"\n",
    "print(product)"
   ]
  },
  {
   "cell_type": "code",
   "execution_count": 1,
   "id": "230bf8bc-072d-4996-ade1-a3d9eb64e9ae",
   "metadata": {},
   "outputs": [
    {
     "name": "stdout",
     "output_type": "stream",
     "text": [
      "Notebook\n",
      "0\n",
      "True\n"
     ]
    }
   ],
   "source": [
    "product = {\"name\": \"Notebook\", \"price\": 299, \"stock\": 12}\n",
    "\n",
    "\n",
    "# a) get the price using direct indexing\n",
    "\n",
    "print(product[\"name\"])\n",
    "\n",
    "# b) safely get a \"discount\" key with default 0 using .get\n",
    "print(product.get(\"discount\",0))\n",
    "\n",
    "print(\"name\" in product)\n",
    "\n",
    "# c) add a \"category\" = \"Stationery\", then print the dict\n"
   ]
  },
  {
   "cell_type": "code",
   "execution_count": 12,
   "id": "36f0d102-b9a6-43e2-adcd-3e170f460aed",
   "metadata": {},
   "outputs": [
    {
     "name": "stdout",
     "output_type": "stream",
     "text": [
      "{'name': 'Notebook', 'price': 349, 'stock': 12, 'category': 'Stationery'}\n",
      "{'name': 'Notebook', 'price': 349, 'stock': 12, 'category': 'Stationery', 'brand': 'camline', 'rating': 4.5}\n",
      "{'name': 'Notebook', 'price': 349, 'category': 'Stationery', 'brand': 'camline', 'rating': 4.5}\n"
     ]
    }
   ],
   "source": [
    "product = {\"name\": \"Notebook\", \"price\": 299, \"stock\": 12, \"category\": \"Stationery\"}\n",
    "\n",
    "#Update the \"price\" to 349.\n",
    "product.update({\"price\": 349})\n",
    "\n",
    "print(product)\n",
    "\n",
    "# Add two more keys at once — \"brand\": \"Camlin\" and \"rating\": 4.5\" — using .update().\n",
    "\n",
    "product.update({\"brand\": \"camline\", \"rating\": 4.5})\n",
    "print(product)\n",
    "\n",
    "#Remove \"stock\" safely (no error if it’s missing).\n",
    "\n",
    "product.pop(\"stock\", 0)\n",
    "print(product)\n",
    "\n"
   ]
  },
  {
   "cell_type": "code",
   "execution_count": 35,
   "id": "2128d581-0a71-4165-8551-e020ef0d14e7",
   "metadata": {},
   "outputs": [
    {
     "name": "stdout",
     "output_type": "stream",
     "text": [
      "92\n",
      "92\n",
      "{'math': 88, 'science': 92, 'english': 90}\n",
      "{'name': 'Anita', 'grade': 10, 'marks': {'math': 88, 'science': 92, 'english': 90, 'history': 85}}\n",
      "{'name': 'Anita', 'grade': 10, 'marks': {'math': 88, 'science': 92, 'english': 90, 'history': 85}}\n"
     ]
    }
   ],
   "source": [
    "student = {\n",
    "    \"name\": \"Anita\",\n",
    "    \"grade\": 10,\n",
    "    \"marks\": {\n",
    "        \"math\": 88,\n",
    "        \"science\": 92,\n",
    "        \"english\": 81\n",
    "    }\n",
    "}\n",
    "\n",
    "\n",
    "#Access the student’s science mark and print it.\n",
    "print(student[\"marks\"][\"science\"])\n",
    "print((student.get(\"marks\")).get(\"science\"))\n",
    "\n",
    "#Update the English mark to 90.\n",
    "student[\"marks\"].update({\"english\": 90})\n",
    "\n",
    "print(student.get(\"marks\"))\n",
    "\n",
    "#Add a new subject \"history\": 85.\n",
    "student[\"marks\"].update({\"history\": 85})\n",
    "\n",
    "print(student)\n",
    "\n",
    "#Print the final dictionary.\n",
    "print(student)\n",
    "\n"
   ]
  },
  {
   "cell_type": "code",
   "execution_count": 43,
   "id": "6d2003ca-e361-49a2-b002-ff610b09ddef",
   "metadata": {},
   "outputs": [
    {
     "name": "stdout",
     "output_type": "stream",
     "text": [
      "Rakshit\n",
      "('Rakshit', 30, {'city': 'Mumbai'})\n"
     ]
    }
   ],
   "source": [
    "t = (\"Rakshit\", 30, {\"city\": \"Jaipur\"})\n",
    "# A) Print the name (index it)\n",
    "print(t[0])\n",
    "\n",
    "# B) Change the city to \"Mumbai\" (mutate the inner dict), then print t\n",
    "t[2].update({\"city\": \"Mumbai\"})"
   ]
  },
  {
   "cell_type": "code",
   "execution_count": 48,
   "id": "a9d95d7d-556d-4af6-abaf-b45cfca2f1c0",
   "metadata": {},
   "outputs": [
    {
     "name": "stdout",
     "output_type": "stream",
     "text": [
      "{'math': 88, 'science': 92, 'english': 90}\n",
      "[('math', 88), ('science', 92), ('english', 90)]\n",
      "[('math', 88), ('science', 92), ('english', 90), ('physics', 100)]\n",
      "{'math': 88, 'science': 92, 'english': 90, 'physics': 100}\n"
     ]
    }
   ],
   "source": [
    "student = {\n",
    "    \"name\": \"Anita\",\n",
    "    \"grade\": 10,\n",
    "    \"marks\": {\"math\": 88, \"science\": 92, \"english\": 90}\n",
    "}\n",
    "\n",
    "li = student.get(\"marks\")\n",
    "\n",
    "print(li)\n",
    "\n",
    "li_1 = list(li.items())\n",
    "print(li_1)\n",
    "\n",
    "li_1.append((\"physics\", 100))\n",
    "\n",
    "print(li_1)\n",
    "back_dic = dict(li_1)\n",
    "print(back_dic)\n"
   ]
  },
  {
   "cell_type": "code",
   "execution_count": 54,
   "id": "7e06f8b3-3fda-488a-b4b6-4329f408a5ac",
   "metadata": {},
   "outputs": [
    {
     "name": "stdout",
     "output_type": "stream",
     "text": [
      "(20, 10)\n"
     ]
    }
   ],
   "source": [
    "(a,b) = 10,20\n",
    "\n",
    "(a,b) = (b,a)\n",
    "print((a,b))"
   ]
  },
  {
   "cell_type": "code",
   "execution_count": 58,
   "id": "f55d8d85-9492-497f-a65d-c6e890190b4c",
   "metadata": {},
   "outputs": [
    {
     "name": "stdout",
     "output_type": "stream",
     "text": [
      "['anita', 'mukesh', 'rakshit']\n"
     ]
    }
   ],
   "source": [
    "names = [\"rakshit\", \"anita\", \"rakshit\", \"mukesh\", \"anita\"]\n",
    "\n",
    "name_1 = sorted(set(names))\n",
    "\n",
    "print(name_1)\n"
   ]
  },
  {
   "cell_type": "code",
   "execution_count": 79,
   "id": "a9fb58c8-c5ff-48d5-83dd-84d137c5cb67",
   "metadata": {},
   "outputs": [
    {
     "name": "stdout",
     "output_type": "stream",
     "text": [
      "{'excel', 'python', 'sql', 'git'}\n",
      "{'git', 'python', 'jira', 'pandas'}\n",
      "{'git', 'python'}\n",
      "{'git', 'python', 'jira', 'sql', 'excel', 'pandas'}\n",
      "{'excel', 'sql'}\n",
      "{'jira', 'sql', 'excel', 'pandas'}\n",
      "False\n",
      "False\n",
      "True\n",
      "True\n",
      "False\n",
      "['excel', 'jira', 'pandas', 'sql']\n"
     ]
    }
   ],
   "source": [
    "A = {\"python\", \"sql\", \"excel\", \"git\"}\n",
    "B = {\"python\", \"pandas\", \"git\", \"jira\"}\n",
    "\n",
    "set_a = set(A)\n",
    "set_b = set(B)\n",
    "\n",
    "print(set_a)\n",
    "print(set_b)\n",
    "\n",
    "#Skills in both A and B (intersection)\n",
    "set_c = set_a & set_b\n",
    "print(set_c)\n",
    "\n",
    "#Skills in either A or B (union)\n",
    "set_d = set_a | set_b\n",
    "print(set_d)\n",
    "\n",
    "#Skills in A but not in B (difference)\n",
    "set_e = set_a - set_b\n",
    "print(set_e)\n",
    "\n",
    "#Skills in exactly one of the sets (symmetric diff)\n",
    "set_f = set_a ^ set_b\n",
    "print(set_f)\n",
    "\n",
    "print(bool(set_a <= set_b))\n",
    "print(bool(set_a >= set_b))\n",
    "print(bool(set_a & set_b))\n",
    "\n",
    "\n",
    "print(bool({\"python\", \"git\"} <= set_a))\n",
    "print(bool({\"python\", \"git\", \"excel\"} <= set_b))\n",
    "print(sorted(set_f))"
   ]
  },
  {
   "cell_type": "code",
   "execution_count": 54,
   "id": "5c22e205-d407-492b-8604-cc8bd3363905",
   "metadata": {},
   "outputs": [
    {
     "name": "stdout",
     "output_type": "stream",
     "text": [
      "f\n"
     ]
    }
   ],
   "source": [
    "score = 59\n",
    "\n",
    "if score >=90:\n",
    "    grade = \"A\"\n",
    "elif score >= 80:\n",
    "    grade = \"B\"\n",
    "elif score >=70:\n",
    "    grade = \"C\"\n",
    "elif score >=60:\n",
    "    grade = \"D\"\n",
    "else:\n",
    "    grade = \"F\"\n",
    "\n",
    "print(grade)"
   ]
  },
  {
   "cell_type": "code",
   "execution_count": 55,
   "id": "438c8598-1eda-43c8-a05d-c7ddc8f1ebe7",
   "metadata": {},
   "outputs": [
    {
     "name": "stdout",
     "output_type": "stream",
     "text": [
      "Odd\n"
     ]
    }
   ],
   "source": [
    "n = 27\n",
    "\n",
    "if n%2 == 0:\n",
    "    print(\"Even\")\n",
    "else:\n",
    "    print(\"Odd\")"
   ]
  },
  {
   "cell_type": "code",
   "execution_count": 57,
   "id": "d15f8b9e-d32c-4b5c-825f-e84b110dd78e",
   "metadata": {},
   "outputs": [
    {
     "name": "stdout",
     "output_type": "stream",
     "text": [
      "Odd\n"
     ]
    }
   ],
   "source": [
    "n = 27\n",
    "parity = \"Even\" if n%2 == 0 else \"Odd\"\n",
    "\n",
    "print(parity)"
   ]
  },
  {
   "cell_type": "code",
   "execution_count": 59,
   "id": "71379473-2387-4f93-8405-fcabf37e6f52",
   "metadata": {},
   "outputs": [
    {
     "name": "stdout",
     "output_type": "stream",
     "text": [
      "[5, 7, 9, 11, 13]\n"
     ]
    }
   ],
   "source": [
    "num = list(range(5,15,2))\n",
    "\n",
    "print(num)"
   ]
  },
  {
   "cell_type": "code",
   "execution_count": 61,
   "id": "e1e7340c-e600-45a9-a980-d33d9c4d4914",
   "metadata": {},
   "outputs": [
    {
     "name": "stdout",
     "output_type": "stream",
     "text": [
      "False\n"
     ]
    }
   ],
   "source": [
    "text = \"Product Manager\"\n",
    "has_pm = \"pm\" in text.lower()\n",
    "\n",
    "print(has_pm)"
   ]
  },
  {
   "cell_type": "code",
   "execution_count": 62,
   "id": "ff2bde7f-08be-4eac-8f35-8fccd8b1a4f9",
   "metadata": {},
   "outputs": [
    {
     "name": "stdout",
     "output_type": "stream",
     "text": [
      "[(0, 'python'), (1, 'sql'), (2, 'git')]\n"
     ]
    }
   ],
   "source": [
    "skills = [\"python\",\"sql\",\"git\"]\n",
    "print(list(enumerate(skills)))\n"
   ]
  },
  {
   "cell_type": "code",
   "execution_count": 65,
   "id": "8cb5a75b-ce7f-4172-8c45-e46ebbc2bc18",
   "metadata": {},
   "outputs": [
    {
     "name": "stdout",
     "output_type": "stream",
     "text": [
      "apple\n",
      "banana\n",
      "cherry\n"
     ]
    }
   ],
   "source": [
    "fruits = [\"apple\", \"banana\", \"cherry\"]\n",
    "\n",
    "for i in fruits:\n",
    "    print(i)"
   ]
  },
  {
   "cell_type": "code",
   "execution_count": 67,
   "id": "918876a6-3983-461e-bc4a-b6bcc854ec2b",
   "metadata": {},
   "outputs": [
    {
     "name": "stdout",
     "output_type": "stream",
     "text": [
      "1\n",
      "2\n",
      "3\n",
      "4\n",
      "5\n"
     ]
    }
   ],
   "source": [
    "num = list(range(1,6))\n",
    "\n",
    "for i in num:\n",
    "    print(i)"
   ]
  },
  {
   "cell_type": "code",
   "execution_count": 72,
   "id": "b6668514-a381-4da4-b8ad-382488902742",
   "metadata": {},
   "outputs": [
    {
     "name": "stdout",
     "output_type": "stream",
     "text": [
      "2\n",
      "4\n",
      "6\n",
      "8\n",
      "10\n"
     ]
    }
   ],
   "source": [
    "num = list(range(1,11))\n",
    "\n",
    "for i in num:\n",
    "    if i%2 == 0:\n",
    "        print(i)"
   ]
  },
  {
   "cell_type": "code",
   "execution_count": 73,
   "id": "71705c84-ab25-4794-a1e0-d4d91c1f3350",
   "metadata": {},
   "outputs": [
    {
     "name": "stdout",
     "output_type": "stream",
     "text": [
      "1\n",
      "2\n",
      "3\n",
      "4\n",
      "6\n",
      "7\n"
     ]
    }
   ],
   "source": [
    "for i in range(1,11):\n",
    "    if i<5:\n",
    "        print(i)\n",
    "    elif i==5:\n",
    "        continue\n",
    "    elif i<8:\n",
    "        print(i)\n",
    "    elif i==8:\n",
    "        break"
   ]
  },
  {
   "cell_type": "code",
   "execution_count": 77,
   "id": "b6002abe-b7be-453f-8a21-724ddb3be7cc",
   "metadata": {},
   "outputs": [
    {
     "name": "stdout",
     "output_type": "stream",
     "text": [
      "You don't belong here\n"
     ]
    }
   ],
   "source": [
    "nums = [3, 6, 9, 12]\n",
    "target = 7\n",
    "\n",
    "for i in nums:\n",
    "    if i == target:\n",
    "        print(\"You belong here\")\n",
    "        break\n",
    "else:\n",
    "    print(\"You don't belong here\")"
   ]
  },
  {
   "cell_type": "code",
   "execution_count": 91,
   "id": "6e170c8e-b3a3-4111-b93b-a928279a7a08",
   "metadata": {},
   "outputs": [
    {
     "name": "stdout",
     "output_type": "stream",
     "text": [
      "found: 64\n"
     ]
    }
   ],
   "source": [
    "nums = [12, 47, 51, 38, 64, 29]\n",
    "\n",
    "for num in nums:\n",
    "    if num > 50 and num %2 == 0:\n",
    "        print(\"found: \" + str(num))\n",
    "        break\n",
    "else:\n",
    "     print(\"No\")"
   ]
  },
  {
   "cell_type": "code",
   "execution_count": 95,
   "id": "487a5ba6-4b4c-4899-b50d-e2ea560e3d0a",
   "metadata": {},
   "outputs": [
    {
     "name": "stdout",
     "output_type": "stream",
     "text": [
      "True\n"
     ]
    }
   ],
   "source": [
    "nums = [12, 47, 51, 38, 64, 29]\n",
    "found = any(x>50 and x%2 ==0 for x in nums )\n",
    "print(found)"
   ]
  },
  {
   "cell_type": "code",
   "execution_count": 125,
   "id": "4382ef8e-45ad-43e2-b7db-319c00af407a",
   "metadata": {},
   "outputs": [
    {
     "name": "stdout",
     "output_type": "stream",
     "text": [
      "[12, 38]\n"
     ]
    }
   ],
   "source": [
    "nums = [12, 47, 51, 38, 64, 29]\n",
    "\n",
    "hits = []\n",
    "\n",
    "for i in nums:\n",
    "    if i <50 and i%2 == 0:\n",
    "        hits.append(i)\n",
    "\n",
    "print(hits)"
   ]
  },
  {
   "cell_type": "code",
   "execution_count": 133,
   "id": "f7c5e484-881c-4a65-9992-fdb3b8a7e2ee",
   "metadata": {},
   "outputs": [
    {
     "name": "stdout",
     "output_type": "stream",
     "text": [
      "[9, 49, 100]\n",
      "158\n"
     ]
    }
   ],
   "source": [
    "nums = [3, -2, 7, 0, -5, 10]\n",
    "\n",
    "positive = []\n",
    "\n",
    "for i in nums:\n",
    "    if i > 0:\n",
    "        y = i*i\n",
    "        positive.append(y)\n",
    "\n",
    "print(positive)\n",
    "\n",
    "total = 0\n",
    "\n",
    "for p in positive:\n",
    "    total += p\n",
    "\n",
    "print(total)"
   ]
  },
  {
   "cell_type": "code",
   "execution_count": 137,
   "id": "8188c6d8-5ca2-4c48-ab49-e19216291e0c",
   "metadata": {},
   "outputs": [
    {
     "name": "stdout",
     "output_type": "stream",
     "text": [
      "[9, 49, 100]\n",
      "158\n"
     ]
    }
   ],
   "source": [
    "nums = [3, -2, 7, 0, -5, 10]\n",
    "\n",
    "positive = []\n",
    "total = 0\n",
    "\n",
    "for i in nums:\n",
    "    if i > 0:\n",
    "        y = i*i\n",
    "        positive.append(y)\n",
    "        total += y\n",
    "print(total)"
   ]
  },
  {
   "cell_type": "code",
   "execution_count": null,
   "id": "e4c3cb2c-8b83-4639-a57f-f3f93715061b",
   "metadata": {},
   "outputs": [],
   "source": [
    "*\n",
    "**\n",
    "***\n",
    "****\n",
    "*****"
   ]
  },
  {
   "cell_type": "code",
   "execution_count": 143,
   "id": "56ef1162-d935-42f6-8373-64d86b4e4549",
   "metadata": {
    "scrolled": true
   },
   "outputs": [
    {
     "name": "stdout",
     "output_type": "stream",
     "text": [
      "['python', 'data', 'pip', 'set', 'pandas']\n"
     ]
    }
   ],
   "source": [
    "words = [\" python \", \"Data\", \"pip\", \"set\", \"Pandas\"]\n",
    "clean = []\n",
    "\n",
    "for i in words:\n",
    "    y = i.strip()\n",
    "    x = y.lower()\n",
    "    clean.append(x)\n",
    "\n",
    "print(clean)"
   ]
  },
  {
   "cell_type": "code",
   "execution_count": 148,
   "id": "61c469a1-4057-455f-9cee-bec8074b015f",
   "metadata": {},
   "outputs": [
    {
     "name": "stdout",
     "output_type": "stream",
     "text": [
      "5\n",
      "4\n",
      "3\n",
      "2\n",
      "1\n",
      "Go\n"
     ]
    }
   ],
   "source": [
    "i = 6\n",
    "\n",
    "while i > 1:\n",
    "    i -=1\n",
    "    print(i)\n",
    "\n",
    "print(\"Go\")"
   ]
  },
  {
   "cell_type": "code",
   "execution_count": 182,
   "id": "ec1f75e1-3c1f-4649-9a88-ef4f103c9326",
   "metadata": {},
   "outputs": [
    {
     "name": "stdout",
     "output_type": "stream",
     "text": [
      "3\n",
      "5\n",
      "9\n"
     ]
    }
   ],
   "source": [
    "data = [3, 5, 9, -1, 7, 8]\n",
    "\n",
    "# while i < len(data) and data[i]>0:\n",
    "#     print(i)\n",
    "\n",
    "# Print each number until you hit a negative, then stop (don’t print the negative or anything after).\n",
    "\n",
    "for i in data:\n",
    "    if i >0:\n",
    "        print(i)\n",
    "    else:\n",
    "        break\n",
    "\n"
   ]
  },
  {
   "cell_type": "code",
   "execution_count": 176,
   "id": "d0ae0aae-7911-4251-a581-73618ca97f20",
   "metadata": {
    "scrolled": true
   },
   "outputs": [
    {
     "name": "stdout",
     "output_type": "stream",
     "text": [
      "3\n",
      "5\n",
      "9\n"
     ]
    }
   ],
   "source": [
    "data = [3, 5, 9, -1, 7, 8]\n",
    "\n",
    "i = 0\n",
    "\n",
    "while i<=len(data) and data[i] >0:\n",
    "    print(data[i])\n",
    "    i +=1"
   ]
  },
  {
   "cell_type": "code",
   "execution_count": 185,
   "id": "4e016347-019d-4292-ae1f-7abc1936f5fe",
   "metadata": {},
   "outputs": [
    {
     "name": "stdout",
     "output_type": "stream",
     "text": [
      "9\n"
     ]
    }
   ],
   "source": [
    "# Given nums = [4, 9, 12, 7, 18, 3], use while to find the index of the first number divisible by 3. If none, print -1.\n",
    "\n",
    "\n",
    "nums = [4, 9, 12, 7, 18, 3]\n",
    "\n",
    "for i in nums:\n",
    "    if i%3 == 0:\n",
    "        print(i)\n",
    "        break"
   ]
  },
  {
   "cell_type": "code",
   "execution_count": 16,
   "id": "2966407f-b821-4f26-a0d2-e2ac4c3c5724",
   "metadata": {},
   "outputs": [
    {
     "name": "stdout",
     "output_type": "stream",
     "text": [
      "-1\n"
     ]
    }
   ],
   "source": [
    "nums = [5, 7, 13, 7, 19, 2]\n",
    "\n",
    "i = 0\n",
    "\n",
    "while i < len(nums):\n",
    "    if nums[i] % 3 == 0:\n",
    "        print(nums[i])\n",
    "        break\n",
    "    i +=1\n",
    "else:\n",
    "    print(-1)"
   ]
  },
  {
   "cell_type": "code",
   "execution_count": 40,
   "id": "8c555636-2f62-4510-9b64-29eca7bb8283",
   "metadata": {},
   "outputs": [
    {
     "name": "stdout",
     "output_type": "stream",
     "text": [
      "['Room', '21', 'on', '3', 'rd', 'floor,', 'code', '9042']\n",
      "3\n"
     ]
    }
   ],
   "source": [
    "s = \"Room 21 on 3 rd floor, code 9042\"\n",
    "\n",
    "words = s.split()\n",
    "\n",
    "print(words)\n",
    "\n",
    "x = 0\n",
    "\n",
    "for i in words:\n",
    "    if i.isdigit() == True:\n",
    "        x +=1\n",
    "\n",
    "print(x)"
   ]
  },
  {
   "cell_type": "code",
   "execution_count": 48,
   "id": "df3efe15-4706-4482-a043-38418807984f",
   "metadata": {},
   "outputs": [
    {
     "name": "stdout",
     "output_type": "stream",
     "text": [
      "7\n"
     ]
    }
   ],
   "source": [
    "s = \"Room 21 on 3 rd floor, code 9042\"\n",
    "\n",
    "x = 0\n",
    "i = 0\n",
    "\n",
    "while i < len(s):\n",
    "    if s[i].isdigit() == True:\n",
    "        x+=1\n",
    "    i +=1\n",
    "\n",
    "print(x)"
   ]
  },
  {
   "cell_type": "code",
   "execution_count": 1,
   "id": "1e494d61-d075-442e-9985-24671a1e7103",
   "metadata": {},
   "outputs": [
    {
     "name": "stdout",
     "output_type": "stream",
     "text": [
      "3628800\n"
     ]
    }
   ],
   "source": [
    "num = 10\n",
    "\n",
    "ans = 1\n",
    "\n",
    "while num>1:\n",
    "    ans *= num\n",
    "    num = num - 1\n",
    "    \n",
    "print(ans)"
   ]
  },
  {
   "cell_type": "code",
   "execution_count": 18,
   "id": "8942fc19-5495-40ac-8767-4cb20a1070f7",
   "metadata": {},
   "outputs": [
    {
     "name": "stdout",
     "output_type": "stream",
     "text": [
      "nohtyp\n"
     ]
    }
   ],
   "source": [
    "word = \"python\"\n",
    "rev = \"\"\n",
    "i = len(word) - 1\n",
    "\n",
    "while i>=0:\n",
    "    letter = word[i]\n",
    "    rev = rev + letter\n",
    "    i = i - 1\n",
    "\n",
    "print(rev)"
   ]
  },
  {
   "cell_type": "code",
   "execution_count": 25,
   "id": "25dbc853-7d6e-4b6e-8227-326bd72a2334",
   "metadata": {},
   "outputs": [
    {
     "name": "stdout",
     "output_type": "stream",
     "text": [
      "nohtyp\n"
     ]
    }
   ],
   "source": [
    "word = \"python\"\n",
    "rev = \"\"\n",
    "i = len(word)-1\n",
    "\n",
    "while i>=0:\n",
    "    letter = word[i]\n",
    "    rev = rev + letter\n",
    "    i = i - 1\n",
    "\n",
    "print(rev)"
   ]
  },
  {
   "cell_type": "code",
   "execution_count": null,
   "id": "91bfac7c-eeaf-4741-9340-b418d0a19911",
   "metadata": {},
   "outputs": [],
   "source": []
  },
  {
   "cell_type": "code",
   "execution_count": 65,
   "id": "1ccee126-ec41-4904-9d5b-e5ec2eb0c856",
   "metadata": {},
   "outputs": [
    {
     "name": "stdout",
     "output_type": "stream",
     "text": [
      "[(0, 'p'), (1, 'y'), (2, 't'), (3, 'h'), (4, 'o'), (5, 'n')]\n"
     ]
    }
   ],
   "source": [
    "word = \"python\"\n",
    "positions = []\n",
    "\n",
    "for i in word:\n",
    "    if len(word)>=0:\n",
    "        positions.append(i)\n",
    "\n",
    "enumerate_list = list(enumerate(positions))\n",
    "print(enumerate_list)"
   ]
  },
  {
   "cell_type": "code",
   "execution_count": 77,
   "id": "edcc9e49-c94b-4dea-94a3-d0515b0d0dd0",
   "metadata": {},
   "outputs": [
    {
     "name": "stdout",
     "output_type": "stream",
     "text": [
      "[(0, 'p'), (1, 'y'), (2, 't'), (3, 'h'), (4, 'o'), (5, 'n')]\n"
     ]
    }
   ],
   "source": [
    "word = \"python\"\n",
    "positions = []\n",
    "\n",
    "i = 0\n",
    "\n",
    "while len(word)>=0 and i < len(word):\n",
    "    positions.append(word[i])\n",
    "    i += 1\n",
    "\n",
    "print(list(enumerate(positions)))"
   ]
  },
  {
   "cell_type": "code",
   "execution_count": 78,
   "id": "3be8c7d4-324d-4da8-9820-59f0ab7cf77d",
   "metadata": {},
   "outputs": [
    {
     "name": "stdout",
     "output_type": "stream",
     "text": [
      "[(0, 'p'), (1, 'y'), (2, 't'), (3, 'h'), (4, 'o'), (5, 'n')]\n"
     ]
    }
   ],
   "source": [
    "word = \"python\"\n",
    "positions = []\n",
    "\n",
    "for i in word:\n",
    "    if len(word)>=0:\n",
    "        positions.append(i)\n",
    "\n",
    "enumerate_list = list(enumerate(positions))\n",
    "print(enumerate_list)"
   ]
  },
  {
   "cell_type": "code",
   "execution_count": 83,
   "id": "e5daede4-1f3b-4015-9a2a-15327bbf48d8",
   "metadata": {},
   "outputs": [
    {
     "name": "stdout",
     "output_type": "stream",
     "text": [
      "{'p': 0, 'y': 1, 't': 2, 'h': 3, 'o': 4, 'n': 5}\n"
     ]
    }
   ],
   "source": [
    "# target shape: {'p': 0, 'y': 1, 't': 2, 'h': 3, 'o': 4, 'n': 5}\n",
    "positions = {}\n",
    "x = 0\n",
    "\n",
    "for i in word:\n",
    "    if len(word)>=0:\n",
    "        positions.update({i:x})\n",
    "        x +=1\n",
    "\n",
    "print(positions)"
   ]
  },
  {
   "cell_type": "code",
   "execution_count": 89,
   "id": "d760b1c2-93aa-4b78-8ec9-7675c226d546",
   "metadata": {},
   "outputs": [
    {
     "name": "stdout",
     "output_type": "stream",
     "text": [
      "{'b': 0, 'a': 5, 'n': 4}\n"
     ]
    }
   ],
   "source": [
    "word = \"banana\"\n",
    "positions = {}\n",
    "\n",
    "i = 0\n",
    "x = 0\n",
    "\n",
    "while len(word)>=0 and i < len(word):\n",
    "    letter = word[i]\n",
    "    positions.update({letter:x})\n",
    "    i += 1\n",
    "    x += 1\n",
    "\n",
    "print(positions)\n",
    "# print(list(enumerate(positions)))"
   ]
  },
  {
   "cell_type": "code",
   "execution_count": 95,
   "id": "ae671c80-b1fb-4277-bb07-d96dc3aa58af",
   "metadata": {},
   "outputs": [
    {
     "name": "stdout",
     "output_type": "stream",
     "text": [
      "*\n",
      "**\n",
      "***\n",
      "****\n",
      "*****\n"
     ]
    }
   ],
   "source": [
    "for i in range(1,6):\n",
    "    print(i*\"*\")"
   ]
  },
  {
   "cell_type": "code",
   "execution_count": 97,
   "id": "34147250-39c1-45f1-a6e1-da4f359a57b2",
   "metadata": {},
   "outputs": [
    {
     "name": "stdout",
     "output_type": "stream",
     "text": [
      "*****\n",
      "****\n",
      "***\n",
      "**\n",
      "*\n"
     ]
    }
   ],
   "source": [
    "for i in range(5,0,-1):\n",
    "    print(i*\"*\")"
   ]
  },
  {
   "cell_type": "code",
   "execution_count": 98,
   "id": "99668371-8bb0-4424-bd4d-b8e378e78803",
   "metadata": {},
   "outputs": [
    {
     "name": "stdout",
     "output_type": "stream",
     "text": [
      "*\n",
      "**\n",
      "***\n",
      "****\n",
      "*****\n"
     ]
    }
   ],
   "source": [
    "i = 1\n",
    "\n",
    "while i<=5:\n",
    "    print(i*\"*\")\n",
    "    i +=1"
   ]
  },
  {
   "cell_type": "code",
   "execution_count": 106,
   "id": "7f04b314-2a8e-42ff-9fe7-86f10dd85d95",
   "metadata": {},
   "outputs": [
    {
     "name": "stdout",
     "output_type": "stream",
     "text": [
      "**\n",
      "*\n",
      "\n"
     ]
    }
   ],
   "source": [
    "i = 2\n",
    "\n",
    "while i>=0:\n",
    "    print(i*\"*\")\n",
    "    i -= 1"
   ]
  },
  {
   "cell_type": "code",
   "execution_count": 107,
   "id": "35235e01-0790-41ce-ad52-0c3bb64a8451",
   "metadata": {},
   "outputs": [
    {
     "data": {
      "text/plain": [
       "[1, 4, 9]"
      ]
     },
     "execution_count": 107,
     "metadata": {},
     "output_type": "execute_result"
    }
   ],
   "source": [
    "[x*x for x in [1,2,3]]"
   ]
  },
  {
   "cell_type": "code",
   "execution_count": 115,
   "id": "3714b491-37de-47b7-83b4-9b11fed49aff",
   "metadata": {},
   "outputs": [
    {
     "name": "stdout",
     "output_type": "stream",
     "text": [
      "[100]\n"
     ]
    }
   ],
   "source": [
    "nums = [3, -2, 7, 0, -5, 10]\n",
    "\n",
    "nums_output = [i * i for i in nums if i > 0 and i%2 == 0]\n",
    "\n",
    "print(nums_output)"
   ]
  },
  {
   "cell_type": "code",
   "execution_count": 119,
   "id": "d8910502-d4e6-43d9-a102-0a6a435e43f4",
   "metadata": {},
   "outputs": [
    {
     "name": "stdout",
     "output_type": "stream",
     "text": [
      "['x.com', 'y.org', 'z.net']\n"
     ]
    }
   ],
   "source": [
    "emails = [\"a@x.com\",\"b@y.org\",\"c@z.net\"]\n",
    "\n",
    "email_split = [i.split(\"@\")[1] for i in emails]\n",
    "\n",
    "print(email_split)"
   ]
  },
  {
   "cell_type": "code",
   "execution_count": 121,
   "id": "bb55b436-d138-4dd9-9360-4fda0b35842f",
   "metadata": {},
   "outputs": [
    {
     "name": "stdout",
     "output_type": "stream",
     "text": [
      "{'alpha': 5, 'be': 2, 'see': 3, 'dee': 3}\n"
     ]
    }
   ],
   "source": [
    "words = [\"Alpha\", \"be\", \"see\", \"Dee\"]\n",
    "\n",
    "word_dic = {i.lower():len(i) for i in words}\n",
    "\n",
    "print(word_dic)"
   ]
  },
  {
   "cell_type": "code",
   "execution_count": 150,
   "id": "62b2b05c-f12a-4298-9d86-a15d942b00e7",
   "metadata": {},
   "outputs": [
    {
     "name": "stdout",
     "output_type": "stream",
     "text": [
      "{'x.com': 0, 'y.org': 0, 'z.net': 0}\n"
     ]
    }
   ],
   "source": [
    "emails = [\"a@x.com\",\"b@y.org\",\"c@z.net\",\"d@x.com\",\"e@y.org\",\"f@x.com\"]\n",
    "\n",
    "emails_split = [i.split(\"@\")[1] for i in emails]\n",
    "\n",
    "emails_dic = {x:sum(1 for y in email_split if y == email_split) for x in emails_split}\n",
    "\n",
    "print(emails_dic)"
   ]
  },
  {
   "cell_type": "code",
   "execution_count": 137,
   "id": "af74a96b-cb79-4166-9427-810a57826a56",
   "metadata": {},
   "outputs": [
    {
     "name": "stdout",
     "output_type": "stream",
     "text": [
      "{'apple': 2, 'banana': 3, 'orange': 1}\n"
     ]
    }
   ],
   "source": [
    "words = ['apple', 'banana', 'apple', 'orange', 'banana', 'banana']\n",
    "\n",
    "word_dic = {}\n",
    "\n",
    "for i in words:\n",
    "    if i in word_dic:\n",
    "        word_dic[i] += 1\n",
    "    else:\n",
    "        word_dic[i] = 1\n",
    "\n",
    "print(word_dic)"
   ]
  },
  {
   "cell_type": "code",
   "execution_count": 147,
   "id": "fbc6dd51-d8d2-435f-9267-40e091117a75",
   "metadata": {},
   "outputs": [
    {
     "name": "stdout",
     "output_type": "stream",
     "text": [
      "{'x.com': 3, 'y.org': 2, 'z.net': 1}\n"
     ]
    }
   ],
   "source": [
    "emails = [\"a@x.com\",\"b@y.org\",\"c@z.net\",\"d@x.com\",\"e@y.org\",\"f@x.com\"]\n",
    "\n",
    "email_list = []\n",
    "\n",
    "for i in emails:\n",
    "    x = i.split(\"@\")[1]\n",
    "    email_list.append(x)\n",
    "\n",
    "email_count = {}\n",
    "\n",
    "for i in email_list:\n",
    "    if i in email_count:\n",
    "        email_count[i] += 1\n",
    "    else:\n",
    "        email_count[i] = 1\n",
    "\n",
    "print(email_count)"
   ]
  },
  {
   "cell_type": "code",
   "execution_count": 5,
   "id": "68843b4a-ca35-4484-909e-3e6fb0a22953",
   "metadata": {
    "scrolled": true
   },
   "outputs": [
    {
     "name": "stdout",
     "output_type": "stream",
     "text": [
      "5\n",
      "0\n",
      "10\n"
     ]
    }
   ],
   "source": [
    "def clips(x, lo, high):\n",
    "    if x < lo:\n",
    "        return lo\n",
    "    elif x > high:\n",
    "        return high\n",
    "    else:\n",
    "        return x\n",
    "\n",
    "print(clips(5,0,10))\n",
    "print(clips(-3,0,10))\n",
    "print(clips(99, 0, 10))"
   ]
  },
  {
   "cell_type": "code",
   "execution_count": 12,
   "id": "9fe81761-f2b7-4774-ad5d-f3f53c9ecc4a",
   "metadata": {},
   "outputs": [
    {
     "name": "stdout",
     "output_type": "stream",
     "text": [
      "Hi Rakshit\n",
      "Hi there\n"
     ]
    }
   ],
   "source": [
    "def greet(name = \"there\"):\n",
    "    return \"Hi \" + name\n",
    "\n",
    "print(greet(\"Rakshit\"))\n",
    "print(greet())"
   ]
  },
  {
   "cell_type": "code",
   "execution_count": 19,
   "id": "5792ebd9-af6d-4a40-bf61-22d0421e292a",
   "metadata": {},
   "outputs": [
    {
     "name": "stdout",
     "output_type": "stream",
     "text": [
      "8\n",
      "243\n"
     ]
    }
   ],
   "source": [
    "def powerbase(base, power):\n",
    "    return base ** power\n",
    "\n",
    "\n",
    "print(powerbase(2,3))\n",
    "print(powerbase(power=5, base=3))\n"
   ]
  },
  {
   "cell_type": "code",
   "execution_count": 24,
   "id": "88a406f2-863f-4485-bad0-6b9668b3f945",
   "metadata": {},
   "outputs": [
    {
     "name": "stdout",
     "output_type": "stream",
     "text": [
      "A|B|C\n",
      "A-B-C\n"
     ]
    }
   ],
   "source": [
    "def join3(a, b, c, sep=\"-\"):\n",
    "    return f\"{a}{sep}{b}{sep}{c}\"\n",
    "\n",
    "print(join3(\"A\",\"B\", \"C\", sep = \"|\"))\n",
    "print(join3(\"A\",\"B\", \"C\"))"
   ]
  },
  {
   "cell_type": "code",
   "execution_count": 25,
   "id": "62353b2c-6ff0-47a4-b9fd-f9138896a1f5",
   "metadata": {},
   "outputs": [
    {
     "data": {
      "text/plain": [
       "10"
      ]
     },
     "execution_count": 25,
     "metadata": {},
     "output_type": "execute_result"
    }
   ],
   "source": [
    "def total(*nums):\n",
    "    return sum(nums)\n",
    "\n",
    "total(1,2,3,4)"
   ]
  },
  {
   "cell_type": "code",
   "execution_count": 30,
   "id": "e6a51cbe-e8a8-42f0-8c63-c7be255f3020",
   "metadata": {},
   "outputs": [
    {
     "data": {
      "text/plain": [
       "'learn python fast'"
      ]
     },
     "execution_count": 30,
     "metadata": {},
     "output_type": "execute_result"
    }
   ],
   "source": [
    "def concat_part(*parts):\n",
    "    return \" \".join(parts)\n",
    "\n",
    "concat_part(\"learn\",\"python\", \"fast\")"
   ]
  },
  {
   "cell_type": "code",
   "execution_count": 31,
   "id": "dd2f3889-4d96-4053-80b3-35045733f8ee",
   "metadata": {},
   "outputs": [
    {
     "name": "stdout",
     "output_type": "stream",
     "text": [
      "25\n"
     ]
    }
   ],
   "source": [
    "def square(n):\n",
    "    return n**2\n",
    "\n",
    "print(square(5))"
   ]
  },
  {
   "cell_type": "code",
   "execution_count": 33,
   "id": "e7030e96-47e6-4a84-91fb-a6b2a95bd721",
   "metadata": {},
   "outputs": [
    {
     "name": "stdout",
     "output_type": "stream",
     "text": [
      "Its Even!\n"
     ]
    }
   ],
   "source": [
    "def is_even(num):\n",
    "    if num % 2 == 0:\n",
    "        return \"Its Even!\"\n",
    "    else:\n",
    "        return \"Its Odd\"\n",
    "\n",
    "print(is_even(4))"
   ]
  },
  {
   "cell_type": "code",
   "execution_count": 69,
   "id": "1197a926-a98a-4336-94e3-b00854d8b9fe",
   "metadata": {},
   "outputs": [
    {
     "name": "stdout",
     "output_type": "stream",
     "text": [
      "3\n"
     ]
    }
   ],
   "source": [
    "def is_vowel(word):\n",
    "    x = word.lower()\n",
    "    vowel = [\"a\", \"e\", \"i\", \"o\", \"u\"]\n",
    "    y = []\n",
    "    counter = 0\n",
    "    for i in x:\n",
    "        if len(x)>=0:\n",
    "            y.append(i)\n",
    "\n",
    "    for z in y:\n",
    "        if z in vowel:\n",
    "            counter += 1\n",
    "\n",
    "    return counter\n",
    "            \n",
    "\n",
    "print(is_vowel(\"HEAAT\"))"
   ]
  },
  {
   "cell_type": "code",
   "execution_count": 72,
   "id": "8bfd61d2-1ff7-4636-aa20-861819c037e8",
   "metadata": {},
   "outputs": [
    {
     "data": {
      "text/plain": [
       "'Hi there'"
      ]
     },
     "execution_count": 72,
     "metadata": {},
     "output_type": "execute_result"
    }
   ],
   "source": [
    "def greetings(name = \"there\"):\n",
    "    return f\"Hi {name}\"\n",
    "\n",
    "greetings()"
   ]
  },
  {
   "cell_type": "code",
   "execution_count": 74,
   "id": "ae05629a-ae64-438c-be77-20f9dcb26687",
   "metadata": {},
   "outputs": [
    {
     "data": {
      "text/plain": [
       "'5|4|1'"
      ]
     },
     "execution_count": 74,
     "metadata": {},
     "output_type": "execute_result"
    }
   ],
   "source": [
    "def join3(a, b, c, sep = \"-\"):\n",
    "    return f\"{a}{sep}{b}{sep}{c}\"\n",
    "\n",
    "join3(5,4,1, \"|\")"
   ]
  },
  {
   "cell_type": "code",
   "execution_count": 91,
   "id": "1f9c4d0a-128d-40d1-9fca-7d8074dba52c",
   "metadata": {},
   "outputs": [
    {
     "name": "stdout",
     "output_type": "stream",
     "text": [
      "this-is-test\n"
     ]
    }
   ],
   "source": [
    "def slugify(text, sep=\"-\"):\n",
    "    \n",
    "    y = sep.join((text.lower()).split())\n",
    "    # x = sep.join(y)\n",
    "\n",
    "    return f\"{y}\"\n",
    "\n",
    "print(slugify(\" This is test \"))"
   ]
  },
  {
   "cell_type": "code",
   "execution_count": 92,
   "id": "c4544105-98f6-4125-ab0c-e60177630b58",
   "metadata": {},
   "outputs": [
    {
     "data": {
      "text/plain": [
       "12"
      ]
     },
     "execution_count": 92,
     "metadata": {},
     "output_type": "execute_result"
    }
   ],
   "source": [
    "def total(*nums):\n",
    "    return sum(nums)\n",
    "\n",
    "total(1,5,6)"
   ]
  },
  {
   "cell_type": "code",
   "execution_count": 106,
   "id": "5aaf07af-7f16-47b1-bf99-8cbf3afa317f",
   "metadata": {},
   "outputs": [
    {
     "name": "stdout",
     "output_type": "stream",
     "text": [
      "720\n"
     ]
    }
   ],
   "source": [
    "def product(*nums):\n",
    "    p = 1\n",
    "    for i in nums:\n",
    "        p *= i\n",
    "        \n",
    "    return p\n",
    "\n",
    "print(product(2,3,4,5,6))"
   ]
  },
  {
   "cell_type": "code",
   "execution_count": 107,
   "id": "51cc631b-1a64-4a05-9e2d-285ee621d0b0",
   "metadata": {},
   "outputs": [
    {
     "name": "stdout",
     "output_type": "stream",
     "text": [
      "word1 word2\n"
     ]
    }
   ],
   "source": [
    "def concat(sep, *word):\n",
    "    return sep.join(word)\n",
    "\n",
    "print(concat(\" \", \"word1\", \"word2\"))"
   ]
  },
  {
   "cell_type": "code",
   "execution_count": 9,
   "id": "a023eddd-755a-475a-a248-40cb1e2ac7f1",
   "metadata": {},
   "outputs": [
    {
     "name": "stdout",
     "output_type": "stream",
     "text": [
      "{'name': 'Rakshit', 'team': 'Data Science'}\n",
      "{'name': 'Anita', 'team': 'Data Science'}\n"
     ]
    }
   ],
   "source": [
    "def user_format(name, **info):\n",
    "    profile = {\"name\":name}\n",
    "    profile.update(info)\n",
    "    return profile\n",
    "\n",
    "print(user_format(\"Rakshit\", team = \"Data Science\"))\n",
    "print(user_format(\"Anita\", team = \"Data Science\"))\n",
    "\n",
    "\n",
    "#Kwargs: the **info parameter will keep on updating as and when you add other details. \n",
    "#And all will get combined into one dictionary"
   ]
  },
  {
   "cell_type": "code",
   "execution_count": 62,
   "id": "3bf3ce00-c82a-4259-b19a-038eaf837650",
   "metadata": {},
   "outputs": [
    {
     "name": "stdout",
     "output_type": "stream",
     "text": [
      "page=2@q=1\n"
     ]
    }
   ],
   "source": [
    "def make_query(**params):\n",
    "    lis = []\n",
    "\n",
    "    for x, y in params.items():\n",
    "        pair = f\"{x}={str(y)}\"\n",
    "        lis.append(pair)\n",
    "\n",
    "    join = \"@\".join(lis)\n",
    "\n",
    "    return join\n",
    "        \n",
    "print(make_query(page = 2, q = 1))"
   ]
  },
  {
   "cell_type": "code",
   "execution_count": 59,
   "id": "8f89489f-7687-4a5e-af62-202a2854281c",
   "metadata": {},
   "outputs": [
    {
     "name": "stdout",
     "output_type": "stream",
     "text": [
      "page=2&q=python tips\n"
     ]
    }
   ],
   "source": [
    "sample = {'page': 2, 'q': 'python tips'}\n",
    "\n",
    "dic = []\n",
    "\n",
    "for x,y in sample.items():\n",
    "    pair = (f\"{x}={str(y)}\")\n",
    "    dic.append(pair)\n",
    "\n",
    "join = \"&\".join(dic)\n",
    "\n",
    "print(join)"
   ]
  },
  {
   "cell_type": "code",
   "execution_count": 135,
   "id": "9d0625af-d3aa-48ea-8471-070e45b0f040",
   "metadata": {},
   "outputs": [
    {
     "name": "stdout",
     "output_type": "stream",
     "text": [
      "{'text': '1-10', 'extra': {}}\n"
     ]
    },
    {
     "data": {
      "text/plain": [
       "{'text': '1-10', 'extra': {'theme': 'dark', 'retries': 3}}"
      ]
     },
     "execution_count": 135,
     "metadata": {},
     "output_type": "execute_result"
    }
   ],
   "source": [
    "def demo(a, b=10, *args, sep = \"-\", **kwargs):\n",
    "    test = sep.join([str(a), str(b),*map(str, args)])\n",
    "\n",
    "    return {\"text\": test, \"extra\": kwargs}\n",
    "\n",
    "print(demo(1))\n",
    "demo(1, 2, 3, 4, sep=\"|\")\n",
    "demo(1, theme=\"dark\", retries=3)"
   ]
  },
  {
   "cell_type": "code",
   "execution_count": 150,
   "id": "c91975b6-1348-419e-b3ed-826904373603",
   "metadata": {},
   "outputs": [
    {
     "name": "stdout",
     "output_type": "stream",
     "text": [
      "<class 'str'>\n"
     ]
    }
   ],
   "source": [
    "nums = [1,2,3]\n",
    "\n",
    "it = list(map(str, nums))\n",
    "\n",
    "print(type(it[0]))"
   ]
  },
  {
   "cell_type": "code",
   "execution_count": 151,
   "id": "fee3f831-ff4a-4aa6-8efb-d69cdf7c3c3b",
   "metadata": {},
   "outputs": [
    {
     "name": "stdout",
     "output_type": "stream",
     "text": [
      "{'label': '1-2', 'style': {}}\n",
      "{'label': 'ID-123-456', 'style': {}}\n"
     ]
    }
   ],
   "source": [
    "def make_label(prefix, *parts, sep = '-', **style):\n",
    "    label_maker = [str(prefix)] + list(map(str, parts))\n",
    "    label = sep.join(label_maker)\n",
    "\n",
    "    return {\"label\": label, \"style\": style}\n",
    "\n",
    "print(make_label(1,2))\n",
    "print(make_label(\"ID\",\"123\",456))"
   ]
  },
  {
   "cell_type": "code",
   "execution_count": 160,
   "id": "bdf701f9-223b-4679-a242-f2f7e82ec6f0",
   "metadata": {},
   "outputs": [
    {
     "name": "stdout",
     "output_type": "stream",
     "text": [
      "{'label': '1-2', 'style': {}}\n",
      "{'label': 'ID|123|456', 'style': {}}\n",
      "{'label': 'ID-123', 'style': {'color': 'red', 'size': 12}}\n"
     ]
    }
   ],
   "source": [
    "def make_label(prefix, *parts, sep = '-', **style):\n",
    "    label_maker = [str(prefix)]\n",
    "    for i in parts:\n",
    "        y = str(i)\n",
    "        label_maker.append(y)\n",
    "\n",
    "    label = sep.join(label_maker)\n",
    "    \n",
    "    return {\"label\": label, \"style\": style}\n",
    "\n",
    "print(make_label(1,2))\n",
    "print(make_label(\"ID\",\"123\",456, sep = '|'))\n",
    "print(make_label(\"ID\", \"123\", color=\"red\", size=12))"
   ]
  },
  {
   "cell_type": "code",
   "execution_count": 180,
   "id": "f129d952-f1e6-47b4-b01d-0714da6c40f6",
   "metadata": {},
   "outputs": [
    {
     "name": "stdout",
     "output_type": "stream",
     "text": [
      "[10, 1]\n"
     ]
    }
   ],
   "source": [
    "#safe_append(x, bag=None) → append x to a list; avoid mutable-default bug. Hint: if bag is None: bag = [].\n",
    "\n",
    "def safe_append(x, bag = None):\n",
    "    if bag is None:\n",
    "        bag = []\n",
    "    bag.append(x)\n",
    "    return bag\n",
    "\n",
    "print(safe_append(1, [10]))"
   ]
  },
  {
   "cell_type": "code",
   "execution_count": 202,
   "id": "05c7de1d-8640-4a20-8f90-4a5bbd0ce353",
   "metadata": {},
   "outputs": [
    {
     "name": "stdout",
     "output_type": "stream",
     "text": [
      "9\n"
     ]
    }
   ],
   "source": [
    "row = [(1,2), (3,4), (5,6)]\n",
    "\n",
    "x = []\n",
    "for i in row:\n",
    "    y = i[0]\n",
    "    x.append(y)\n",
    "\n",
    "print(sum(x))"
   ]
  },
  {
   "cell_type": "code",
   "execution_count": 226,
   "id": "564068f1-0305-47b1-ae46-401e39e60821",
   "metadata": {},
   "outputs": [
    {
     "name": "stdout",
     "output_type": "stream",
     "text": [
      "3\n"
     ]
    }
   ],
   "source": [
    "def table_sum(*items,col=0):\n",
    "    x = []\n",
    "    a = []\n",
    "    for i in items:\n",
    "        y = i[col]\n",
    "        x.append(y)\n",
    "        return sum(x)\n",
    "\n",
    "print(table_sum((1,2,3), col = 2))"
   ]
  },
  {
   "cell_type": "code",
   "execution_count": 251,
   "id": "78dc52fc-8f93-49e4-804a-eb8c606f0328",
   "metadata": {},
   "outputs": [
    {
     "name": "stdout",
     "output_type": "stream",
     "text": [
      "5\n"
     ]
    }
   ],
   "source": [
    "#table_sum(rows, *, col=0) → each row is a list/tuple; sum values at index col. Hint: keyword-only param via * in the signature.\n",
    "\n",
    "def table_sum(rows, *, col = 0):\n",
    "    x = []\n",
    "    for row in rows:\n",
    "        # print(row)\n",
    "        y = row[col]\n",
    "        # print(y)\n",
    "        x.append(y)\n",
    "    return sum(x)\n",
    "\n",
    "rows = [(1,2),(2,3)]\n",
    "print(table_sum(rows, col = 1))"
   ]
  },
  {
   "cell_type": "code",
   "execution_count": 234,
   "id": "1c642d2b-43ed-4302-8f75-9c885bd27c18",
   "metadata": {},
   "outputs": [
    {
     "name": "stdout",
     "output_type": "stream",
     "text": [
      "3\n"
     ]
    }
   ],
   "source": [
    "rows = [(2,3), (5,7), (11,13)]\n",
    "\n",
    "def table_sum(row, *, col=0):\n",
    "    print(len(rows))\n",
    "\n",
    "table_sum(rows)\n"
   ]
  },
  {
   "cell_type": "code",
   "execution_count": 262,
   "id": "05270796-8b0f-47e9-92f6-61ebf874880b",
   "metadata": {},
   "outputs": [
    {
     "name": "stdout",
     "output_type": "stream",
     "text": [
      "[80, 90, 100]\n",
      "270\n",
      "3\n",
      "90.0\n",
      "100\n",
      "{'sum': 270, 'n': 3, 'mean': 90.0, 'max': 100}\n"
     ]
    }
   ],
   "source": [
    "score_report = [80,90,70,100]\n",
    "\n",
    "min_element = min(score_report)\n",
    "\n",
    "remove_min = score_report.remove(min_element)\n",
    "\n",
    "print(score_report)\n",
    "\n",
    "sum_of_nums = sum(score_report)\n",
    "print(sum_of_nums)\n",
    "\n",
    "n = len(score_report)\n",
    "print(n)\n",
    "\n",
    "mean = sum_of_nums/n\n",
    "print(mean)\n",
    "\n",
    "max_num = max(score_report)\n",
    "print(max_num)\n",
    "\n",
    "dic_score = {\n",
    "    \"sum\": sum_of_nums,\n",
    "    \"n\": n,\n",
    "    \"mean\": mean,\n",
    "    \"max\": max_num\n",
    "}\n",
    "\n",
    "print(dic_score)"
   ]
  },
  {
   "cell_type": "code",
   "execution_count": 290,
   "id": "728c5f6a-0aa8-45c8-94a6-056b7929dfe4",
   "metadata": {},
   "outputs": [
    {
     "data": {
      "text/plain": [
       "{'sum': 275, 'n': 3, 'mean': 91.7, 'max': 100}"
      ]
     },
     "execution_count": 290,
     "metadata": {},
     "output_type": "execute_result"
    }
   ],
   "source": [
    "def score_report(*scores, drop_lowest = True, round_to = 1):\n",
    "    x = list(scores)\n",
    "    if drop_lowest == True:\n",
    "        min_element = min(x)\n",
    "        remove_min = x.remove(min_element)\n",
    "\n",
    "        n = len(x)\n",
    "        sum_nums = sum(x)\n",
    "        mean = sum_nums/n\n",
    "        max_num = max(x)\n",
    "    else:\n",
    "        n = len(x)\n",
    "        sum_nums = sum(x)\n",
    "        mean = sum_nums/n\n",
    "        max_num = max(x)\n",
    "        \n",
    "    return {\n",
    "        \"sum\": sum_nums,\n",
    "        \"n\": n,\n",
    "        \"mean\": round(mean, round_to),\n",
    "        \"max\": max_num\n",
    "    }\n",
    "\n",
    "score_report(80, 95, 70, 100)"
   ]
  },
  {
   "cell_type": "code",
   "execution_count": 288,
   "id": "84b131fd-2398-4003-9bfa-f7984b57c9cf",
   "metadata": {},
   "outputs": [
    {
     "data": {
      "text/plain": [
       "92"
      ]
     },
     "execution_count": 288,
     "metadata": {},
     "output_type": "execute_result"
    }
   ],
   "source": [
    "x = 91.66666666666667\n",
    "y = None\n",
    "\n",
    "round(x,y)"
   ]
  },
  {
   "cell_type": "code",
   "execution_count": 293,
   "id": "83e99d6b-11f9-4703-8df7-d7cace1aaa1b",
   "metadata": {},
   "outputs": [
    {
     "data": {
      "text/plain": [
       "27"
      ]
     },
     "execution_count": 293,
     "metadata": {},
     "output_type": "execute_result"
    }
   ],
   "source": [
    "cubed = lambda x: x**3\n",
    "\n",
    "cubed(3)"
   ]
  },
  {
   "cell_type": "code",
   "execution_count": 303,
   "id": "aa8850d3-7c44-4787-841a-0436fa847ddc",
   "metadata": {},
   "outputs": [
    {
     "data": {
      "text/plain": [
       "float"
      ]
     },
     "execution_count": 303,
     "metadata": {},
     "output_type": "execute_result"
    }
   ],
   "source": [
    "area_triangle = lambda a,b: (a*b)/2\n",
    "\n",
    "type(area_triangle(5,3.2))"
   ]
  },
  {
   "cell_type": "code",
   "execution_count": 316,
   "id": "eb72301e-75d8-489e-b1e1-fe12b5253788",
   "metadata": {},
   "outputs": [
    {
     "name": "stdout",
     "output_type": "stream",
     "text": [
      "['RAKSHIT', 'KUSUM', 'RAVI', 'RIDDHI']\n"
     ]
    }
   ],
   "source": [
    "names = [\"rakshit\", \"kusum\", \"ravi\", \"riddhi\"]\n",
    "\n",
    "upper_name = list(map(lambda s:s.upper(), names))\n",
    "\n",
    "print(upper_name)"
   ]
  },
  {
   "cell_type": "code",
   "execution_count": 320,
   "id": "a22c6963-4858-44cc-8a20-634a42d20460",
   "metadata": {},
   "outputs": [
    {
     "name": "stdout",
     "output_type": "stream",
     "text": [
      "[6, 12]\n"
     ]
    }
   ],
   "source": [
    "nums = [3, 6, 9, 12, 15]\n",
    "\n",
    "even = list(filter(lambda s: s%2 == 0, nums))\n",
    "\n",
    "print(even)\n",
    "\n",
    "#Map returns a list with for each element\n",
    "#Filter returns a filtered list "
   ]
  },
  {
   "cell_type": "code",
   "execution_count": 321,
   "id": "3c98cb8c-48fe-41b4-9d5e-1b499da371f7",
   "metadata": {},
   "outputs": [
    {
     "name": "stdout",
     "output_type": "stream",
     "text": [
      "[6, 9, 12, 15]\n"
     ]
    }
   ],
   "source": [
    "#Can you keep numbers that are multiples of 3 and greater than 5?\n",
    "\n",
    "nums = [3, 6, 9, 12, 15]\n",
    "\n",
    "comp = list(filter(lambda n: n%3 ==0 and n>5, nums))\n",
    "\n",
    "print(comp)"
   ]
  },
  {
   "cell_type": "code",
   "execution_count": 326,
   "id": "ed22c984-48c1-4e55-b36a-c25513b95d86",
   "metadata": {},
   "outputs": [
    {
     "name": "stdout",
     "output_type": "stream",
     "text": [
      "['is', 'handy', 'python']\n"
     ]
    }
   ],
   "source": [
    "words = [\"python\", \"is\", \"handy\"]\n",
    "result = sorted(words, key=lambda w: len(w))\n",
    "print(result)"
   ]
  },
  {
   "cell_type": "code",
   "execution_count": 329,
   "id": "b53d558d-6a36-4d71-a9a5-e8a558319e4d",
   "metadata": {},
   "outputs": [
    {
     "data": {
      "text/plain": [
       "24"
      ]
     },
     "execution_count": 329,
     "metadata": {},
     "output_type": "execute_result"
    }
   ],
   "source": [
    "result = lambda n:(n**2)-1\n",
    "\n",
    "result(5)"
   ]
  },
  {
   "cell_type": "code",
   "execution_count": 406,
   "id": "18fba808-0a7b-4572-ba77-1afb0588f036",
   "metadata": {},
   "outputs": [
    {
     "name": "stdout",
     "output_type": "stream",
     "text": [
      "inf\n"
     ]
    }
   ],
   "source": [
    "safe_divide = lambda a,b: float(a/b) if b !=0 else float(\"Infinity\")\n",
    "\n",
    "print(safe_divide(3,0))"
   ]
  },
  {
   "cell_type": "code",
   "execution_count": 408,
   "id": "ab4e5843-e3c7-4e61-8c5b-c9a8e2d93e41",
   "metadata": {},
   "outputs": [
    {
     "data": {
      "text/plain": [
       "''"
      ]
     },
     "execution_count": 408,
     "metadata": {},
     "output_type": "execute_result"
    }
   ],
   "source": [
    "word = \"Python\"\n",
    "\n",
    "last_char = lambda s:s[-1] if s else \"\"\n",
    "\n",
    "last_char(\"\")"
   ]
  },
  {
   "cell_type": "code",
   "execution_count": 366,
   "id": "dcc13ca0-f8b9-4813-b4d5-800efb7d6f1e",
   "metadata": {},
   "outputs": [
    {
     "name": "stdout",
     "output_type": "stream",
     "text": [
      "[6, 2, 7]\n"
     ]
    }
   ],
   "source": [
    "#map to their lengths\n",
    "\n",
    "words = [\"lambda\", \"AI\", \"product\"]\n",
    "\n",
    "words_map = list(map(lambda s:len(s), words))\n",
    "\n",
    "print(words_map)"
   ]
  },
  {
   "cell_type": "code",
   "execution_count": 369,
   "id": "c8de482d-33a7-4321-95a6-4f0f67757d36",
   "metadata": {},
   "outputs": [
    {
     "name": "stdout",
     "output_type": "stream",
     "text": [
      "[118.0, 295.0, 472.0]\n"
     ]
    }
   ],
   "source": [
    "prices = [100, 250, 400]\n",
    "\n",
    "price_gst = list(map(lambda s:s*(1.18), prices))\n",
    "\n",
    "print(price_gst)"
   ]
  },
  {
   "cell_type": "code",
   "execution_count": 372,
   "id": "15af12f2-df76-4f9e-a5d8-63939977ebe2",
   "metadata": {},
   "outputs": [
    {
     "name": "stdout",
     "output_type": "stream",
     "text": [
      "openai-pm-basics\n"
     ]
    }
   ],
   "source": [
    "parts = [\"OpenAI\", \"PM\", \"Basics\"]\n",
    "\n",
    "parts_lower = list(map(lambda s:s.lower(), parts))\n",
    "\n",
    "print(\"-\".join(parts_lower))"
   ]
  },
  {
   "cell_type": "code",
   "execution_count": 376,
   "id": "e38ea609-eb92-4e88-a05c-447d703e075f",
   "metadata": {},
   "outputs": [
    {
     "name": "stdout",
     "output_type": "stream",
     "text": [
      "[5, 10]\n"
     ]
    }
   ],
   "source": [
    "nums = [-10, -5, 0, 5, 10, 11]\n",
    "\n",
    "num_filter = list(filter(lambda s:s%5 == 0 and s >0, nums))\n",
    "\n",
    "print(num_filter)"
   ]
  },
  {
   "cell_type": "code",
   "execution_count": 405,
   "id": "98b61b00-cf67-46a9-9a73-cedfb305ff46",
   "metadata": {},
   "outputs": [
    {
     "data": {
      "text/plain": [
       "['ai', 'pm', 'data']"
      ]
     },
     "execution_count": 405,
     "metadata": {},
     "output_type": "execute_result"
    }
   ],
   "source": [
    "raw = [\" \", \" ai \", \"\", \"pm\", \" data\"]\n",
    "\n",
    "raw_convert = list(map(lambda s:s.strip(), raw))\n",
    "\n",
    "remove = list(filter(None, raw_convert))\n",
    "\n",
    "raw_convert\n",
    "remove"
   ]
  },
  {
   "cell_type": "code",
   "execution_count": 398,
   "id": "c29678c8-27bb-470b-a73c-d6aca9218ea6",
   "metadata": {},
   "outputs": [
    {
     "name": "stdout",
     "output_type": "stream",
     "text": [
      "['ai', 'pm', 'data']\n"
     ]
    }
   ],
   "source": [
    "raw = [\" \", \" ai \", \"\", \"pm\", \" data\"]\n",
    "\n",
    "# y = []\n",
    "y = []\n",
    "\n",
    "for s in raw:\n",
    "    x = s.strip()\n",
    "    y.append(x)\n",
    "    \n",
    "filtered = list(filter(None, y))\n",
    "\n",
    "print(filtered)"
   ]
  },
  {
   "cell_type": "code",
   "execution_count": 414,
   "id": "ddd9b73c-faa3-4c52-ada6-b0bc465e4c74",
   "metadata": {},
   "outputs": [
    {
     "data": {
      "text/plain": [
       "['a', 'a', 'a', 'u', 'u']"
      ]
     },
     "execution_count": 414,
     "metadata": {},
     "output_type": "execute_result"
    }
   ],
   "source": [
    "chars = list(\"lambda calculus\")\n",
    "vowels = [\"a\",\"e\",\"i\",\"o\",\"u\"]\n",
    "\n",
    "remove = list(filter(lambda s:s in vowels, chars))\n",
    "\n",
    "remove"
   ]
  },
  {
   "cell_type": "code",
   "execution_count": 415,
   "id": "fa739d66-24b4-4e34-8828-e8e058e4e0ec",
   "metadata": {},
   "outputs": [
    {
     "data": {
      "text/plain": [
       "['is', 'handy', 'python']"
      ]
     },
     "execution_count": 415,
     "metadata": {},
     "output_type": "execute_result"
    }
   ],
   "source": [
    "words = [\"python\",\"is\",\"handy\"]\n",
    "\n",
    "sort = list(sorted(words, key = lambda i:len(i)))\n",
    "\n",
    "sort"
   ]
  },
  {
   "cell_type": "code",
   "execution_count": 422,
   "id": "1ff77431-0f84-486f-adf3-a02de9d0ea9a",
   "metadata": {},
   "outputs": [
    {
     "data": {
      "text/plain": [
       "['Ana', 'bob', 'CHRIS']"
      ]
     },
     "execution_count": 422,
     "metadata": {},
     "output_type": "execute_result"
    }
   ],
   "source": [
    "names = [\"Ana\",\"bob\",\"CHRIS\"]\n",
    "\n",
    "sort = list(sorted(names, key = lambda i:i.lower()))\n",
    "\n",
    "sort"
   ]
  },
  {
   "cell_type": "code",
   "execution_count": 421,
   "id": "a8b701aa-89f7-4e50-9e8e-49ac273d2e66",
   "metadata": {},
   "outputs": [
    {
     "data": {
      "text/plain": [
       "['Delhi', 'Pune', 'Goa', 'Agra']"
      ]
     },
     "execution_count": 421,
     "metadata": {},
     "output_type": "execute_result"
    }
   ],
   "source": [
    "cities = [\"Pune\",\"Delhi\",\"Goa\",\"Agra\"]\n",
    "\n",
    "sort = list(sorted(cities, key = lambda i:i[-1], reverse = True))\n",
    "\n",
    "sort"
   ]
  },
  {
   "cell_type": "code",
   "execution_count": 1,
   "id": "c6f85fdc-d111-492f-b49f-65f6d574854e",
   "metadata": {},
   "outputs": [
    {
     "data": {
      "text/plain": [
       "['s', 'h', 'i', 'p']"
      ]
     },
     "execution_count": 1,
     "metadata": {},
     "output_type": "execute_result"
    }
   ],
   "source": [
    "words = [\"ship\",\"spaceship\",\"car\"]\n",
    "\n",
    "sort = list(max(words, key = lambda i:len(words)))\n",
    "\n",
    "sort"
   ]
  },
  {
   "cell_type": "code",
   "execution_count": 4,
   "id": "399176bc-cf40-41d8-8551-b43f3bb7e83a",
   "metadata": {},
   "outputs": [
    {
     "name": "stdout",
     "output_type": "stream",
     "text": [
      "spaceship\n"
     ]
    }
   ],
   "source": [
    "words = [\"ship\",\"spaceship\",\"car\"]\n",
    "\n",
    "sort = print(max(words, key=len))\n",
    "\n",
    "sort"
   ]
  },
  {
   "cell_type": "code",
   "execution_count": 24,
   "id": "54d9b6c7-5eef-4639-97a4-a7d93f69f1fd",
   "metadata": {},
   "outputs": [
    {
     "name": "stdout",
     "output_type": "stream",
     "text": [
      "['pmm', 'aiiii']\n",
      "pmm\n"
     ]
    }
   ],
   "source": [
    "cand = [\"\",\"pmm\",\"aiiii\",\"\"]\n",
    "\n",
    "filtered = list(filter(None, cand))\n",
    "\n",
    "filtered_1 = min(filtered, key = len)\n",
    "\n",
    "print(filtered)\n",
    "\n",
    "print(filtered_1)"
   ]
  },
  {
   "cell_type": "code",
   "execution_count": 31,
   "id": "aeb96189-6200-4e8c-80e4-2ab991b9cacc",
   "metadata": {},
   "outputs": [
    {
     "name": "stdout",
     "output_type": "stream",
     "text": [
      "ai\n",
      "lambda\n",
      "product\n",
      "engineering\n"
     ]
    }
   ],
   "source": [
    "words = [\"ai\",\"lambda\",\"product\",\"engineering\"]\n",
    "\n",
    "vowels = ['a','e','i','o','u']\n",
    "\n",
    "count = {}\n",
    "\n",
    "for i in words:\n",
    "    \n",
    "    i.lower()\n",
    "    print(i)"
   ]
  },
  {
   "cell_type": "code",
   "execution_count": 36,
   "id": "512f0eea-a7ac-4b67-89f3-a2fdd809ba23",
   "metadata": {},
   "outputs": [
    {
     "data": {
      "text/plain": [
       "['Alice', 'Bob', 'Chris', 'Deepu']"
      ]
     },
     "execution_count": 36,
     "metadata": {},
     "output_type": "execute_result"
    }
   ],
   "source": [
    "# map to strip().title()\n",
    "\n",
    "# filter names with length ≥ 4\n",
    "\n",
    "# sorted alphabetically\n",
    "# Print final list.\n",
    "\n",
    "names = [\" alice\", \"BOB \", \" chris \", \"deEpu\"]\n",
    "\n",
    "stripped = list(map(lambda i:i.strip(), names))\n",
    "\n",
    "title_case = list(map(lambda x:x.title(), stripped))\n",
    "\n",
    "name_sort = list(sorted(title_case, key = lambda x:x))\n",
    "\n",
    "name_sort"
   ]
  },
  {
   "cell_type": "code",
   "execution_count": 45,
   "id": "d47e84d4-8115-4499-8cef-b242dacc4cac",
   "metadata": {},
   "outputs": [
    {
     "data": {
      "text/plain": [
       "['Premium', 'Premium', 'Standard', 'Standard', 'Standard']"
      ]
     },
     "execution_count": 45,
     "metadata": {},
     "output_type": "execute_result"
    }
   ],
   "source": [
    "#Keep prices ≥ 100\n",
    "\n",
    "#Map to \"premium\" if ≥ 500 else \"standard\"\n",
    "\n",
    "#Sort labels so \"premium\" comes first (custom key).\n",
    "#Hint: sort with key=lambda label: 0 if label==\"premium\" else 1.\n",
    "\n",
    "prices = [99, 150, 499, 501, 999]\n",
    "\n",
    "sorted_list = list(sorted(prices_map, key = lambda i:i))\n",
    "\n",
    "sorted_list"
   ]
  },
  {
   "cell_type": "code",
   "execution_count": 60,
   "id": "b86b4557-e94c-458e-a969-817c8354e479",
   "metadata": {},
   "outputs": [
    {
     "data": {
      "text/plain": [
       "[{'name': 'Bob', 'age': 24},\n",
       " {'name': 'Ana', 'age': 29},\n",
       " {'name': 'Chris', 'age': 33}]"
      ]
     },
     "execution_count": 60,
     "metadata": {},
     "output_type": "execute_result"
    }
   ],
   "source": [
    "users = [\n",
    "  {\"name\":\"Ana\",\"age\":29},\n",
    "  {\"name\":\"Bob\",\"age\":24},\n",
    "  {\"name\":\"Chris\",\"age\":33}\n",
    "]\n",
    "\n",
    "sorted_by_age = sorted(users, key = lambda i:i[\"age\"])\n",
    "\n",
    "sorted_by_age"
   ]
  },
  {
   "cell_type": "code",
   "execution_count": 72,
   "id": "cbe3edf3-18d0-482a-9c8e-185aa985ac5e",
   "metadata": {},
   "outputs": [
    {
     "name": "stdout",
     "output_type": "stream",
     "text": [
      "{'name': 'Y', 'rating': 4.7, 'price': 999}\n"
     ]
    }
   ],
   "source": [
    "products = [\n",
    "  {\"name\":\"X\",\"rating\":4.7,\"price\":1200},\n",
    "  {\"name\":\"Y\",\"rating\":4.7,\"price\":999},\n",
    "  {\"name\":\"Z\",\"rating\":4.5,\"price\":700}\n",
    "]\n",
    "\n",
    "sorted_rating = sorted(products, key = lambda i:(-i[\"rating\"],i[\"price\"]))\n",
    "\n",
    "print(sorted_rating[0])"
   ]
  },
  {
   "cell_type": "code",
   "execution_count": 74,
   "id": "59752264-633b-49bc-9582-91aea0922cf5",
   "metadata": {},
   "outputs": [
    {
     "data": {
      "text/plain": [
       "['satya Nadella', 'sundar Pichai', 'Susan Wojcicki']"
      ]
     },
     "execution_count": 74,
     "metadata": {},
     "output_type": "execute_result"
    }
   ],
   "source": [
    "people = [\"sundar Pichai\",\"satya Nadella\",\"Susan Wojcicki\"]\n",
    "\n",
    "last = sorted(people, key = lambda i:i[-1].lower())\n",
    "\n",
    "last"
   ]
  },
  {
   "cell_type": "code",
   "execution_count": 108,
   "id": "058a7971-9e3d-4ea1-84ba-2ad2571e38aa",
   "metadata": {},
   "outputs": [
    {
     "data": {
      "text/plain": [
       "[{'impr': 500, 'clicks': 15}]"
      ]
     },
     "execution_count": 108,
     "metadata": {},
     "output_type": "execute_result"
    }
   ],
   "source": [
    "logs = [\n",
    "  {\"impr\": 1000, \"clicks\": 10},\n",
    "  {\"impr\": 500, \"clicks\": 15},\n",
    "  {\"impr\": 1000, \"clicks\": 1},\n",
    "]\n",
    "\n",
    "sorted_logs = list(filter(lambda i:(i[\"clicks\"]/i[\"impr\"])>=0.02,logs))\n",
    "\n",
    "sorted_logs"
   ]
  },
  {
   "cell_type": "code",
   "execution_count": 101,
   "id": "8c80f509-62e8-4731-a133-029e7a2b3404",
   "metadata": {},
   "outputs": [
    {
     "name": "stdout",
     "output_type": "stream",
     "text": [
      "[{'name': 'X', 'rating': 47, 'price': 1200, 'Adjusted Value': 0.03916666666666667}, {'name': 'Y', 'rating': 48, 'price': 999, 'Adjusted Value': 0.04804804804804805}, {'name': 'Z', 'rating': 45, 'price': 700, 'Adjusted Value': 0.06428571428571428}]\n"
     ]
    }
   ],
   "source": [
    "products = [\n",
    "  {\"name\": \"X\", \"rating\": 47, \"price\": 1200},\n",
    "  {\"name\": \"Y\", \"rating\": 48, \"price\": 999},\n",
    "  {\"name\": \"Z\", \"rating\": 45, \"price\": 700}\n",
    "]\n",
    "\n",
    "append_list = {}\n",
    "\n",
    "for i in products:\n",
    "    x = i[\"rating\"]/i[\"price\"]\n",
    "    append_list.update({i[\"name\"]: x})  \n",
    "\n",
    "\n",
    "for x in products:\n",
    "    x[\"Adjusted Value\"] = append_list[x[\"name\"]]\n",
    "\n",
    "print(products)"
   ]
  },
  {
   "cell_type": "code",
   "execution_count": 107,
   "id": "b0a12492-bc44-4caa-a252-c66acb5918f3",
   "metadata": {},
   "outputs": [
    {
     "data": {
      "text/plain": [
       "[6, 12]"
      ]
     },
     "execution_count": 107,
     "metadata": {},
     "output_type": "execute_result"
    }
   ],
   "source": [
    "nums = [3, 6, 9, 12, 15]\n",
    "\n",
    "even = list(filter(lambda s: s%2 == 0, nums))\n",
    "\n",
    "even"
   ]
  },
  {
   "cell_type": "code",
   "execution_count": 110,
   "id": "de90b635-8adb-4b76-9553-1c369bc58205",
   "metadata": {},
   "outputs": [
    {
     "data": {
      "text/plain": [
       "[14, 20]"
      ]
     },
     "execution_count": 110,
     "metadata": {},
     "output_type": "execute_result"
    }
   ],
   "source": [
    "nums = [2, 5, 7, 10]\n",
    "\n",
    "multiple = [n*2 for n in nums if n>5]\n",
    "\n",
    "multiple"
   ]
  },
  {
   "cell_type": "code",
   "execution_count": 118,
   "id": "ddda61ae-5787-4186-90d4-ab236bd3b174",
   "metadata": {},
   "outputs": [
    {
     "data": {
      "text/plain": [
       "['lambda:6', 'product:7']"
      ]
     },
     "execution_count": 118,
     "metadata": {},
     "output_type": "execute_result"
    }
   ],
   "source": [
    "words = [\"lambda\", \"AI\", \"product\"]\n",
    "\n",
    "length = [f\"{i}:{len(i)}\" for i in words if len(i)>5]\n",
    "\n",
    "length"
   ]
  },
  {
   "cell_type": "code",
   "execution_count": 2,
   "id": "c8f9ff7b-2678-40cc-9d1e-c40144686948",
   "metadata": {},
   "outputs": [
    {
     "data": {
      "text/plain": [
       "[('Pune', 'A'), ('Pune', 'B'), ('Delhi', 'A'), ('Delhi', 'B')]"
      ]
     },
     "execution_count": 2,
     "metadata": {},
     "output_type": "execute_result"
    }
   ],
   "source": [
    "pairs = []\n",
    "for city in [\"Pune\", \"Delhi\"]:\n",
    "    for letter in [\"A\", \"B\"]:\n",
    "        pairs.append((city, letter))\n",
    "\n",
    "pairs"
   ]
  },
  {
   "cell_type": "code",
   "execution_count": 9,
   "id": "ea79ddf9-86df-4ff0-bdc3-03f7d61105eb",
   "metadata": {},
   "outputs": [
    {
     "data": {
      "text/plain": [
       "[('Agra', 'A')]"
      ]
     },
     "execution_count": 9,
     "metadata": {},
     "output_type": "execute_result"
    }
   ],
   "source": [
    "pair_1 = []\n",
    "\n",
    "pair_2 = []\n",
    "\n",
    "for city in ['Pune', 'Delhi','Agra']:\n",
    "    pair_1.append(city)\n",
    "    for letter in [\"A\", \"B\"]:\n",
    "        if letter == city[0]:\n",
    "            pair_2.append((city,letter))\n",
    "\n",
    "pair_2"
   ]
  },
  {
   "cell_type": "code",
   "execution_count": 13,
   "id": "84da93d2-0d18-4b38-b420-18606bd07519",
   "metadata": {},
   "outputs": [
    {
     "data": {
      "text/plain": [
       "[('Delhi', 'D'), ('Bhopal', 'B')]"
      ]
     },
     "execution_count": 13,
     "metadata": {},
     "output_type": "execute_result"
    }
   ],
   "source": [
    "pairs = [(city,letter) for city in ['Pune','Delhi','Bhopal'] for letter in ['D','B'] if letter == city[0]]\n",
    "\n",
    "pairs"
   ]
  },
  {
   "cell_type": "code",
   "execution_count": 12,
   "id": "895273cd-b197-4ceb-9468-fa5ff4e29339",
   "metadata": {},
   "outputs": [
    {
     "data": {
      "text/plain": [
       "[('Pune', 'A'), ('Pune', 'B'), ('Delhi', 'A'), ('Delhi', 'B')]"
      ]
     },
     "execution_count": 12,
     "metadata": {},
     "output_type": "execute_result"
    }
   ],
   "source": [
    "pairs = [(city,letter) for city in ['Pune','Delhi'] for letter in ['A','B']]\n",
    "\n",
    "pairs"
   ]
  },
  {
   "cell_type": "code",
   "execution_count": 15,
   "id": "788eee1e-0fa8-4f0e-a3ee-ae8d7c0da8e9",
   "metadata": {},
   "outputs": [
    {
     "name": "stdout",
     "output_type": "stream",
     "text": [
      "-----\n"
     ]
    }
   ],
   "source": [
    "print(\"-----\")"
   ]
  },
  {
   "cell_type": "code",
   "execution_count": 289,
   "id": "4a218e52-4340-4068-ae36-d7df1b789fb4",
   "metadata": {},
   "outputs": [],
   "source": [
    "game_list = [0,1,2]"
   ]
  },
  {
   "cell_type": "code",
   "execution_count": 294,
   "id": "9007cdcf-cd91-41bd-8d2f-ff98a2aaef41",
   "metadata": {},
   "outputs": [],
   "source": [
    "def game_input():\n",
    "    x = False\n",
    "\n",
    "    while x == False:\n",
    "        user_input = input(\"Enter numbers between 0 and 3: \")\n",
    "        integer_check = user_input.isdigit()\n",
    "        if integer_check == False or int(user_input) not in range(0,3):\n",
    "            print(\"You have entered an incorrect number\")\n",
    "        else:\n",
    "            integer_convert = int(user_input)\n",
    "            x = True\n",
    "    \n",
    "    return integer_convert"
   ]
  },
  {
   "cell_type": "code",
   "execution_count": 295,
   "id": "a0c7aaf5-f60b-40ef-a573-171b2b9b5439",
   "metadata": {},
   "outputs": [
    {
     "name": "stdin",
     "output_type": "stream",
     "text": [
      "Enter numbers between 0 and 3:  J\n"
     ]
    },
    {
     "name": "stdout",
     "output_type": "stream",
     "text": [
      "You have entered an incorrect number\n"
     ]
    },
    {
     "name": "stdin",
     "output_type": "stream",
     "text": [
      "Enter numbers between 0 and 3:  1\n"
     ]
    }
   ],
   "source": [
    "index_value = game_input()"
   ]
  },
  {
   "cell_type": "code",
   "execution_count": 291,
   "id": "35639a80-a828-438b-908c-32e14a46e375",
   "metadata": {},
   "outputs": [],
   "source": [
    "def update_value():\n",
    "    input_value = input(\"Enter the replacement value: \")\n",
    "    game_list[index_value] = input_value\n",
    "    return print(game_list)"
   ]
  },
  {
   "cell_type": "code",
   "execution_count": 262,
   "id": "02b9c27f-5c96-4401-99f4-a26e97519180",
   "metadata": {},
   "outputs": [
    {
     "name": "stdin",
     "output_type": "stream",
     "text": [
      "Enter the replacement value:  j\n"
     ]
    },
    {
     "name": "stdout",
     "output_type": "stream",
     "text": [
      "[0, 'j', 2]\n"
     ]
    }
   ],
   "source": [
    "updated_list = update_value()"
   ]
  },
  {
   "cell_type": "code",
   "execution_count": 298,
   "id": "46df3912-86b8-4211-ae09-7c15f84dbbf1",
   "metadata": {},
   "outputs": [],
   "source": [
    "def game_continue():\n",
    "    game_on = True\n",
    "    accepted_inputs = ['Y','N']\n",
    "    while game_on == True:\n",
    "        input_continue = input(\"Do you want to continue? (Y/N) \")\n",
    "        if input_continue not in accepted_inputs:\n",
    "            print (\"Put acceptable inputs\")\n",
    "        elif input_continue == 'Y':\n",
    "            return True\n",
    "        elif input_continue == 'N':\n",
    "            return False\n",
    "            break\n",
    "    return game_on"
   ]
  },
  {
   "cell_type": "code",
   "execution_count": 299,
   "id": "e96a8c26-14af-4fb9-ac1f-abf934f11830",
   "metadata": {},
   "outputs": [
    {
     "name": "stdin",
     "output_type": "stream",
     "text": [
      "Do you want to continue? (Y/N)  Y\n"
     ]
    }
   ],
   "source": [
    "game_on_choice = game_continue()"
   ]
  },
  {
   "cell_type": "code",
   "execution_count": 293,
   "id": "cb8ef830-51bc-47de-baf2-94e97a7eb31b",
   "metadata": {},
   "outputs": [
    {
     "name": "stdin",
     "output_type": "stream",
     "text": [
      "Enter numbers between 0 and 3:  1\n",
      "Enter the replacement value:  j\n"
     ]
    },
    {
     "name": "stdout",
     "output_type": "stream",
     "text": [
      "[0, 'j', 2]\n"
     ]
    },
    {
     "name": "stdin",
     "output_type": "stream",
     "text": [
      "Do you want to continue? (Y/N)  N\n"
     ]
    },
    {
     "name": "stdout",
     "output_type": "stream",
     "text": [
      "False\n"
     ]
    }
   ],
   "source": [
    "game_on_choice = True\n",
    "game_list = [0,1,2]\n",
    "\n",
    "while game_on_choice == True:\n",
    "    index_value = game_input()\n",
    "    updated_list = update_value()\n",
    "    game_on_choice = game_continue()"
   ]
  },
  {
   "cell_type": "code",
   "execution_count": 306,
   "id": "3c021fb5-4f46-4be1-9ce6-785f55134df8",
   "metadata": {},
   "outputs": [
    {
     "name": "stdout",
     "output_type": "stream",
     "text": [
      "*\n",
      "**\n",
      "***\n",
      "****\n",
      "*****\n"
     ]
    }
   ],
   "source": [
    "i = 1\n",
    "\n",
    "while i<=5:\n",
    "    x = i*\"*\"\n",
    "    i += 1\n",
    "    print(x)\n",
    "    "
   ]
  },
  {
   "cell_type": "code",
   "execution_count": 307,
   "id": "0239e5b1-b683-4781-aa10-e302dfccc56f",
   "metadata": {},
   "outputs": [],
   "source": [
    "class Dog():\n",
    "    def __init__(self,breed,name,age):\n",
    "        self.breed = breed\n",
    "        self.name = name\n",
    "        self.age = age"
   ]
  },
  {
   "cell_type": "code",
   "execution_count": 308,
   "id": "88ab2007-99a2-4bf4-8d9d-750e019df3f2",
   "metadata": {},
   "outputs": [],
   "source": [
    "my_dog = Dog(breed = 'Huskie', name = 'Rusty', age = 25)"
   ]
  },
  {
   "cell_type": "code",
   "execution_count": 312,
   "id": "eeb2bf59-c84e-439f-871b-a2cd1fffb540",
   "metadata": {},
   "outputs": [
    {
     "data": {
      "text/plain": [
       "'Huskie'"
      ]
     },
     "execution_count": 312,
     "metadata": {},
     "output_type": "execute_result"
    }
   ],
   "source": [
    "my_dog.breed"
   ]
  },
  {
   "cell_type": "code",
   "execution_count": 349,
   "id": "89debbe9-b370-4875-a02b-aafe221687fe",
   "metadata": {},
   "outputs": [],
   "source": [
    "class Counter():\n",
    "    def __init__(self, start=0):\n",
    "        self.start = start\n",
    "    def inc(self):\n",
    "        self.start += 1\n",
    "    def dec(self):\n",
    "        self.start -= 1\n",
    "    def get(self):\n",
    "        self.start"
   ]
  },
  {
   "cell_type": "code",
   "execution_count": 350,
   "id": "c2ac9894-87c6-451e-bf97-1e5887526f05",
   "metadata": {},
   "outputs": [],
   "source": [
    "x = Counter(start=0)"
   ]
  },
  {
   "cell_type": "code",
   "execution_count": 352,
   "id": "1ed39095-c450-44be-b55f-7ae055b2fb74",
   "metadata": {},
   "outputs": [
    {
     "data": {
      "text/plain": [
       "2"
      ]
     },
     "execution_count": 352,
     "metadata": {},
     "output_type": "execute_result"
    }
   ],
   "source": [
    "x.inc()\n",
    "x.dec()\n",
    "x.get()\n",
    "x.start"
   ]
  },
  {
   "cell_type": "code",
   "execution_count": 363,
   "id": "ae8feba9-ccda-47e5-bdab-245a8e84617b",
   "metadata": {},
   "outputs": [],
   "source": [
    "class Circle():\n",
    "\n",
    "    pi = 3.14\n",
    "\n",
    "    def __init__(self,radius=1):\n",
    "\n",
    "        self.radius = radius\n",
    "\n",
    "    def area(self):\n",
    "        area = (self.radius**2) * self.pi\n",
    "        return area\n",
    "\n",
    "    def circumfrence(self):\n",
    "        circumfrence = 2* self.radius * self.pi\n",
    "        return circumfrence"
   ]
  },
  {
   "cell_type": "code",
   "execution_count": 370,
   "id": "13e87390-df7a-4a27-96db-60d736a09db9",
   "metadata": {},
   "outputs": [
    {
     "name": "stdout",
     "output_type": "stream",
     "text": [
      "Your area is:  314.0\n",
      "Your circ is:  62.800000000000004\n"
     ]
    }
   ],
   "source": [
    "circle_area = Circle(radius = 10)\n",
    "\n",
    "print(f\"Your area is: \",circle_area.area())\n",
    "print(f\"Your circ is: \",circle_area.circumfrence())"
   ]
  },
  {
   "cell_type": "code",
   "execution_count": 373,
   "id": "626eacc3-9670-4480-aa4d-8ebaafc20417",
   "metadata": {},
   "outputs": [],
   "source": [
    "class Animal():\n",
    "\n",
    "    def __init__(self):\n",
    "        print(\"Animal Created\")\n",
    "\n",
    "    def who_am_i(self):\n",
    "        print(\"I am an animal\")\n",
    "\n",
    "    def eat(self):\n",
    "        print(\"I am eating\")"
   ]
  },
  {
   "cell_type": "code",
   "execution_count": 374,
   "id": "a542b766-13bd-4e0b-b17f-7fe9dabf4846",
   "metadata": {},
   "outputs": [],
   "source": [
    "class Dog(Animal):\n",
    "\n",
    "    def __init__(self):\n",
    "        Animal.__init__(self)\n",
    "        print(\"Dog Created\")"
   ]
  },
  {
   "cell_type": "code",
   "execution_count": 383,
   "id": "7d50676f-7f03-4392-b0a0-cbbb9d17300f",
   "metadata": {},
   "outputs": [
    {
     "name": "stdout",
     "output_type": "stream",
     "text": [
      "Animal Created\n",
      "Dog Created\n"
     ]
    },
    {
     "data": {
      "text/plain": [
       "<bound method Animal.who_am_i of <__main__.Dog object at 0x166da5950>>"
      ]
     },
     "execution_count": 383,
     "metadata": {},
     "output_type": "execute_result"
    }
   ],
   "source": [
    "my_dog = Dog()\n",
    "\n",
    "my_dog.who_am_i"
   ]
  },
  {
   "cell_type": "code",
   "execution_count": 384,
   "id": "9208b755-10a4-4b75-95f7-dec59385888f",
   "metadata": {},
   "outputs": [],
   "source": [
    "class Animal():\n",
    "    \n",
    "    def __init__(self,name):\n",
    "        self.name = name\n",
    "\n",
    "    def info(self):\n",
    "        return f\"Name: {self.name}\""
   ]
  },
  {
   "cell_type": "code",
   "execution_count": 409,
   "id": "2571c5ff-8b8d-4117-8e38-7b58c8083090",
   "metadata": {},
   "outputs": [],
   "source": [
    "class Dog(Animal):\n",
    "    def __init__(self,name,breed):\n",
    "        super().__init__(name)\n",
    "        self.breed = breed\n",
    "\n",
    "    def breed_name(self, breed):\n",
    "        return f\"Breed: {self.breed} and Name: {self.name}\"\n",
    "        "
   ]
  },
  {
   "cell_type": "code",
   "execution_count": 410,
   "id": "9d6f1918-0a6e-457f-ba1b-a4fcccd6029d",
   "metadata": {},
   "outputs": [
    {
     "name": "stdout",
     "output_type": "stream",
     "text": [
      "Name: Rocky\n",
      "Breed: Huskie and Name: Rocky\n"
     ]
    }
   ],
   "source": [
    "dog_name= Dog(\"Rocky\",\"Huskie\")\n",
    "\n",
    "print(dog_name.info())\n",
    "print(dog_name.breed_name(\"Huskie\"))\n"
   ]
  },
  {
   "cell_type": "code",
   "execution_count": 414,
   "id": "66af4ece-8012-41d6-8ced-8ed36b908b6e",
   "metadata": {},
   "outputs": [],
   "source": [
    "class Vehicle():\n",
    "    def __init__(self, make, model):\n",
    "        self.make = make\n",
    "        self.model = model\n",
    "\n",
    "    def label(self):\n",
    "        return f\"{self.make}|{self.model}\""
   ]
  },
  {
   "cell_type": "code",
   "execution_count": 418,
   "id": "3b635668-3fb4-46f5-a241-4701df666415",
   "metadata": {},
   "outputs": [],
   "source": [
    "class Car(Vehicle):\n",
    "\n",
    "    def __init__(self, make, model, doors):\n",
    "        super().__init__(make,model)\n",
    "        self.doors = doors\n",
    "        \n",
    "    def label(self):\n",
    "        return f\"{self.make}•{self.model}•{self.doors}\""
   ]
  },
  {
   "cell_type": "code",
   "execution_count": 420,
   "id": "3447fc8d-b5b6-40dd-b9fc-c05bfbbc41e7",
   "metadata": {},
   "outputs": [
    {
     "data": {
      "text/plain": [
       "'Mercedes•Z Class•Double Door'"
      ]
     },
     "execution_count": 420,
     "metadata": {},
     "output_type": "execute_result"
    }
   ],
   "source": [
    "car_label = Car(\"Mercedes\",\"Z Class\",\"Double Door\")\n",
    "\n",
    "car_label.label()"
   ]
  },
  {
   "cell_type": "code",
   "execution_count": 431,
   "id": "b2bc112b-74cb-49ee-bf65-14ae8e3cc5ea",
   "metadata": {},
   "outputs": [],
   "source": [
    "class Bike(Vehicle):\n",
    "    def __init__(self,model,bike,make):\n",
    "        super().__init__(model,make)\n",
    "        self.bike = bike\n",
    "\n",
    "    def label(self):\n",
    "        return f\"{self.model}•{self.bike}•{self.make}\""
   ]
  },
  {
   "cell_type": "code",
   "execution_count": 432,
   "id": "a7a295fb-c6d3-4422-af6a-d16b6cf3d59e",
   "metadata": {},
   "outputs": [
    {
     "data": {
      "text/plain": [
       "'2005•Kawasaki•Honda'"
      ]
     },
     "execution_count": 432,
     "metadata": {},
     "output_type": "execute_result"
    }
   ],
   "source": [
    "bike_label = Bike(\"Honda\", \"Kawasaki\",\"2005\")\n",
    "\n",
    "bike_label.label()"
   ]
  },
  {
   "cell_type": "code",
   "execution_count": 433,
   "id": "584f7446-b9a7-4569-b81d-100df4f4a179",
   "metadata": {},
   "outputs": [],
   "source": [
    "class BankAccount():\n",
    "    def __init__(self,owner,balance=0):\n",
    "        self.owner = owner\n",
    "        self.balance = balance\n",
    "\n",
    "    def deposit(self,amount):\n",
    "        return self.balance + amount"
   ]
  },
  {
   "cell_type": "code",
   "execution_count": 456,
   "id": "1f390948-7d8c-4be7-b72c-47cd80832a79",
   "metadata": {},
   "outputs": [],
   "source": [
    "bank_balance = BankAccount(\"Rakshit\",5000)\n",
    "\n",
    "real_balance = bank_balance.deposit(10000)"
   ]
  },
  {
   "cell_type": "code",
   "execution_count": 457,
   "id": "83094354-a777-4b58-9d5a-033c0d1a87e0",
   "metadata": {},
   "outputs": [],
   "source": [
    "class SavingsAccount(BankAccount):\n",
    "    def __init__(self,owner,balance=0,rate = 0.05):\n",
    "        super().__init__(owner,balance)\n",
    "        self.rate = rate\n",
    "\n",
    "    def add_interest(self):\n",
    "        return self.balance * self.rate"
   ]
  },
  {
   "cell_type": "code",
   "execution_count": 458,
   "id": "7eb61d24-529c-4cef-9a56-8ddf22d1c945",
   "metadata": {},
   "outputs": [
    {
     "data": {
      "text/plain": [
       "750.0"
      ]
     },
     "execution_count": 458,
     "metadata": {},
     "output_type": "execute_result"
    }
   ],
   "source": [
    "interest_rate = SavingsAccount(\"Rakshit\",real_balance)\n",
    "\n",
    "interest_rate.add_interest()"
   ]
  },
  {
   "cell_type": "code",
   "execution_count": 461,
   "id": "c5717c66-100a-41bd-9767-6f255e6e5520",
   "metadata": {},
   "outputs": [],
   "source": [
    "class BankAccount():\n",
    "    def __init__(self,owner,balance = 0):\n",
    "        self.owner = owner\n",
    "        self.balance = balance\n",
    "\n",
    "    def summary(self):\n",
    "        return f\"{self.owner}: {self.balance}\""
   ]
  },
  {
   "cell_type": "code",
   "execution_count": 474,
   "id": "b9645f65-e610-4825-91e0-f5a4eddecb7e",
   "metadata": {},
   "outputs": [],
   "source": [
    "class SavingsAccount(BankAccount):\n",
    "    def __init__(self, owner, balance = 0, rate = 0.05):\n",
    "        super().__init__(owner, balance)\n",
    "        self.rate = rate\n",
    "\n",
    "    def summary(self):\n",
    "        return f\"{self.owner}: {self.balance} @ {self.rate*100}%: Interest accumulated: {self.balance * self.rate}\""
   ]
  },
  {
   "cell_type": "code",
   "execution_count": 475,
   "id": "5a29bc93-835b-42c6-b7e2-ced572d34298",
   "metadata": {},
   "outputs": [
    {
     "name": "stdout",
     "output_type": "stream",
     "text": [
      "R: 15000\n",
      "V: 10000 @ 5.0%: Interest accumulated: 500.0\n"
     ]
    }
   ],
   "source": [
    "accounts = [BankAccount(\"R\", 15000), SavingsAccount(\"V\",10000)]\n",
    "\n",
    "for a in accounts:\n",
    "    print(a.summary())"
   ]
  },
  {
   "cell_type": "code",
   "execution_count": 481,
   "id": "9b46a0cd-770e-438a-aab4-3c22c44d605c",
   "metadata": {},
   "outputs": [],
   "source": [
    "class FixedDeposit(BankAccount):\n",
    "    def __init__(self, owner, balance = 0, rate = 0.10, months = 0):\n",
    "        super().__init__(owner, balance)\n",
    "        self.rate = rate\n",
    "        self.months = months\n",
    "\n",
    "    def summary(self):\n",
    "        return f\"{self.owner}: {self.balance} @ {self.rate*100}%: Interest accumulated: {self.balance * self.rate}: Months: {self.months}\""
   ]
  },
  {
   "cell_type": "code",
   "execution_count": 487,
   "id": "20d0de67-c869-4f8b-9fbc-9eb8fd73b300",
   "metadata": {},
   "outputs": [
    {
     "name": "stdout",
     "output_type": "stream",
     "text": [
      "R: 15000\n",
      "V: 10000 @ 5.0%: Interest accumulated: 500.0\n",
      "M: 100000 @ 3.0%: Interest accumulated: 3000.0: Months: 0\n"
     ]
    }
   ],
   "source": [
    "accounts = [BankAccount(\"R\", 15000), SavingsAccount(\"V\",10000), FixedDeposit(\"M\", 100000, 0.03)]\n",
    "\n",
    "for a in accounts:\n",
    "    print(a.summary())"
   ]
  },
  {
   "cell_type": "code",
   "execution_count": 488,
   "id": "77dc4976-2bb8-4d44-a7e6-42eafa88f8a3",
   "metadata": {},
   "outputs": [],
   "source": [
    "def show_summary(account):\n",
    "    return print(account.summary())"
   ]
  },
  {
   "cell_type": "code",
   "execution_count": 489,
   "id": "9af45cea-cd87-4ec1-92ee-cce5b2af1e50",
   "metadata": {},
   "outputs": [
    {
     "name": "stdout",
     "output_type": "stream",
     "text": [
      "R: 15000\n",
      "V: 10000 @ 5.0%: Interest accumulated: 500.0\n",
      "M: 100000 @ 3.0%: Interest accumulated: 3000.0: Months: 0\n"
     ]
    }
   ],
   "source": [
    "b1 = BankAccount(\"R\", 15000)\n",
    "s1 = SavingsAccount(\"V\",10000)\n",
    "f1 = FixedDeposit(\"M\", 100000, 0.03)\n",
    "\n",
    "print(b1.summary())\n",
    "print(s1.summary())\n",
    "print(f1.summary())"
   ]
  },
  {
   "cell_type": "code",
   "execution_count": 517,
   "id": "b3efbe3e-d751-4444-885c-33769d50f411",
   "metadata": {},
   "outputs": [],
   "source": [
    "class Shape():\n",
    "    def area(self):\n",
    "        raise NotImplementedError(\"Subclass must implement this method\")"
   ]
  },
  {
   "cell_type": "code",
   "execution_count": 518,
   "id": "5f2dcbd6-c528-40ec-b6de-a3a051de70a6",
   "metadata": {},
   "outputs": [],
   "source": [
    "class Circle(Shape):\n",
    "\n",
    "    pi = 3.14\n",
    "    \n",
    "    def __init__(self, radius=0):\n",
    "        self.radius = radius\n",
    "\n",
    "    def area(self):\n",
    "        return (self.radius ** 2)* self.pi"
   ]
  },
  {
   "cell_type": "code",
   "execution_count": 519,
   "id": "32e45bec-7e83-4a54-b4ee-24fe95c69ae5",
   "metadata": {},
   "outputs": [],
   "source": [
    "class Rectangle(Shape):\n",
    "    def __init__(self, width=0, height=0):\n",
    "        self.width = width\n",
    "        self.height = height\n",
    "\n",
    "    def area(self):\n",
    "        return self.width * self.height"
   ]
  },
  {
   "cell_type": "code",
   "execution_count": 520,
   "id": "dc7ef71d-76d0-4541-be08-64d03bf1ad8f",
   "metadata": {},
   "outputs": [],
   "source": [
    "class Triangle(Shape):\n",
    "    def __init__(self, base, height):\n",
    "        self.base = base\n",
    "        self.height = height\n",
    "\n",
    "    def area(self):\n",
    "        return 0.5 * self.base * self.height"
   ]
  },
  {
   "cell_type": "code",
   "execution_count": 521,
   "id": "27c93504-9909-47a1-92fd-25489a195744",
   "metadata": {},
   "outputs": [],
   "source": [
    "def show_area(final):\n",
    "    return print(f\"Area: {final.area()}\")"
   ]
  },
  {
   "cell_type": "code",
   "execution_count": 522,
   "id": "bc16a73c-b14c-4936-9c0d-9afad1840b91",
   "metadata": {},
   "outputs": [
    {
     "name": "stdout",
     "output_type": "stream",
     "text": [
      "Area: 78.5\n",
      "Area: 50\n",
      "Area: 20.0\n"
     ]
    }
   ],
   "source": [
    "area_circle = Circle(5)\n",
    "area_rectangle = Rectangle(5,10)\n",
    "area_triangle = Triangle(10,4)\n",
    "\n",
    "show_area(area_circle)\n",
    "show_area(area_rectangle)\n",
    "show_area(area_triangle)\n"
   ]
  },
  {
   "cell_type": "code",
   "execution_count": 523,
   "id": "805cffda-d8ae-484b-9509-3236264b187b",
   "metadata": {},
   "outputs": [
    {
     "name": "stdout",
     "output_type": "stream",
     "text": [
      "Area: 78.5\n",
      "Area: 50\n",
      "Area: 20.0\n"
     ]
    }
   ],
   "source": [
    "show_area = [Circle(5), Rectangle(5,10), Triangle(10,4)]\n",
    "\n",
    "for a in show_area:\n",
    "    print(f\"Area: {a.area()}\")"
   ]
  },
  {
   "cell_type": "code",
   "execution_count": 538,
   "id": "23e6e1c8-1da4-493e-a16b-a921610c3165",
   "metadata": {},
   "outputs": [],
   "source": [
    "class Notification():\n",
    "    def __init__(self, message):\n",
    "        self.message = message\n",
    "        # raise NotImplementedError(\"Subclass must implement this method\")"
   ]
  },
  {
   "cell_type": "code",
   "execution_count": 539,
   "id": "48ca8b92-29b1-4947-803d-b3a8779c092b",
   "metadata": {},
   "outputs": [],
   "source": [
    "class EmailNotification(Notification):\n",
    "    def __init__(self, message, method = \"Email\"):\n",
    "        super().__init__(message)\n",
    "        self.method = method\n",
    "\n",
    "    def send(self):\n",
    "        print(f\"Sending {self.method}: {self.message}\")"
   ]
  },
  {
   "cell_type": "code",
   "execution_count": 540,
   "id": "171cc2a7-13ec-428f-99d6-5a318eedbce6",
   "metadata": {},
   "outputs": [
    {
     "name": "stdout",
     "output_type": "stream",
     "text": [
      "Sending Email: Hi\n"
     ]
    }
   ],
   "source": [
    "email = EmailNotification(\"Hi\")\n",
    "\n",
    "email.send()"
   ]
  },
  {
   "cell_type": "code",
   "execution_count": 541,
   "id": "f0488ee7-62c4-4d58-929e-e42b27c90d64",
   "metadata": {},
   "outputs": [],
   "source": [
    "class SMSNotification(Notification):\n",
    "    def __init__(self, message, method = \"SMS\"):\n",
    "        super().__init__(message)\n",
    "        self.method = method\n",
    "\n",
    "    def send(self):\n",
    "        print(f\"Sending {self.method}: {self.message}\")"
   ]
  },
  {
   "cell_type": "code",
   "execution_count": 542,
   "id": "84c9653a-bb9c-4130-bfb5-7b0604d97275",
   "metadata": {},
   "outputs": [
    {
     "name": "stdout",
     "output_type": "stream",
     "text": [
      "Sending SMS: Hi\n"
     ]
    }
   ],
   "source": [
    "sms = SMSNotification(\"Hi\")\n",
    "\n",
    "sms.send()"
   ]
  },
  {
   "cell_type": "code",
   "execution_count": 543,
   "id": "52d90698-58a9-44d9-9fc7-27dd81f4230f",
   "metadata": {},
   "outputs": [],
   "source": [
    "class PushNotification(Notification):\n",
    "    def __init__(self, message, method = \"Push\"):\n",
    "        super().__init__(message)\n",
    "        self.method = method\n",
    "\n",
    "    def send(self):\n",
    "        print(f\"Sending {self.method}: {self.message}\")"
   ]
  },
  {
   "cell_type": "code",
   "execution_count": 544,
   "id": "2d159460-4743-48e2-8799-ebb94245be29",
   "metadata": {},
   "outputs": [
    {
     "name": "stdout",
     "output_type": "stream",
     "text": [
      "Sending Push: Hi\n"
     ]
    }
   ],
   "source": [
    "push = PushNotification(\"Hi\")\n",
    "\n",
    "push.send()"
   ]
  },
  {
   "cell_type": "code",
   "execution_count": 549,
   "id": "dfcf748f-8f75-4e11-a192-726cfe30aad5",
   "metadata": {},
   "outputs": [],
   "source": [
    "def notify(channel):\n",
    "    return channel.send()"
   ]
  },
  {
   "cell_type": "code",
   "execution_count": 555,
   "id": "23258252-ac6c-4dc1-8e5b-3909f320dc86",
   "metadata": {},
   "outputs": [
    {
     "name": "stdout",
     "output_type": "stream",
     "text": [
      "Sending Push: Hi\n",
      "Sending Email: Heilo\n",
      "Sending SMS: Hello\n"
     ]
    }
   ],
   "source": [
    "push_1 = PushNotification(\"Hi\")\n",
    "sms_1 = SMSNotification(\"Hello\")\n",
    "email_1 = EmailNotification(\"Heilo\")\n",
    "\n",
    "notify(push_1)\n",
    "notify(email_1)\n",
    "notify(sms_1)"
   ]
  },
  {
   "cell_type": "code",
   "execution_count": 7,
   "id": "9af41723-00f6-46d3-8fda-ebe8e70d1229",
   "metadata": {},
   "outputs": [],
   "source": [
    "def ask_for_input():\n",
    "    while True:\n",
    "        try:\n",
    "            result = int(input(\"Enter a number: \"))\n",
    "        except:\n",
    "            print(\"This is not a number\")\n",
    "            continue\n",
    "        else:\n",
    "            print(\"It is a number\")\n",
    "            break\n",
    "        finally:\n",
    "            print(\"I will print no matter what\")"
   ]
  },
  {
   "cell_type": "code",
   "execution_count": 8,
   "id": "6d21d396-a2c3-46ed-9e43-83ef748fd6c1",
   "metadata": {},
   "outputs": [
    {
     "name": "stdin",
     "output_type": "stream",
     "text": [
      "Enter a number:  q\n"
     ]
    },
    {
     "name": "stdout",
     "output_type": "stream",
     "text": [
      "This is not a number\n",
      "I will print no matter what\n"
     ]
    },
    {
     "name": "stdin",
     "output_type": "stream",
     "text": [
      "Enter a number:  10\n"
     ]
    },
    {
     "name": "stdout",
     "output_type": "stream",
     "text": [
      "It is a number\n",
      "I will print no matter what\n"
     ]
    }
   ],
   "source": [
    "ask_for_input()"
   ]
  },
  {
   "cell_type": "code",
   "execution_count": 14,
   "id": "6bc53258-e13c-4fa0-8945-85d5c3f06cad",
   "metadata": {},
   "outputs": [
    {
     "name": "stdout",
     "output_type": "stream",
     "text": [
      "This is a type error\n",
      "This is a type error\n",
      "This is a type error\n"
     ]
    }
   ],
   "source": [
    "#Handle the exception thrown by the code below by using try and except blocks.\n",
    "\n",
    "\n",
    "for i in ['a','b','c']:\n",
    "    try:\n",
    "        print(i**2)\n",
    "\n",
    "    except TypeError:\n",
    "        print('This is a type error')"
   ]
  },
  {
   "cell_type": "code",
   "execution_count": 15,
   "id": "9aa2fd81-5c1b-404a-85c9-8c4c5d6a221b",
   "metadata": {},
   "outputs": [
    {
     "name": "stdout",
     "output_type": "stream",
     "text": [
      "This is a ZeroDivisionError\n",
      "All Done\n"
     ]
    }
   ],
   "source": [
    "#Handle the exception thrown by the code below by using try and except blocks. Then use a finally block to print 'All Done.'\n",
    "\n",
    "\n",
    "\n",
    "x = 5\n",
    "y = 0\n",
    "\n",
    "try:\n",
    "    z = x/y\n",
    "except ZeroDivisionError:\n",
    "    print(\"This is a ZeroDivisionError\")\n",
    "finally:\n",
    "    print(\"All Done\")"
   ]
  },
  {
   "cell_type": "code",
   "execution_count": 26,
   "id": "b60d70e3-4712-4534-9d9e-8c6498f77917",
   "metadata": {},
   "outputs": [],
   "source": [
    "#Write a function that asks for an integer and prints the square of it. \n",
    "#Use a while loop with a try, except, else block to account for incorrect inputs.\n",
    "\n",
    "\n",
    "def ask():\n",
    "    while True:\n",
    "        try:\n",
    "            input_num = int(input(\"Give a number to square: \"))\n",
    "            return input_num**2\n",
    "        except ValueError:\n",
    "            print(\"This is probably not a number\")\n",
    "            continue\n",
    "        else:\n",
    "            print(\"All Done\")\n",
    "            break\n",
    "            break"
   ]
  },
  {
   "cell_type": "code",
   "execution_count": 29,
   "id": "5057aac8-bf2a-4b6f-a5fb-f71ebb54e7d4",
   "metadata": {},
   "outputs": [
    {
     "name": "stdin",
     "output_type": "stream",
     "text": [
      "Give a number to square:  190000000000000000\n"
     ]
    },
    {
     "data": {
      "text/plain": [
       "36100000000000000000000000000000000"
      ]
     },
     "execution_count": 29,
     "metadata": {},
     "output_type": "execute_result"
    }
   ],
   "source": [
    "ask()"
   ]
  },
  {
   "cell_type": "code",
   "execution_count": 46,
   "id": "e592fc88-8e9a-4dcc-a890-b0dc0af2e592",
   "metadata": {},
   "outputs": [],
   "source": [
    "def read_file():\n",
    "\n",
    "    file_name = input(\"Enter a file name: \")\n",
    "\n",
    "    \n",
    "    try:\n",
    "        f = open(file_name, \"r\")\n",
    "        content = f.read()\n",
    "        print(content)\n",
    "    except FileNotFoundError:\n",
    "        print(\"File Not Found Error\")\n",
    "    except:\n",
    "        print(\"Something is wrong\")\n",
    "    finally:\n",
    "        print(\"Execution Complete\")"
   ]
  },
  {
   "cell_type": "code",
   "execution_count": 47,
   "id": "9f4db1ff-d54d-45e7-a035-510cda4809cb",
   "metadata": {},
   "outputs": [
    {
     "name": "stdin",
     "output_type": "stream",
     "text": [
      "Enter a file name:  f\n"
     ]
    },
    {
     "name": "stdout",
     "output_type": "stream",
     "text": [
      "File Not Found Error\n",
      "Execution Complete\n"
     ]
    }
   ],
   "source": [
    "read_file()"
   ]
  },
  {
   "cell_type": "code",
   "execution_count": 98,
   "id": "452a39d9-eb2d-4d4b-977d-1e86fca02c9a",
   "metadata": {},
   "outputs": [],
   "source": [
    "def divide(a,b):\n",
    "\n",
    "    class NegativeNumberError(Exception): pass\n",
    "    try:\n",
    "        if a < 0 or b<0:\n",
    "            raise NegativeNumberError()\n",
    "        division = a/b\n",
    "        return division\n",
    "    except ZeroDivisionError:\n",
    "        print(\"Zero Division Error, can't do it!\")\n",
    "    except NegativeNumberError:\n",
    "        print(\"Negative number not allowed\")"
   ]
  },
  {
   "cell_type": "code",
   "execution_count": 99,
   "id": "56713fcb-7e40-4b1b-aeb7-575b235ed3c5",
   "metadata": {},
   "outputs": [
    {
     "name": "stdout",
     "output_type": "stream",
     "text": [
      "Zero Division Error, can't do it!\n"
     ]
    }
   ],
   "source": [
    "divide(10,0)"
   ]
  },
  {
   "cell_type": "code",
   "execution_count": 100,
   "id": "4ce809d5-38cb-459b-a33f-3f760cc7c9f4",
   "metadata": {},
   "outputs": [
    {
     "data": {
      "text/plain": [
       "2.5"
      ]
     },
     "execution_count": 100,
     "metadata": {},
     "output_type": "execute_result"
    }
   ],
   "source": [
    "divide(5,2)"
   ]
  },
  {
   "cell_type": "code",
   "execution_count": 102,
   "id": "10b98d16-cf06-4217-8ffd-9ce2020eb370",
   "metadata": {},
   "outputs": [
    {
     "name": "stdout",
     "output_type": "stream",
     "text": [
      "Negative number not allowed\n"
     ]
    }
   ],
   "source": [
    "divide(-2,0)"
   ]
  },
  {
   "cell_type": "code",
   "execution_count": null,
   "id": "5baf8fba-9449-4efa-a291-4147fadf3eee",
   "metadata": {},
   "outputs": [],
   "source": []
  }
 ],
 "metadata": {
  "kernelspec": {
   "display_name": "Python [conda env:base] *",
   "language": "python",
   "name": "conda-base-py"
  },
  "language_info": {
   "codemirror_mode": {
    "name": "ipython",
    "version": 3
   },
   "file_extension": ".py",
   "mimetype": "text/x-python",
   "name": "python",
   "nbconvert_exporter": "python",
   "pygments_lexer": "ipython3",
   "version": "3.13.5"
  }
 },
 "nbformat": 4,
 "nbformat_minor": 5
}
