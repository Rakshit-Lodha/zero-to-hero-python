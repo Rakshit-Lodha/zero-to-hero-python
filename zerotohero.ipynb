{
 "cells": [
  {
   "cell_type": "code",
   "execution_count": 16,
   "id": "39901fec-1969-48b6-a5db-bb22b1293a73",
   "metadata": {},
   "outputs": [
    {
     "data": {
      "text/plain": [
       "'r*****t@domain.com'"
      ]
     },
     "execution_count": 16,
     "metadata": {},
     "output_type": "execute_result"
    }
   ],
   "source": [
    "email = \"rakshit@domain.com\"\n",
    "email[0]+len(email[-17:-12])*\"*\"+email[-12]+\"@domain.com\""
   ]
  },
  {
   "cell_type": "code",
   "execution_count": 22,
   "id": "e3eb8d4d-c495-4300-b8d8-094d1b25aa5b",
   "metadata": {},
   "outputs": [
    {
     "name": "stdout",
     "output_type": "stream",
     "text": [
      "r*****t@domain.com\n"
     ]
    }
   ],
   "source": [
    "email = \"rakshit@domain.com\"\n",
    "\n",
    "split_email = email.split(\"@\")\n",
    "\n",
    "split_email_1 = (len(split_email[0])-2)*\"*\"\n",
    "\n",
    "split_email_2 = split_email[1]\n",
    "\n",
    "masked_email = split_email[0][0] + split_email_1 + split_email[0][-1] +\"@\" + split_email_2\n",
    "\n",
    "print(masked_email)"
   ]
  },
  {
   "cell_type": "code",
   "execution_count": 24,
   "id": "330a5421-9d2d-4229-a82f-93e975f31314",
   "metadata": {},
   "outputs": [
    {
     "data": {
      "text/plain": [
       "'rakshit'"
      ]
     },
     "execution_count": 24,
     "metadata": {},
     "output_type": "execute_result"
    }
   ],
   "source": [
    "name = \"RAKSHIT\"\n",
    "\n",
    "name.lower()"
   ]
  },
  {
   "cell_type": "code",
   "execution_count": 35,
   "id": "04030684-6682-464b-ba59-c011f9d13ce5",
   "metadata": {},
   "outputs": [
    {
     "name": "stdout",
     "output_type": "stream",
     "text": [
      "hello, rakshit\n"
     ]
    }
   ],
   "source": [
    "state = \" Hello, Rakshit \"\n",
    "\n",
    "new_state = state.strip()\n",
    "\n",
    "print(new_state.lower())"
   ]
  },
  {
   "cell_type": "code",
   "execution_count": 39,
   "id": "1eaa2580-dce2-47aa-9022-c4cf2e36b27f",
   "metadata": {},
   "outputs": [
    {
     "name": "stdout",
     "output_type": "stream",
     "text": [
      "product | manager\n"
     ]
    }
   ],
   "source": [
    "title = \"product-manager\"\n",
    "\n",
    "title_split = title.split(\"-\")[0] + \" | \" + title.split(\"-\")[1]\n",
    "\n",
    "print(title_split)"
   ]
  },
  {
   "cell_type": "code",
   "execution_count": 54,
   "id": "425f9ba9-8d93-4b22-8d2e-ed4c17ce6da2",
   "metadata": {},
   "outputs": [
    {
     "name": "stdout",
     "output_type": "stream",
     "text": [
      "h\n"
     ]
    }
   ],
   "source": [
    "word = \"Pythone\"\n",
    "\n",
    "remainder = len(word) % 2\n",
    "remainder_odd = len(word)-1\n",
    "\n",
    "if remainder == 0:\n",
    "    print(word[len(word)//2] + word[len(word)//2-1])\n",
    "else:\n",
    "    print(word[remainder_odd//2])"
   ]
  },
  {
   "cell_type": "code",
   "execution_count": 59,
   "id": "39a4c801-aa50-4df5-b6a0-c688a13510b9",
   "metadata": {},
   "outputs": [
    {
     "name": "stdout",
     "output_type": "stream",
     "text": [
      "R.L.\n"
     ]
    }
   ],
   "source": [
    "input = \"rakshit lodha\"\n",
    "\n",
    "split_view = input.split(\" \")\n",
    "\n",
    "joined_view = split_view[0][0].upper() +\".\" + split_view[1][0].upper() + \".\"\n",
    "\n",
    "print(joined_view)"
   ]
  },
  {
   "cell_type": "code",
   "execution_count": 72,
   "id": "b4e36b2e-53ad-4747-8c54-45c3967ac10e",
   "metadata": {},
   "outputs": [
    {
     "data": {
      "text/plain": [
       "'This has extra spaces'"
      ]
     },
     "execution_count": 72,
     "metadata": {},
     "output_type": "execute_result"
    }
   ],
   "source": [
    "str = \"This   has   extra   spaces\"\n",
    "\n",
    "\" \".join(str.split())"
   ]
  },
  {
   "cell_type": "code",
   "execution_count": 8,
   "id": "d3a6ce7c-1208-4f9b-88df-e9210ce72f3b",
   "metadata": {},
   "outputs": [
    {
     "name": "stdout",
     "output_type": "stream",
     "text": [
      "This***habitis***butbadminton\n"
     ]
    }
   ],
   "source": [
    "str = \"This bad habit is bad but badminton is good\"\n",
    "\n",
    "str_split_1 = (str.split(\" \")[1]).replace(str.split(\" \")[1],\"***\")\n",
    "str_split_2 = (str.split(\" \")[4]).replace(str.split(\" \")[4],\"***\")\n",
    "\n",
    "final = str.split(\" \")[0] + str_split_1 + str.split(\" \")[2] + str.split(\" \")[3] + str_split_2 + str.split(\" \")[5] + str.split(\" \")[6]\n",
    "\n",
    "print(final)"
   ]
  },
  {
   "cell_type": "code",
   "execution_count": 2,
   "id": "8f091c80-5238-41c4-929f-7124dc92f4ae",
   "metadata": {},
   "outputs": [
    {
     "name": "stdout",
     "output_type": "stream",
     "text": [
      "first.last@example.com\n"
     ]
    }
   ],
   "source": [
    "email = \"  First.Last+promo@Example.COM  \"\n",
    "\n",
    "split_1 = email.split(\"@\")[-1].lower()\n",
    "split_2 = (email.split(\"@\")[0]).split(\"+\")[0].lower()\n",
    "split_3 = split_2 +\"@\" +split_1\n",
    "\n",
    "joined_view = ''.join(split_3.split())\n",
    "\n",
    "print(joined_view)"
   ]
  },
  {
   "cell_type": "code",
   "execution_count": 22,
   "id": "4f5b90ec-2400-4efd-a626-10504db7276c",
   "metadata": {},
   "outputs": [
    {
     "name": "stdout",
     "output_type": "stream",
     "text": [
      "{'name': 'Rakshit', 'role': 'PM'}\n"
     ]
    }
   ],
   "source": [
    "user = {\"name\": \"Rakshit\", \"role\": \"PM\"}\n",
    "\n",
    "user[\"company\"] = \"ET Money\"\n",
    "\n",
    "user.popitem()\n",
    "\n",
    "\n",
    "print(user)"
   ]
  },
  {
   "cell_type": "code",
   "execution_count": 30,
   "id": "0877794c-89dc-420a-a49e-a5b3a44f4575",
   "metadata": {},
   "outputs": [
    {
     "name": "stdout",
     "output_type": "stream",
     "text": [
      "{'name': 'Notebook', 'price': 299, 'stock': 12, 'discount': 0}\n",
      "{'name': 'Notebook', 'price': 299, 'stock': 12, 'discount': 0, 'category': 'Stationery'}\n"
     ]
    }
   ],
   "source": [
    "product = {\"name\": \"Notebook\", \"price\": 299, \"stock\": 12}\n",
    "# a) get the price using direct indexing\n",
    "product.get(\"price\")\n",
    "\n",
    "# b) safely get a \"discount\" key with default 0 using .get\n",
    "product[\"discount\"] = 0\n",
    "print(product)\n",
    "\n",
    "product.get(\"discount\")\n",
    "\n",
    "# c) add a \"category\" = \"Stationery\", then print the dict\n",
    "product[\"category\"] = \"Stationery\"\n",
    "print(product)"
   ]
  },
  {
   "cell_type": "code",
   "execution_count": 1,
   "id": "230bf8bc-072d-4996-ade1-a3d9eb64e9ae",
   "metadata": {},
   "outputs": [
    {
     "name": "stdout",
     "output_type": "stream",
     "text": [
      "Notebook\n",
      "0\n",
      "True\n"
     ]
    }
   ],
   "source": [
    "product = {\"name\": \"Notebook\", \"price\": 299, \"stock\": 12}\n",
    "\n",
    "\n",
    "# a) get the price using direct indexing\n",
    "\n",
    "print(product[\"name\"])\n",
    "\n",
    "# b) safely get a \"discount\" key with default 0 using .get\n",
    "print(product.get(\"discount\",0))\n",
    "\n",
    "print(\"name\" in product)\n",
    "\n",
    "# c) add a \"category\" = \"Stationery\", then print the dict\n"
   ]
  },
  {
   "cell_type": "code",
   "execution_count": 12,
   "id": "36f0d102-b9a6-43e2-adcd-3e170f460aed",
   "metadata": {},
   "outputs": [
    {
     "name": "stdout",
     "output_type": "stream",
     "text": [
      "{'name': 'Notebook', 'price': 349, 'stock': 12, 'category': 'Stationery'}\n",
      "{'name': 'Notebook', 'price': 349, 'stock': 12, 'category': 'Stationery', 'brand': 'camline', 'rating': 4.5}\n",
      "{'name': 'Notebook', 'price': 349, 'category': 'Stationery', 'brand': 'camline', 'rating': 4.5}\n"
     ]
    }
   ],
   "source": [
    "product = {\"name\": \"Notebook\", \"price\": 299, \"stock\": 12, \"category\": \"Stationery\"}\n",
    "\n",
    "#Update the \"price\" to 349.\n",
    "product.update({\"price\": 349})\n",
    "\n",
    "print(product)\n",
    "\n",
    "# Add two more keys at once — \"brand\": \"Camlin\" and \"rating\": 4.5\" — using .update().\n",
    "\n",
    "product.update({\"brand\": \"camline\", \"rating\": 4.5})\n",
    "print(product)\n",
    "\n",
    "#Remove \"stock\" safely (no error if it’s missing).\n",
    "\n",
    "product.pop(\"stock\", 0)\n",
    "print(product)\n",
    "\n"
   ]
  },
  {
   "cell_type": "code",
   "execution_count": 35,
   "id": "2128d581-0a71-4165-8551-e020ef0d14e7",
   "metadata": {},
   "outputs": [
    {
     "name": "stdout",
     "output_type": "stream",
     "text": [
      "92\n",
      "92\n",
      "{'math': 88, 'science': 92, 'english': 90}\n",
      "{'name': 'Anita', 'grade': 10, 'marks': {'math': 88, 'science': 92, 'english': 90, 'history': 85}}\n",
      "{'name': 'Anita', 'grade': 10, 'marks': {'math': 88, 'science': 92, 'english': 90, 'history': 85}}\n"
     ]
    }
   ],
   "source": [
    "student = {\n",
    "    \"name\": \"Anita\",\n",
    "    \"grade\": 10,\n",
    "    \"marks\": {\n",
    "        \"math\": 88,\n",
    "        \"science\": 92,\n",
    "        \"english\": 81\n",
    "    }\n",
    "}\n",
    "\n",
    "\n",
    "#Access the student’s science mark and print it.\n",
    "print(student[\"marks\"][\"science\"])\n",
    "print((student.get(\"marks\")).get(\"science\"))\n",
    "\n",
    "#Update the English mark to 90.\n",
    "student[\"marks\"].update({\"english\": 90})\n",
    "\n",
    "print(student.get(\"marks\"))\n",
    "\n",
    "#Add a new subject \"history\": 85.\n",
    "student[\"marks\"].update({\"history\": 85})\n",
    "\n",
    "print(student)\n",
    "\n",
    "#Print the final dictionary.\n",
    "print(student)\n",
    "\n"
   ]
  },
  {
   "cell_type": "code",
   "execution_count": 43,
   "id": "6d2003ca-e361-49a2-b002-ff610b09ddef",
   "metadata": {},
   "outputs": [
    {
     "name": "stdout",
     "output_type": "stream",
     "text": [
      "Rakshit\n",
      "('Rakshit', 30, {'city': 'Mumbai'})\n"
     ]
    }
   ],
   "source": [
    "t = (\"Rakshit\", 30, {\"city\": \"Jaipur\"})\n",
    "# A) Print the name (index it)\n",
    "print(t[0])\n",
    "\n",
    "# B) Change the city to \"Mumbai\" (mutate the inner dict), then print t\n",
    "t[2].update({\"city\": \"Mumbai\"})"
   ]
  },
  {
   "cell_type": "code",
   "execution_count": 48,
   "id": "a9d95d7d-556d-4af6-abaf-b45cfca2f1c0",
   "metadata": {},
   "outputs": [
    {
     "name": "stdout",
     "output_type": "stream",
     "text": [
      "{'math': 88, 'science': 92, 'english': 90}\n",
      "[('math', 88), ('science', 92), ('english', 90)]\n",
      "[('math', 88), ('science', 92), ('english', 90), ('physics', 100)]\n",
      "{'math': 88, 'science': 92, 'english': 90, 'physics': 100}\n"
     ]
    }
   ],
   "source": [
    "student = {\n",
    "    \"name\": \"Anita\",\n",
    "    \"grade\": 10,\n",
    "    \"marks\": {\"math\": 88, \"science\": 92, \"english\": 90}\n",
    "}\n",
    "\n",
    "li = student.get(\"marks\")\n",
    "\n",
    "print(li)\n",
    "\n",
    "li_1 = list(li.items())\n",
    "print(li_1)\n",
    "\n",
    "li_1.append((\"physics\", 100))\n",
    "\n",
    "print(li_1)\n",
    "back_dic = dict(li_1)\n",
    "print(back_dic)\n"
   ]
  },
  {
   "cell_type": "code",
   "execution_count": 54,
   "id": "7e06f8b3-3fda-488a-b4b6-4329f408a5ac",
   "metadata": {},
   "outputs": [
    {
     "name": "stdout",
     "output_type": "stream",
     "text": [
      "(20, 10)\n"
     ]
    }
   ],
   "source": [
    "(a,b) = 10,20\n",
    "\n",
    "(a,b) = (b,a)\n",
    "print((a,b))"
   ]
  },
  {
   "cell_type": "code",
   "execution_count": 58,
   "id": "f55d8d85-9492-497f-a65d-c6e890190b4c",
   "metadata": {},
   "outputs": [
    {
     "name": "stdout",
     "output_type": "stream",
     "text": [
      "['anita', 'mukesh', 'rakshit']\n"
     ]
    }
   ],
   "source": [
    "names = [\"rakshit\", \"anita\", \"rakshit\", \"mukesh\", \"anita\"]\n",
    "\n",
    "name_1 = sorted(set(names))\n",
    "\n",
    "print(name_1)\n"
   ]
  },
  {
   "cell_type": "code",
   "execution_count": 79,
   "id": "a9fb58c8-c5ff-48d5-83dd-84d137c5cb67",
   "metadata": {},
   "outputs": [
    {
     "name": "stdout",
     "output_type": "stream",
     "text": [
      "{'excel', 'python', 'sql', 'git'}\n",
      "{'git', 'python', 'jira', 'pandas'}\n",
      "{'git', 'python'}\n",
      "{'git', 'python', 'jira', 'sql', 'excel', 'pandas'}\n",
      "{'excel', 'sql'}\n",
      "{'jira', 'sql', 'excel', 'pandas'}\n",
      "False\n",
      "False\n",
      "True\n",
      "True\n",
      "False\n",
      "['excel', 'jira', 'pandas', 'sql']\n"
     ]
    }
   ],
   "source": [
    "A = {\"python\", \"sql\", \"excel\", \"git\"}\n",
    "B = {\"python\", \"pandas\", \"git\", \"jira\"}\n",
    "\n",
    "set_a = set(A)\n",
    "set_b = set(B)\n",
    "\n",
    "print(set_a)\n",
    "print(set_b)\n",
    "\n",
    "#Skills in both A and B (intersection)\n",
    "set_c = set_a & set_b\n",
    "print(set_c)\n",
    "\n",
    "#Skills in either A or B (union)\n",
    "set_d = set_a | set_b\n",
    "print(set_d)\n",
    "\n",
    "#Skills in A but not in B (difference)\n",
    "set_e = set_a - set_b\n",
    "print(set_e)\n",
    "\n",
    "#Skills in exactly one of the sets (symmetric diff)\n",
    "set_f = set_a ^ set_b\n",
    "print(set_f)\n",
    "\n",
    "print(bool(set_a <= set_b))\n",
    "print(bool(set_a >= set_b))\n",
    "print(bool(set_a & set_b))\n",
    "\n",
    "\n",
    "print(bool({\"python\", \"git\"} <= set_a))\n",
    "print(bool({\"python\", \"git\", \"excel\"} <= set_b))\n",
    "print(sorted(set_f))"
   ]
  },
  {
   "cell_type": "code",
   "execution_count": 54,
   "id": "5c22e205-d407-492b-8604-cc8bd3363905",
   "metadata": {},
   "outputs": [
    {
     "name": "stdout",
     "output_type": "stream",
     "text": [
      "f\n"
     ]
    }
   ],
   "source": [
    "score = 59\n",
    "\n",
    "if score >=90:\n",
    "    grade = \"A\"\n",
    "elif score >= 80:\n",
    "    grade = \"B\"\n",
    "elif score >=70:\n",
    "    grade = \"C\"\n",
    "elif score >=60:\n",
    "    grade = \"D\"\n",
    "else:\n",
    "    grade = \"F\"\n",
    "\n",
    "print(grade)"
   ]
  },
  {
   "cell_type": "code",
   "execution_count": 55,
   "id": "438c8598-1eda-43c8-a05d-c7ddc8f1ebe7",
   "metadata": {},
   "outputs": [
    {
     "name": "stdout",
     "output_type": "stream",
     "text": [
      "Odd\n"
     ]
    }
   ],
   "source": [
    "n = 27\n",
    "\n",
    "if n%2 == 0:\n",
    "    print(\"Even\")\n",
    "else:\n",
    "    print(\"Odd\")"
   ]
  },
  {
   "cell_type": "code",
   "execution_count": 57,
   "id": "d15f8b9e-d32c-4b5c-825f-e84b110dd78e",
   "metadata": {},
   "outputs": [
    {
     "name": "stdout",
     "output_type": "stream",
     "text": [
      "Odd\n"
     ]
    }
   ],
   "source": [
    "n = 27\n",
    "parity = \"Even\" if n%2 == 0 else \"Odd\"\n",
    "\n",
    "print(parity)"
   ]
  },
  {
   "cell_type": "code",
   "execution_count": 59,
   "id": "71379473-2387-4f93-8405-fcabf37e6f52",
   "metadata": {},
   "outputs": [
    {
     "name": "stdout",
     "output_type": "stream",
     "text": [
      "[5, 7, 9, 11, 13]\n"
     ]
    }
   ],
   "source": [
    "num = list(range(5,15,2))\n",
    "\n",
    "print(num)"
   ]
  },
  {
   "cell_type": "code",
   "execution_count": 61,
   "id": "e1e7340c-e600-45a9-a980-d33d9c4d4914",
   "metadata": {},
   "outputs": [
    {
     "name": "stdout",
     "output_type": "stream",
     "text": [
      "False\n"
     ]
    }
   ],
   "source": [
    "text = \"Product Manager\"\n",
    "has_pm = \"pm\" in text.lower()\n",
    "\n",
    "print(has_pm)"
   ]
  },
  {
   "cell_type": "code",
   "execution_count": 62,
   "id": "ff2bde7f-08be-4eac-8f35-8fccd8b1a4f9",
   "metadata": {},
   "outputs": [
    {
     "name": "stdout",
     "output_type": "stream",
     "text": [
      "[(0, 'python'), (1, 'sql'), (2, 'git')]\n"
     ]
    }
   ],
   "source": [
    "skills = [\"python\",\"sql\",\"git\"]\n",
    "print(list(enumerate(skills)))\n"
   ]
  },
  {
   "cell_type": "code",
   "execution_count": 65,
   "id": "8cb5a75b-ce7f-4172-8c45-e46ebbc2bc18",
   "metadata": {},
   "outputs": [
    {
     "name": "stdout",
     "output_type": "stream",
     "text": [
      "apple\n",
      "banana\n",
      "cherry\n"
     ]
    }
   ],
   "source": [
    "fruits = [\"apple\", \"banana\", \"cherry\"]\n",
    "\n",
    "for i in fruits:\n",
    "    print(i)"
   ]
  },
  {
   "cell_type": "code",
   "execution_count": 67,
   "id": "918876a6-3983-461e-bc4a-b6bcc854ec2b",
   "metadata": {},
   "outputs": [
    {
     "name": "stdout",
     "output_type": "stream",
     "text": [
      "1\n",
      "2\n",
      "3\n",
      "4\n",
      "5\n"
     ]
    }
   ],
   "source": [
    "num = list(range(1,6))\n",
    "\n",
    "for i in num:\n",
    "    print(i)"
   ]
  },
  {
   "cell_type": "code",
   "execution_count": 72,
   "id": "b6668514-a381-4da4-b8ad-382488902742",
   "metadata": {},
   "outputs": [
    {
     "name": "stdout",
     "output_type": "stream",
     "text": [
      "2\n",
      "4\n",
      "6\n",
      "8\n",
      "10\n"
     ]
    }
   ],
   "source": [
    "num = list(range(1,11))\n",
    "\n",
    "for i in num:\n",
    "    if i%2 == 0:\n",
    "        print(i)"
   ]
  },
  {
   "cell_type": "code",
   "execution_count": 73,
   "id": "71705c84-ab25-4794-a1e0-d4d91c1f3350",
   "metadata": {},
   "outputs": [
    {
     "name": "stdout",
     "output_type": "stream",
     "text": [
      "1\n",
      "2\n",
      "3\n",
      "4\n",
      "6\n",
      "7\n"
     ]
    }
   ],
   "source": [
    "for i in range(1,11):\n",
    "    if i<5:\n",
    "        print(i)\n",
    "    elif i==5:\n",
    "        continue\n",
    "    elif i<8:\n",
    "        print(i)\n",
    "    elif i==8:\n",
    "        break"
   ]
  },
  {
   "cell_type": "code",
   "execution_count": 77,
   "id": "b6002abe-b7be-453f-8a21-724ddb3be7cc",
   "metadata": {},
   "outputs": [
    {
     "name": "stdout",
     "output_type": "stream",
     "text": [
      "You don't belong here\n"
     ]
    }
   ],
   "source": [
    "nums = [3, 6, 9, 12]\n",
    "target = 7\n",
    "\n",
    "for i in nums:\n",
    "    if i == target:\n",
    "        print(\"You belong here\")\n",
    "        break\n",
    "else:\n",
    "    print(\"You don't belong here\")"
   ]
  },
  {
   "cell_type": "code",
   "execution_count": 91,
   "id": "6e170c8e-b3a3-4111-b93b-a928279a7a08",
   "metadata": {},
   "outputs": [
    {
     "name": "stdout",
     "output_type": "stream",
     "text": [
      "found: 64\n"
     ]
    }
   ],
   "source": [
    "nums = [12, 47, 51, 38, 64, 29]\n",
    "\n",
    "for num in nums:\n",
    "    if num > 50 and num %2 == 0:\n",
    "        print(\"found: \" + str(num))\n",
    "        break\n",
    "else:\n",
    "     print(\"No\")"
   ]
  },
  {
   "cell_type": "code",
   "execution_count": 95,
   "id": "487a5ba6-4b4c-4899-b50d-e2ea560e3d0a",
   "metadata": {},
   "outputs": [
    {
     "name": "stdout",
     "output_type": "stream",
     "text": [
      "True\n"
     ]
    }
   ],
   "source": [
    "nums = [12, 47, 51, 38, 64, 29]\n",
    "found = any(x>50 and x%2 ==0 for x in nums )\n",
    "print(found)"
   ]
  },
  {
   "cell_type": "code",
   "execution_count": 125,
   "id": "4382ef8e-45ad-43e2-b7db-319c00af407a",
   "metadata": {},
   "outputs": [
    {
     "name": "stdout",
     "output_type": "stream",
     "text": [
      "[12, 38]\n"
     ]
    }
   ],
   "source": [
    "nums = [12, 47, 51, 38, 64, 29]\n",
    "\n",
    "hits = []\n",
    "\n",
    "for i in nums:\n",
    "    if i <50 and i%2 == 0:\n",
    "        hits.append(i)\n",
    "\n",
    "print(hits)"
   ]
  },
  {
   "cell_type": "code",
   "execution_count": 133,
   "id": "f7c5e484-881c-4a65-9992-fdb3b8a7e2ee",
   "metadata": {},
   "outputs": [
    {
     "name": "stdout",
     "output_type": "stream",
     "text": [
      "[9, 49, 100]\n",
      "158\n"
     ]
    }
   ],
   "source": [
    "nums = [3, -2, 7, 0, -5, 10]\n",
    "\n",
    "positive = []\n",
    "\n",
    "for i in nums:\n",
    "    if i > 0:\n",
    "        y = i*i\n",
    "        positive.append(y)\n",
    "\n",
    "print(positive)\n",
    "\n",
    "total = 0\n",
    "\n",
    "for p in positive:\n",
    "    total += p\n",
    "\n",
    "print(total)"
   ]
  },
  {
   "cell_type": "code",
   "execution_count": 137,
   "id": "8188c6d8-5ca2-4c48-ab49-e19216291e0c",
   "metadata": {},
   "outputs": [
    {
     "name": "stdout",
     "output_type": "stream",
     "text": [
      "[9, 49, 100]\n",
      "158\n"
     ]
    }
   ],
   "source": [
    "nums = [3, -2, 7, 0, -5, 10]\n",
    "\n",
    "positive = []\n",
    "total = 0\n",
    "\n",
    "for i in nums:\n",
    "    if i > 0:\n",
    "        y = i*i\n",
    "        positive.append(y)\n",
    "        total += y\n",
    "print(total)"
   ]
  },
  {
   "cell_type": "code",
   "execution_count": null,
   "id": "e4c3cb2c-8b83-4639-a57f-f3f93715061b",
   "metadata": {},
   "outputs": [],
   "source": [
    "*\n",
    "**\n",
    "***\n",
    "****\n",
    "*****"
   ]
  },
  {
   "cell_type": "code",
   "execution_count": 143,
   "id": "56ef1162-d935-42f6-8373-64d86b4e4549",
   "metadata": {
    "scrolled": true
   },
   "outputs": [
    {
     "name": "stdout",
     "output_type": "stream",
     "text": [
      "['python', 'data', 'pip', 'set', 'pandas']\n"
     ]
    }
   ],
   "source": [
    "words = [\" python \", \"Data\", \"pip\", \"set\", \"Pandas\"]\n",
    "clean = []\n",
    "\n",
    "for i in words:\n",
    "    y = i.strip()\n",
    "    x = y.lower()\n",
    "    clean.append(x)\n",
    "\n",
    "print(clean)"
   ]
  },
  {
   "cell_type": "code",
   "execution_count": 148,
   "id": "61c469a1-4057-455f-9cee-bec8074b015f",
   "metadata": {},
   "outputs": [
    {
     "name": "stdout",
     "output_type": "stream",
     "text": [
      "5\n",
      "4\n",
      "3\n",
      "2\n",
      "1\n",
      "Go\n"
     ]
    }
   ],
   "source": [
    "i = 6\n",
    "\n",
    "while i > 1:\n",
    "    i -=1\n",
    "    print(i)\n",
    "\n",
    "print(\"Go\")"
   ]
  },
  {
   "cell_type": "code",
   "execution_count": 182,
   "id": "ec1f75e1-3c1f-4649-9a88-ef4f103c9326",
   "metadata": {},
   "outputs": [
    {
     "name": "stdout",
     "output_type": "stream",
     "text": [
      "3\n",
      "5\n",
      "9\n"
     ]
    }
   ],
   "source": [
    "data = [3, 5, 9, -1, 7, 8]\n",
    "\n",
    "# while i < len(data) and data[i]>0:\n",
    "#     print(i)\n",
    "\n",
    "# Print each number until you hit a negative, then stop (don’t print the negative or anything after).\n",
    "\n",
    "for i in data:\n",
    "    if i >0:\n",
    "        print(i)\n",
    "    else:\n",
    "        break\n",
    "\n"
   ]
  },
  {
   "cell_type": "code",
   "execution_count": 176,
   "id": "d0ae0aae-7911-4251-a581-73618ca97f20",
   "metadata": {
    "scrolled": true
   },
   "outputs": [
    {
     "name": "stdout",
     "output_type": "stream",
     "text": [
      "3\n",
      "5\n",
      "9\n"
     ]
    }
   ],
   "source": [
    "data = [3, 5, 9, -1, 7, 8]\n",
    "\n",
    "i = 0\n",
    "\n",
    "while i<=len(data) and data[i] >0:\n",
    "    print(data[i])\n",
    "    i +=1"
   ]
  },
  {
   "cell_type": "code",
   "execution_count": 185,
   "id": "4e016347-019d-4292-ae1f-7abc1936f5fe",
   "metadata": {},
   "outputs": [
    {
     "name": "stdout",
     "output_type": "stream",
     "text": [
      "9\n"
     ]
    }
   ],
   "source": [
    "# Given nums = [4, 9, 12, 7, 18, 3], use while to find the index of the first number divisible by 3. If none, print -1.\n",
    "\n",
    "\n",
    "nums = [4, 9, 12, 7, 18, 3]\n",
    "\n",
    "for i in nums:\n",
    "    if i%3 == 0:\n",
    "        print(i)\n",
    "        break"
   ]
  },
  {
   "cell_type": "code",
   "execution_count": 16,
   "id": "2966407f-b821-4f26-a0d2-e2ac4c3c5724",
   "metadata": {},
   "outputs": [
    {
     "name": "stdout",
     "output_type": "stream",
     "text": [
      "-1\n"
     ]
    }
   ],
   "source": [
    "nums = [5, 7, 13, 7, 19, 2]\n",
    "\n",
    "i = 0\n",
    "\n",
    "while i < len(nums):\n",
    "    if nums[i] % 3 == 0:\n",
    "        print(nums[i])\n",
    "        break\n",
    "    i +=1\n",
    "else:\n",
    "    print(-1)"
   ]
  },
  {
   "cell_type": "code",
   "execution_count": 40,
   "id": "8c555636-2f62-4510-9b64-29eca7bb8283",
   "metadata": {},
   "outputs": [
    {
     "name": "stdout",
     "output_type": "stream",
     "text": [
      "['Room', '21', 'on', '3', 'rd', 'floor,', 'code', '9042']\n",
      "3\n"
     ]
    }
   ],
   "source": [
    "s = \"Room 21 on 3 rd floor, code 9042\"\n",
    "\n",
    "words = s.split()\n",
    "\n",
    "print(words)\n",
    "\n",
    "x = 0\n",
    "\n",
    "for i in words:\n",
    "    if i.isdigit() == True:\n",
    "        x +=1\n",
    "\n",
    "print(x)"
   ]
  },
  {
   "cell_type": "code",
   "execution_count": 48,
   "id": "df3efe15-4706-4482-a043-38418807984f",
   "metadata": {},
   "outputs": [
    {
     "name": "stdout",
     "output_type": "stream",
     "text": [
      "7\n"
     ]
    }
   ],
   "source": [
    "s = \"Room 21 on 3 rd floor, code 9042\"\n",
    "\n",
    "x = 0\n",
    "i = 0\n",
    "\n",
    "while i < len(s):\n",
    "    if s[i].isdigit() == True:\n",
    "        x+=1\n",
    "    i +=1\n",
    "\n",
    "print(x)"
   ]
  },
  {
   "cell_type": "code",
   "execution_count": 1,
   "id": "1e494d61-d075-442e-9985-24671a1e7103",
   "metadata": {},
   "outputs": [
    {
     "name": "stdout",
     "output_type": "stream",
     "text": [
      "3628800\n"
     ]
    }
   ],
   "source": [
    "num = 10\n",
    "\n",
    "ans = 1\n",
    "\n",
    "while num>1:\n",
    "    ans *= num\n",
    "    num = num - 1\n",
    "    \n",
    "print(ans)"
   ]
  },
  {
   "cell_type": "code",
   "execution_count": 18,
   "id": "8942fc19-5495-40ac-8767-4cb20a1070f7",
   "metadata": {},
   "outputs": [
    {
     "name": "stdout",
     "output_type": "stream",
     "text": [
      "nohtyp\n"
     ]
    }
   ],
   "source": [
    "word = \"python\"\n",
    "rev = \"\"\n",
    "i = len(word) - 1\n",
    "\n",
    "while i>=0:\n",
    "    letter = word[i]\n",
    "    rev = rev + letter\n",
    "    i = i - 1\n",
    "\n",
    "print(rev)"
   ]
  },
  {
   "cell_type": "code",
   "execution_count": 25,
   "id": "25dbc853-7d6e-4b6e-8227-326bd72a2334",
   "metadata": {},
   "outputs": [
    {
     "name": "stdout",
     "output_type": "stream",
     "text": [
      "nohtyp\n"
     ]
    }
   ],
   "source": [
    "word = \"python\"\n",
    "rev = \"\"\n",
    "i = len(word)-1\n",
    "\n",
    "while i>=0:\n",
    "    letter = word[i]\n",
    "    rev = rev + letter\n",
    "    i = i - 1\n",
    "\n",
    "print(rev)"
   ]
  },
  {
   "cell_type": "code",
   "execution_count": null,
   "id": "91bfac7c-eeaf-4741-9340-b418d0a19911",
   "metadata": {},
   "outputs": [],
   "source": []
  },
  {
   "cell_type": "code",
   "execution_count": 65,
   "id": "1ccee126-ec41-4904-9d5b-e5ec2eb0c856",
   "metadata": {},
   "outputs": [
    {
     "name": "stdout",
     "output_type": "stream",
     "text": [
      "[(0, 'p'), (1, 'y'), (2, 't'), (3, 'h'), (4, 'o'), (5, 'n')]\n"
     ]
    }
   ],
   "source": [
    "word = \"python\"\n",
    "positions = []\n",
    "\n",
    "for i in word:\n",
    "    if len(word)>=0:\n",
    "        positions.append(i)\n",
    "\n",
    "enumerate_list = list(enumerate(positions))\n",
    "print(enumerate_list)"
   ]
  },
  {
   "cell_type": "code",
   "execution_count": 77,
   "id": "edcc9e49-c94b-4dea-94a3-d0515b0d0dd0",
   "metadata": {},
   "outputs": [
    {
     "name": "stdout",
     "output_type": "stream",
     "text": [
      "[(0, 'p'), (1, 'y'), (2, 't'), (3, 'h'), (4, 'o'), (5, 'n')]\n"
     ]
    }
   ],
   "source": [
    "word = \"python\"\n",
    "positions = []\n",
    "\n",
    "i = 0\n",
    "\n",
    "while len(word)>=0 and i < len(word):\n",
    "    positions.append(word[i])\n",
    "    i += 1\n",
    "\n",
    "print(list(enumerate(positions)))"
   ]
  },
  {
   "cell_type": "code",
   "execution_count": 78,
   "id": "3be8c7d4-324d-4da8-9820-59f0ab7cf77d",
   "metadata": {},
   "outputs": [
    {
     "name": "stdout",
     "output_type": "stream",
     "text": [
      "[(0, 'p'), (1, 'y'), (2, 't'), (3, 'h'), (4, 'o'), (5, 'n')]\n"
     ]
    }
   ],
   "source": [
    "word = \"python\"\n",
    "positions = []\n",
    "\n",
    "for i in word:\n",
    "    if len(word)>=0:\n",
    "        positions.append(i)\n",
    "\n",
    "enumerate_list = list(enumerate(positions))\n",
    "print(enumerate_list)"
   ]
  },
  {
   "cell_type": "code",
   "execution_count": 83,
   "id": "e5daede4-1f3b-4015-9a2a-15327bbf48d8",
   "metadata": {},
   "outputs": [
    {
     "name": "stdout",
     "output_type": "stream",
     "text": [
      "{'p': 0, 'y': 1, 't': 2, 'h': 3, 'o': 4, 'n': 5}\n"
     ]
    }
   ],
   "source": [
    "# target shape: {'p': 0, 'y': 1, 't': 2, 'h': 3, 'o': 4, 'n': 5}\n",
    "positions = {}\n",
    "x = 0\n",
    "\n",
    "for i in word:\n",
    "    if len(word)>=0:\n",
    "        positions.update({i:x})\n",
    "        x +=1\n",
    "\n",
    "print(positions)"
   ]
  },
  {
   "cell_type": "code",
   "execution_count": 89,
   "id": "d760b1c2-93aa-4b78-8ec9-7675c226d546",
   "metadata": {},
   "outputs": [
    {
     "name": "stdout",
     "output_type": "stream",
     "text": [
      "{'b': 0, 'a': 5, 'n': 4}\n"
     ]
    }
   ],
   "source": [
    "word = \"banana\"\n",
    "positions = {}\n",
    "\n",
    "i = 0\n",
    "x = 0\n",
    "\n",
    "while len(word)>=0 and i < len(word):\n",
    "    letter = word[i]\n",
    "    positions.update({letter:x})\n",
    "    i += 1\n",
    "    x += 1\n",
    "\n",
    "print(positions)\n",
    "# print(list(enumerate(positions)))"
   ]
  },
  {
   "cell_type": "code",
   "execution_count": 95,
   "id": "ae671c80-b1fb-4277-bb07-d96dc3aa58af",
   "metadata": {},
   "outputs": [
    {
     "name": "stdout",
     "output_type": "stream",
     "text": [
      "*\n",
      "**\n",
      "***\n",
      "****\n",
      "*****\n"
     ]
    }
   ],
   "source": [
    "for i in range(1,6):\n",
    "    print(i*\"*\")"
   ]
  },
  {
   "cell_type": "code",
   "execution_count": 97,
   "id": "34147250-39c1-45f1-a6e1-da4f359a57b2",
   "metadata": {},
   "outputs": [
    {
     "name": "stdout",
     "output_type": "stream",
     "text": [
      "*****\n",
      "****\n",
      "***\n",
      "**\n",
      "*\n"
     ]
    }
   ],
   "source": [
    "for i in range(5,0,-1):\n",
    "    print(i*\"*\")"
   ]
  },
  {
   "cell_type": "code",
   "execution_count": 98,
   "id": "99668371-8bb0-4424-bd4d-b8e378e78803",
   "metadata": {},
   "outputs": [
    {
     "name": "stdout",
     "output_type": "stream",
     "text": [
      "*\n",
      "**\n",
      "***\n",
      "****\n",
      "*****\n"
     ]
    }
   ],
   "source": [
    "i = 1\n",
    "\n",
    "while i<=5:\n",
    "    print(i*\"*\")\n",
    "    i +=1"
   ]
  },
  {
   "cell_type": "code",
   "execution_count": 106,
   "id": "7f04b314-2a8e-42ff-9fe7-86f10dd85d95",
   "metadata": {},
   "outputs": [
    {
     "name": "stdout",
     "output_type": "stream",
     "text": [
      "**\n",
      "*\n",
      "\n"
     ]
    }
   ],
   "source": [
    "i = 2\n",
    "\n",
    "while i>=0:\n",
    "    print(i*\"*\")\n",
    "    i -= 1"
   ]
  },
  {
   "cell_type": "code",
   "execution_count": 107,
   "id": "35235e01-0790-41ce-ad52-0c3bb64a8451",
   "metadata": {},
   "outputs": [
    {
     "data": {
      "text/plain": [
       "[1, 4, 9]"
      ]
     },
     "execution_count": 107,
     "metadata": {},
     "output_type": "execute_result"
    }
   ],
   "source": [
    "[x*x for x in [1,2,3]]"
   ]
  },
  {
   "cell_type": "code",
   "execution_count": 115,
   "id": "3714b491-37de-47b7-83b4-9b11fed49aff",
   "metadata": {},
   "outputs": [
    {
     "name": "stdout",
     "output_type": "stream",
     "text": [
      "[100]\n"
     ]
    }
   ],
   "source": [
    "nums = [3, -2, 7, 0, -5, 10]\n",
    "\n",
    "nums_output = [i * i for i in nums if i > 0 and i%2 == 0]\n",
    "\n",
    "print(nums_output)"
   ]
  },
  {
   "cell_type": "code",
   "execution_count": 119,
   "id": "d8910502-d4e6-43d9-a102-0a6a435e43f4",
   "metadata": {},
   "outputs": [
    {
     "name": "stdout",
     "output_type": "stream",
     "text": [
      "['x.com', 'y.org', 'z.net']\n"
     ]
    }
   ],
   "source": [
    "emails = [\"a@x.com\",\"b@y.org\",\"c@z.net\"]\n",
    "\n",
    "email_split = [i.split(\"@\")[1] for i in emails]\n",
    "\n",
    "print(email_split)"
   ]
  },
  {
   "cell_type": "code",
   "execution_count": 121,
   "id": "bb55b436-d138-4dd9-9360-4fda0b35842f",
   "metadata": {},
   "outputs": [
    {
     "name": "stdout",
     "output_type": "stream",
     "text": [
      "{'alpha': 5, 'be': 2, 'see': 3, 'dee': 3}\n"
     ]
    }
   ],
   "source": [
    "words = [\"Alpha\", \"be\", \"see\", \"Dee\"]\n",
    "\n",
    "word_dic = {i.lower():len(i) for i in words}\n",
    "\n",
    "print(word_dic)"
   ]
  },
  {
   "cell_type": "code",
   "execution_count": 150,
   "id": "62b2b05c-f12a-4298-9d86-a15d942b00e7",
   "metadata": {},
   "outputs": [
    {
     "name": "stdout",
     "output_type": "stream",
     "text": [
      "{'x.com': 0, 'y.org': 0, 'z.net': 0}\n"
     ]
    }
   ],
   "source": [
    "emails = [\"a@x.com\",\"b@y.org\",\"c@z.net\",\"d@x.com\",\"e@y.org\",\"f@x.com\"]\n",
    "\n",
    "emails_split = [i.split(\"@\")[1] for i in emails]\n",
    "\n",
    "emails_dic = {x:sum(1 for y in email_split if y == email_split) for x in emails_split}\n",
    "\n",
    "print(emails_dic)"
   ]
  },
  {
   "cell_type": "code",
   "execution_count": 137,
   "id": "af74a96b-cb79-4166-9427-810a57826a56",
   "metadata": {},
   "outputs": [
    {
     "name": "stdout",
     "output_type": "stream",
     "text": [
      "{'apple': 2, 'banana': 3, 'orange': 1}\n"
     ]
    }
   ],
   "source": [
    "words = ['apple', 'banana', 'apple', 'orange', 'banana', 'banana']\n",
    "\n",
    "word_dic = {}\n",
    "\n",
    "for i in words:\n",
    "    if i in word_dic:\n",
    "        word_dic[i] += 1\n",
    "    else:\n",
    "        word_dic[i] = 1\n",
    "\n",
    "print(word_dic)"
   ]
  },
  {
   "cell_type": "code",
   "execution_count": 147,
   "id": "fbc6dd51-d8d2-435f-9267-40e091117a75",
   "metadata": {},
   "outputs": [
    {
     "name": "stdout",
     "output_type": "stream",
     "text": [
      "{'x.com': 3, 'y.org': 2, 'z.net': 1}\n"
     ]
    }
   ],
   "source": [
    "emails = [\"a@x.com\",\"b@y.org\",\"c@z.net\",\"d@x.com\",\"e@y.org\",\"f@x.com\"]\n",
    "\n",
    "email_list = []\n",
    "\n",
    "for i in emails:\n",
    "    x = i.split(\"@\")[1]\n",
    "    email_list.append(x)\n",
    "\n",
    "email_count = {}\n",
    "\n",
    "for i in email_list:\n",
    "    if i in email_count:\n",
    "        email_count[i] += 1\n",
    "    else:\n",
    "        email_count[i] = 1\n",
    "\n",
    "print(email_count)"
   ]
  },
  {
   "cell_type": "code",
   "execution_count": 5,
   "id": "68843b4a-ca35-4484-909e-3e6fb0a22953",
   "metadata": {
    "scrolled": true
   },
   "outputs": [
    {
     "name": "stdout",
     "output_type": "stream",
     "text": [
      "5\n",
      "0\n",
      "10\n"
     ]
    }
   ],
   "source": [
    "def clips(x, lo, high):\n",
    "    if x < lo:\n",
    "        return lo\n",
    "    elif x > high:\n",
    "        return high\n",
    "    else:\n",
    "        return x\n",
    "\n",
    "print(clips(5,0,10))\n",
    "print(clips(-3,0,10))\n",
    "print(clips(99, 0, 10))"
   ]
  },
  {
   "cell_type": "code",
   "execution_count": 12,
   "id": "9fe81761-f2b7-4774-ad5d-f3f53c9ecc4a",
   "metadata": {},
   "outputs": [
    {
     "name": "stdout",
     "output_type": "stream",
     "text": [
      "Hi Rakshit\n",
      "Hi there\n"
     ]
    }
   ],
   "source": [
    "def greet(name = \"there\"):\n",
    "    return \"Hi \" + name\n",
    "\n",
    "print(greet(\"Rakshit\"))\n",
    "print(greet())"
   ]
  },
  {
   "cell_type": "code",
   "execution_count": 19,
   "id": "5792ebd9-af6d-4a40-bf61-22d0421e292a",
   "metadata": {},
   "outputs": [
    {
     "name": "stdout",
     "output_type": "stream",
     "text": [
      "8\n",
      "243\n"
     ]
    }
   ],
   "source": [
    "def powerbase(base, power):\n",
    "    return base ** power\n",
    "\n",
    "\n",
    "print(powerbase(2,3))\n",
    "print(powerbase(power=5, base=3))\n"
   ]
  },
  {
   "cell_type": "code",
   "execution_count": 24,
   "id": "88a406f2-863f-4485-bad0-6b9668b3f945",
   "metadata": {},
   "outputs": [
    {
     "name": "stdout",
     "output_type": "stream",
     "text": [
      "A|B|C\n",
      "A-B-C\n"
     ]
    }
   ],
   "source": [
    "def join3(a, b, c, sep=\"-\"):\n",
    "    return f\"{a}{sep}{b}{sep}{c}\"\n",
    "\n",
    "print(join3(\"A\",\"B\", \"C\", sep = \"|\"))\n",
    "print(join3(\"A\",\"B\", \"C\"))"
   ]
  },
  {
   "cell_type": "code",
   "execution_count": 25,
   "id": "62353b2c-6ff0-47a4-b9fd-f9138896a1f5",
   "metadata": {},
   "outputs": [
    {
     "data": {
      "text/plain": [
       "10"
      ]
     },
     "execution_count": 25,
     "metadata": {},
     "output_type": "execute_result"
    }
   ],
   "source": [
    "def total(*nums):\n",
    "    return sum(nums)\n",
    "\n",
    "total(1,2,3,4)"
   ]
  },
  {
   "cell_type": "code",
   "execution_count": 30,
   "id": "e6a51cbe-e8a8-42f0-8c63-c7be255f3020",
   "metadata": {},
   "outputs": [
    {
     "data": {
      "text/plain": [
       "'learn python fast'"
      ]
     },
     "execution_count": 30,
     "metadata": {},
     "output_type": "execute_result"
    }
   ],
   "source": [
    "def concat_part(*parts):\n",
    "    return \" \".join(parts)\n",
    "\n",
    "concat_part(\"learn\",\"python\", \"fast\")"
   ]
  },
  {
   "cell_type": "code",
   "execution_count": 31,
   "id": "dd2f3889-4d96-4053-80b3-35045733f8ee",
   "metadata": {},
   "outputs": [
    {
     "name": "stdout",
     "output_type": "stream",
     "text": [
      "25\n"
     ]
    }
   ],
   "source": [
    "def square(n):\n",
    "    return n**2\n",
    "\n",
    "print(square(5))"
   ]
  },
  {
   "cell_type": "code",
   "execution_count": 33,
   "id": "e7030e96-47e6-4a84-91fb-a6b2a95bd721",
   "metadata": {},
   "outputs": [
    {
     "name": "stdout",
     "output_type": "stream",
     "text": [
      "Its Even!\n"
     ]
    }
   ],
   "source": [
    "def is_even(num):\n",
    "    if num % 2 == 0:\n",
    "        return \"Its Even!\"\n",
    "    else:\n",
    "        return \"Its Odd\"\n",
    "\n",
    "print(is_even(4))"
   ]
  },
  {
   "cell_type": "code",
   "execution_count": 69,
   "id": "1197a926-a98a-4336-94e3-b00854d8b9fe",
   "metadata": {},
   "outputs": [
    {
     "name": "stdout",
     "output_type": "stream",
     "text": [
      "3\n"
     ]
    }
   ],
   "source": [
    "def is_vowel(word):\n",
    "    x = word.lower()\n",
    "    vowel = [\"a\", \"e\", \"i\", \"o\", \"u\"]\n",
    "    y = []\n",
    "    counter = 0\n",
    "    for i in x:\n",
    "        if len(x)>=0:\n",
    "            y.append(i)\n",
    "\n",
    "    for z in y:\n",
    "        if z in vowel:\n",
    "            counter += 1\n",
    "\n",
    "    return counter\n",
    "            \n",
    "\n",
    "print(is_vowel(\"HEAAT\"))"
   ]
  },
  {
   "cell_type": "code",
   "execution_count": 72,
   "id": "8bfd61d2-1ff7-4636-aa20-861819c037e8",
   "metadata": {},
   "outputs": [
    {
     "data": {
      "text/plain": [
       "'Hi there'"
      ]
     },
     "execution_count": 72,
     "metadata": {},
     "output_type": "execute_result"
    }
   ],
   "source": [
    "def greetings(name = \"there\"):\n",
    "    return f\"Hi {name}\"\n",
    "\n",
    "greetings()"
   ]
  },
  {
   "cell_type": "code",
   "execution_count": 74,
   "id": "ae05629a-ae64-438c-be77-20f9dcb26687",
   "metadata": {},
   "outputs": [
    {
     "data": {
      "text/plain": [
       "'5|4|1'"
      ]
     },
     "execution_count": 74,
     "metadata": {},
     "output_type": "execute_result"
    }
   ],
   "source": [
    "def join3(a, b, c, sep = \"-\"):\n",
    "    return f\"{a}{sep}{b}{sep}{c}\"\n",
    "\n",
    "join3(5,4,1, \"|\")"
   ]
  },
  {
   "cell_type": "code",
   "execution_count": 91,
   "id": "1f9c4d0a-128d-40d1-9fca-7d8074dba52c",
   "metadata": {},
   "outputs": [
    {
     "name": "stdout",
     "output_type": "stream",
     "text": [
      "this-is-test\n"
     ]
    }
   ],
   "source": [
    "def slugify(text, sep=\"-\"):\n",
    "    \n",
    "    y = sep.join((text.lower()).split())\n",
    "    # x = sep.join(y)\n",
    "\n",
    "    return f\"{y}\"\n",
    "\n",
    "print(slugify(\" This is test \"))"
   ]
  },
  {
   "cell_type": "code",
   "execution_count": 92,
   "id": "c4544105-98f6-4125-ab0c-e60177630b58",
   "metadata": {},
   "outputs": [
    {
     "data": {
      "text/plain": [
       "12"
      ]
     },
     "execution_count": 92,
     "metadata": {},
     "output_type": "execute_result"
    }
   ],
   "source": [
    "def total(*nums):\n",
    "    return sum(nums)\n",
    "\n",
    "total(1,5,6)"
   ]
  },
  {
   "cell_type": "code",
   "execution_count": 106,
   "id": "5aaf07af-7f16-47b1-bf99-8cbf3afa317f",
   "metadata": {},
   "outputs": [
    {
     "name": "stdout",
     "output_type": "stream",
     "text": [
      "720\n"
     ]
    }
   ],
   "source": [
    "def product(*nums):\n",
    "    p = 1\n",
    "    for i in nums:\n",
    "        p *= i\n",
    "        \n",
    "    return p\n",
    "\n",
    "print(product(2,3,4,5,6))"
   ]
  },
  {
   "cell_type": "code",
   "execution_count": 107,
   "id": "51cc631b-1a64-4a05-9e2d-285ee621d0b0",
   "metadata": {},
   "outputs": [
    {
     "name": "stdout",
     "output_type": "stream",
     "text": [
      "word1 word2\n"
     ]
    }
   ],
   "source": [
    "def concat(sep, *word):\n",
    "    return sep.join(word)\n",
    "\n",
    "print(concat(\" \", \"word1\", \"word2\"))"
   ]
  },
  {
   "cell_type": "code",
   "execution_count": 9,
   "id": "a023eddd-755a-475a-a248-40cb1e2ac7f1",
   "metadata": {},
   "outputs": [
    {
     "name": "stdout",
     "output_type": "stream",
     "text": [
      "{'name': 'Rakshit', 'team': 'Data Science'}\n",
      "{'name': 'Anita', 'team': 'Data Science'}\n"
     ]
    }
   ],
   "source": [
    "def user_format(name, **info):\n",
    "    profile = {\"name\":name}\n",
    "    profile.update(info)\n",
    "    return profile\n",
    "\n",
    "print(user_format(\"Rakshit\", team = \"Data Science\"))\n",
    "print(user_format(\"Anita\", team = \"Data Science\"))\n",
    "\n",
    "\n",
    "#Kwargs: the **info parameter will keep on updating as and when you add other details. \n",
    "#And all will get combined into one dictionary"
   ]
  },
  {
   "cell_type": "code",
   "execution_count": null,
   "id": "3bf3ce00-c82a-4259-b19a-038eaf837650",
   "metadata": {},
   "outputs": [],
   "source": []
  }
 ],
 "metadata": {
  "kernelspec": {
   "display_name": "Python [conda env:base] *",
   "language": "python",
   "name": "conda-base-py"
  },
  "language_info": {
   "codemirror_mode": {
    "name": "ipython",
    "version": 3
   },
   "file_extension": ".py",
   "mimetype": "text/x-python",
   "name": "python",
   "nbconvert_exporter": "python",
   "pygments_lexer": "ipython3",
   "version": "3.13.5"
  }
 },
 "nbformat": 4,
 "nbformat_minor": 5
}
