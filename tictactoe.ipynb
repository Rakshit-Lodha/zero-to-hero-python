{
 "cells": [
  {
   "cell_type": "code",
   "execution_count": 404,
   "id": "87474df5-dbb7-40ac-ad34-aa80d1174110",
   "metadata": {},
   "outputs": [],
   "source": [
    "def print_board(board):\n",
    "    print(board[7] + '|'+ board[8] + '|' + board[9])\n",
    "    print('-----')\n",
    "    print(board[4] + '|'+ board[5] + '|' + board[6])\n",
    "    print('-----')\n",
    "    print(board[1] + '|'+ board[2] + '|' + board[3])"
   ]
  },
  {
   "cell_type": "code",
   "execution_count": 405,
   "id": "d881848d-3d7a-468e-b186-dc8facfc8d02",
   "metadata": {},
   "outputs": [],
   "source": [
    "def ask_player():\n",
    "    inp = False\n",
    "    while inp == False:\n",
    "        player_1 = input(\"Player 1, what do you want to play as? (X or O) \")\n",
    "        if player_1 in ['X','O']:\n",
    "            inp = True\n",
    "        else:\n",
    "            print(\"Not the correct X or O, try again! \")\n",
    "    return player_1"
   ]
  },
  {
   "cell_type": "code",
   "execution_count": 406,
   "id": "2cf42dcb-8f3b-42e3-af7b-ab260dbc17b0",
   "metadata": {},
   "outputs": [
    {
     "name": "stdin",
     "output_type": "stream",
     "text": [
      "Player 1, what do you want to play as? (X or O)  X\n"
     ]
    }
   ],
   "source": [
    "player_1_input = ask_player()"
   ]
  },
  {
   "cell_type": "code",
   "execution_count": 407,
   "id": "6e8f030e-8b70-4c4e-ab59-66dcf3afbff0",
   "metadata": {},
   "outputs": [],
   "source": [
    "def player_2(player):\n",
    "    player_2_input = ''\n",
    "    if player == 'X':\n",
    "        player_2_input = 'O'\n",
    "    else:\n",
    "        player_2_input = 'X'\n",
    "        \n",
    "    return player_2_input\n",
    "        "
   ]
  },
  {
   "cell_type": "code",
   "execution_count": 408,
   "id": "da8dd349-c5c9-4b51-934d-dee57781ab32",
   "metadata": {},
   "outputs": [
    {
     "data": {
      "text/plain": [
       "'O'"
      ]
     },
     "execution_count": 408,
     "metadata": {},
     "output_type": "execute_result"
    }
   ],
   "source": [
    "player_2_input = player_2(player_1_input)\n",
    "\n",
    "player_2_input"
   ]
  },
  {
   "cell_type": "code",
   "execution_count": 409,
   "id": "fde9604f-1caf-4089-9905-b2cc8aaca4c4",
   "metadata": {},
   "outputs": [
    {
     "name": "stdout",
     "output_type": "stream",
     "text": [
      " | | \n",
      "-----\n",
      " | | \n",
      "-----\n",
      " | | \n"
     ]
    }
   ],
   "source": [
    "test_board = ['#',' ',' ',' ',' ',' ',' ',' ',' ',' ']\n",
    "print_board(test_board)"
   ]
  },
  {
   "cell_type": "code",
   "execution_count": 410,
   "id": "9a49418f-f552-4ff9-9efb-42c082b98a38",
   "metadata": {},
   "outputs": [],
   "source": [
    "def game_input(board):\n",
    "    x = False\n",
    "\n",
    "    while x == False:\n",
    "        position = input(\"Which position do you want? (1-9) \")\n",
    "        if position.isdigit() == False or int(position) not in range(1,10) or board[int(position)] != ' ':\n",
    "            print(\"Please enter a valid position \")\n",
    "        else:\n",
    "            position_int = int(position)\n",
    "            x = True\n",
    "\n",
    "    return position_int"
   ]
  },
  {
   "cell_type": "code",
   "execution_count": 412,
   "id": "29666b0d-4e51-4ca5-b19b-d6c2e0291c80",
   "metadata": {},
   "outputs": [
    {
     "name": "stdin",
     "output_type": "stream",
     "text": [
      "Which position do you want? (1-9)  1\n"
     ]
    }
   ],
   "source": [
    "position = game_input(test_board)"
   ]
  },
  {
   "cell_type": "code",
   "execution_count": 413,
   "id": "1cb83fa2-4f3a-4f06-a100-577e01ac3e3a",
   "metadata": {},
   "outputs": [],
   "source": [
    "def actual_game(board, marker, position):\n",
    "    board[position] = marker\n",
    "    print_board(board)\n",
    "    return board"
   ]
  },
  {
   "cell_type": "code",
   "execution_count": 414,
   "id": "dae48bcc-8c90-489a-85ef-afed74a339ec",
   "metadata": {},
   "outputs": [
    {
     "name": "stdout",
     "output_type": "stream",
     "text": [
      " | | \n",
      "-----\n",
      " | | \n",
      "-----\n",
      "X| | \n"
     ]
    },
    {
     "data": {
      "text/plain": [
       "['#', 'X', ' ', ' ', ' ', ' ', ' ', ' ', ' ', ' ']"
      ]
     },
     "execution_count": 414,
     "metadata": {},
     "output_type": "execute_result"
    }
   ],
   "source": [
    "actual_game(test_board, player_1_input, position)"
   ]
  },
  {
   "cell_type": "code",
   "execution_count": 415,
   "id": "e4c7e0e8-17fd-44bb-9a2a-d0e38830a1a0",
   "metadata": {},
   "outputs": [],
   "source": [
    "def switch_marker(marker):\n",
    "    next_turn = 'O'\n",
    "    if marker == 'X':\n",
    "        next_turn = 'O'\n",
    "    else:\n",
    "        next_turn = 'X'\n",
    "    return next_turn\n",
    "        "
   ]
  },
  {
   "cell_type": "code",
   "execution_count": null,
   "id": "5bbaa3cf-c9ea-4589-857e-fc43d1fc3040",
   "metadata": {},
   "outputs": [],
   "source": []
  },
  {
   "cell_type": "code",
   "execution_count": 416,
   "id": "a1e7cb59-9315-43e1-9404-bce182242949",
   "metadata": {},
   "outputs": [],
   "source": [
    "def win_board(board,mark):\n",
    "    print(\"WB type(board):\", type(board))\n",
    "    winnings = [(1,2,3), (4,5,6), (7,8,9), (1,4,7), (2,5,8), (3,6,9), (1,5,9), (3,5,7)]\n",
    "\n",
    "    win = False\n",
    "\n",
    "    for a,b,c in winnings:\n",
    "        if board[a] == board[b] == board [c] == mark:\n",
    "            win = True\n",
    "        \n",
    "    return win"
   ]
  },
  {
   "cell_type": "code",
   "execution_count": 417,
   "id": "3226c2de-f377-4c94-8148-732da8ae99f9",
   "metadata": {},
   "outputs": [
    {
     "name": "stdout",
     "output_type": "stream",
     "text": [
      "WB type(board): <class 'list'>\n"
     ]
    },
    {
     "data": {
      "text/plain": [
       "True"
      ]
     },
     "execution_count": 417,
     "metadata": {},
     "output_type": "execute_result"
    }
   ],
   "source": [
    "test_board = ['#','X','X','X',' ',' ',' ',' ',' ',' ']\n",
    "mark = 'X'\n",
    "win_board(test_board,mark)"
   ]
  },
  {
   "cell_type": "code",
   "execution_count": 418,
   "id": "6ecf90df-2259-48b7-8c70-351bcf3663b8",
   "metadata": {},
   "outputs": [],
   "source": [
    "def tie_checker(board):\n",
    "    tie = False\n",
    "    \n",
    "    if ' ' in board[1:]:\n",
    "        tie = False\n",
    "    else:\n",
    "        tie = True\n",
    "\n",
    "    return tie"
   ]
  },
  {
   "cell_type": "code",
   "execution_count": 419,
   "id": "57bb71f8-802b-4afc-a8fc-ae6f8a70729c",
   "metadata": {},
   "outputs": [
    {
     "data": {
      "text/plain": [
       "True"
      ]
     },
     "execution_count": 419,
     "metadata": {},
     "output_type": "execute_result"
    }
   ],
   "source": [
    "test_board = ['#','X','O','X','O','X','O','X','O','X']\n",
    "tie_checker(test_board)"
   ]
  },
  {
   "cell_type": "code",
   "execution_count": 420,
   "id": "9e79117b-49e4-4774-b798-2f85c42b2947",
   "metadata": {},
   "outputs": [],
   "source": [
    "def ask_continue():\n",
    "    game_on = True\n",
    "    accepted_inputs = ['Y','N']\n",
    "    while game_on == True:\n",
    "        input_continue = input(\"Do you want to continue? (Y/N) \")\n",
    "        if input_continue not in accepted_inputs:\n",
    "            print (\"Put acceptable inputs\")\n",
    "        elif input_continue == 'Y':\n",
    "            return True\n",
    "            break\n",
    "        elif input_continue == 'N':\n",
    "            return False\n",
    "            break\n",
    "    return game_on"
   ]
  },
  {
   "cell_type": "code",
   "execution_count": 421,
   "id": "ab0d4154-426b-4f1c-8ace-7964ae3be26e",
   "metadata": {},
   "outputs": [
    {
     "name": "stdin",
     "output_type": "stream",
     "text": [
      "Do you want to continue? (Y/N)  N\n"
     ]
    }
   ],
   "source": [
    "continue_game = ask_continue()"
   ]
  },
  {
   "cell_type": "code",
   "execution_count": 423,
   "id": "a740e2fd-ba65-4da5-a033-a6c0db008dc5",
   "metadata": {},
   "outputs": [],
   "source": [
    "def game_test():\n",
    "    p1 = ask_player()\n",
    "    p2 = player_2(p1)\n",
    "    test_board = ['#',' ',' ',' ',' ',' ',' ',' ',' ',' ']\n",
    "    continue_game = True\n",
    "\n",
    "    current = p1\n",
    "\n",
    "    while continue_game == True:\n",
    "        game = game_input(test_board)\n",
    "        updated_board = actual_game(test_board, current, game)\n",
    "        win_check = win_board(updated_board,current)\n",
    "        tie_check = tie_checker(updated_board)\n",
    "        if win_check == True:\n",
    "            print(\"You Won!\")\n",
    "            break\n",
    "        elif tie_check == True:\n",
    "            print(\"Tie!\")\n",
    "            break\n",
    "        else:\n",
    "            current = switch_marker(current)\n",
    "            continue\n",
    "        \n",
    "    \n",
    "    return updated_board"
   ]
  },
  {
   "cell_type": "code",
   "execution_count": 424,
   "id": "3e7f469b-871c-4015-91e4-f8be79fa1504",
   "metadata": {},
   "outputs": [
    {
     "name": "stdin",
     "output_type": "stream",
     "text": [
      "Player 1, what do you want to play as? (X or O)  X\n",
      "Which position do you want? (1-9)  1\n"
     ]
    },
    {
     "name": "stdout",
     "output_type": "stream",
     "text": [
      " | | \n",
      "-----\n",
      " | | \n",
      "-----\n",
      "X| | \n",
      "WB type(board): <class 'list'>\n"
     ]
    },
    {
     "name": "stdin",
     "output_type": "stream",
     "text": [
      "Which position do you want? (1-9)  2\n"
     ]
    },
    {
     "name": "stdout",
     "output_type": "stream",
     "text": [
      " | | \n",
      "-----\n",
      " | | \n",
      "-----\n",
      "X|O| \n",
      "WB type(board): <class 'list'>\n"
     ]
    },
    {
     "name": "stdin",
     "output_type": "stream",
     "text": [
      "Which position do you want? (1-9)  5\n"
     ]
    },
    {
     "name": "stdout",
     "output_type": "stream",
     "text": [
      " | | \n",
      "-----\n",
      " |X| \n",
      "-----\n",
      "X|O| \n",
      "WB type(board): <class 'list'>\n"
     ]
    },
    {
     "name": "stdin",
     "output_type": "stream",
     "text": [
      "Which position do you want? (1-9)  3\n"
     ]
    },
    {
     "name": "stdout",
     "output_type": "stream",
     "text": [
      " | | \n",
      "-----\n",
      " |X| \n",
      "-----\n",
      "X|O|O\n",
      "WB type(board): <class 'list'>\n"
     ]
    },
    {
     "name": "stdin",
     "output_type": "stream",
     "text": [
      "Which position do you want? (1-9)  9\n"
     ]
    },
    {
     "name": "stdout",
     "output_type": "stream",
     "text": [
      " | |X\n",
      "-----\n",
      " |X| \n",
      "-----\n",
      "X|O|O\n",
      "WB type(board): <class 'list'>\n",
      "You Won!\n"
     ]
    },
    {
     "data": {
      "text/plain": [
       "['#', 'X', 'O', 'O', ' ', 'X', ' ', ' ', ' ', 'X']"
      ]
     },
     "execution_count": 424,
     "metadata": {},
     "output_type": "execute_result"
    }
   ],
   "source": [
    "game_test()"
   ]
  },
  {
   "cell_type": "code",
   "execution_count": null,
   "id": "72e9a1c5-4ebb-42b4-8f39-3d5c179aad8b",
   "metadata": {},
   "outputs": [],
   "source": []
  }
 ],
 "metadata": {
  "kernelspec": {
   "display_name": "Python [conda env:base] *",
   "language": "python",
   "name": "conda-base-py"
  },
  "language_info": {
   "codemirror_mode": {
    "name": "ipython",
    "version": 3
   },
   "file_extension": ".py",
   "mimetype": "text/x-python",
   "name": "python",
   "nbconvert_exporter": "python",
   "pygments_lexer": "ipython3",
   "version": "3.13.5"
  }
 },
 "nbformat": 4,
 "nbformat_minor": 5
}
