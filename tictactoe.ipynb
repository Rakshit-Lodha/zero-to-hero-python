{
 "cells": [
  {
   "cell_type": "code",
   "execution_count": 157,
   "id": "87474df5-dbb7-40ac-ad34-aa80d1174110",
   "metadata": {},
   "outputs": [],
   "source": [
    "def print_board(board):\n",
    "    print(board[7] + '|'+ board[8] + '|' + board[9])\n",
    "    print('-----')\n",
    "    print(board[4] + '|'+ board[5] + '|' + board[6])\n",
    "    print('-----')\n",
    "    print(board[1] + '|'+ board[2] + '|' + board[3])\n",
    "    return print_board"
   ]
  },
  {
   "cell_type": "code",
   "execution_count": 158,
   "id": "d881848d-3d7a-468e-b186-dc8facfc8d02",
   "metadata": {},
   "outputs": [],
   "source": [
    "def ask_player():\n",
    "    inp = False\n",
    "    while inp == False:\n",
    "        player_1 = input(\"Player 1, what do you want to play as? (X or O) \")\n",
    "        if player_1 in ['X','O']:\n",
    "            inp = True\n",
    "        else:\n",
    "            print(\"Not the correct X or O, try again! \")\n",
    "    return player_1"
   ]
  },
  {
   "cell_type": "code",
   "execution_count": 159,
   "id": "2cf42dcb-8f3b-42e3-af7b-ab260dbc17b0",
   "metadata": {},
   "outputs": [
    {
     "name": "stdin",
     "output_type": "stream",
     "text": [
      "Player 1, what do you want to play as? (X or O)  X\n"
     ]
    }
   ],
   "source": [
    "player_1_input = ask_player()"
   ]
  },
  {
   "cell_type": "code",
   "execution_count": 160,
   "id": "6e8f030e-8b70-4c4e-ab59-66dcf3afbff0",
   "metadata": {},
   "outputs": [],
   "source": [
    "def player_2(player):\n",
    "    player_2_input = ''\n",
    "    if player_1_input == 'X':\n",
    "        player_2_input = 'O'\n",
    "    else:\n",
    "        player_2_input = 'X'\n",
    "        \n",
    "    return player_2_input\n",
    "        "
   ]
  },
  {
   "cell_type": "code",
   "execution_count": 161,
   "id": "da8dd349-c5c9-4b51-934d-dee57781ab32",
   "metadata": {},
   "outputs": [
    {
     "data": {
      "text/plain": [
       "'O'"
      ]
     },
     "execution_count": 161,
     "metadata": {},
     "output_type": "execute_result"
    }
   ],
   "source": [
    "player_2_input = player_2(player_1_input)\n",
    "\n",
    "player_2_input"
   ]
  },
  {
   "cell_type": "code",
   "execution_count": 162,
   "id": "fde9604f-1caf-4089-9905-b2cc8aaca4c4",
   "metadata": {},
   "outputs": [
    {
     "name": "stdout",
     "output_type": "stream",
     "text": [
      " | | \n",
      "-----\n",
      " | | \n",
      "-----\n",
      " | | \n"
     ]
    },
    {
     "data": {
      "text/plain": [
       "<function __main__.print_board(board)>"
      ]
     },
     "execution_count": 162,
     "metadata": {},
     "output_type": "execute_result"
    }
   ],
   "source": [
    "test_board = ['#',' ',' ',' ',' ',' ',' ',' ',' ',' ']\n",
    "print_board(test_board)"
   ]
  },
  {
   "cell_type": "code",
   "execution_count": 163,
   "id": "9a49418f-f552-4ff9-9efb-42c082b98a38",
   "metadata": {},
   "outputs": [],
   "source": [
    "def game_input(board):\n",
    "    x = False\n",
    "\n",
    "    while x == False:\n",
    "        position = input(\"Which position do you want? (1-9) \")\n",
    "        if position.isdigit() == False or int(position) not in range(1,10) or board[int(position)] != ' ':\n",
    "            print(\"Please enter a valid position \")\n",
    "        else:\n",
    "            position_int = int(position)\n",
    "            x = True\n",
    "\n",
    "    return position_int"
   ]
  },
  {
   "cell_type": "code",
   "execution_count": 165,
   "id": "29666b0d-4e51-4ca5-b19b-d6c2e0291c80",
   "metadata": {},
   "outputs": [
    {
     "name": "stdin",
     "output_type": "stream",
     "text": [
      "Which position do you want? (1-9)  1\n"
     ]
    }
   ],
   "source": [
    "position = game_input(test_board)"
   ]
  },
  {
   "cell_type": "code",
   "execution_count": 166,
   "id": "1cb83fa2-4f3a-4f06-a100-577e01ac3e3a",
   "metadata": {},
   "outputs": [],
   "source": [
    "def actual_game(board, marker, position):\n",
    "    board[position] = marker\n",
    "    z = print_board(board)\n",
    "    return z"
   ]
  },
  {
   "cell_type": "code",
   "execution_count": 167,
   "id": "dae48bcc-8c90-489a-85ef-afed74a339ec",
   "metadata": {},
   "outputs": [
    {
     "name": "stdout",
     "output_type": "stream",
     "text": [
      " | | \n",
      "-----\n",
      " | | \n",
      "-----\n",
      "X| | \n"
     ]
    },
    {
     "data": {
      "text/plain": [
       "<function __main__.print_board(board)>"
      ]
     },
     "execution_count": 167,
     "metadata": {},
     "output_type": "execute_result"
    }
   ],
   "source": [
    "actual_game(test_board, player_1_input, position)\n"
   ]
  },
  {
   "cell_type": "code",
   "execution_count": null,
   "id": "e4c7e0e8-17fd-44bb-9a2a-d0e38830a1a0",
   "metadata": {},
   "outputs": [],
   "source": []
  }
 ],
 "metadata": {
  "kernelspec": {
   "display_name": "Python [conda env:base] *",
   "language": "python",
   "name": "conda-base-py"
  },
  "language_info": {
   "codemirror_mode": {
    "name": "ipython",
    "version": 3
   },
   "file_extension": ".py",
   "mimetype": "text/x-python",
   "name": "python",
   "nbconvert_exporter": "python",
   "pygments_lexer": "ipython3",
   "version": "3.13.5"
  }
 },
 "nbformat": 4,
 "nbformat_minor": 5
}
